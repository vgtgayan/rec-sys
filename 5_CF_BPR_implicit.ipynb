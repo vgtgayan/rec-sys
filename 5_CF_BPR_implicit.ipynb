{
 "cells": [
  {
   "cell_type": "code",
   "execution_count": 1,
   "id": "0a8a5b14-3f19-4665-b3ec-b50cb9092d6c",
   "metadata": {
    "tags": []
   },
   "outputs": [
    {
     "name": "stderr",
     "output_type": "stream",
     "text": [
      "/Users/tgayanvitharanagamage/anaconda3/envs/rec-sys-py3.11/lib/python3.11/site-packages/tqdm/auto.py:21: TqdmWarning: IProgress not found. Please update jupyter and ipywidgets. See https://ipywidgets.readthedocs.io/en/stable/user_install.html\n",
      "  from .autonotebook import tqdm as notebook_tqdm\n"
     ]
    }
   ],
   "source": [
    "import numpy as np\n",
    "import pandas as pd\n",
    "from implicit.datasets.lastfm import get_lastfm\n",
    "from implicit.nearest_neighbours import bm25_weight\n",
    "from implicit.cpu.bpr import BayesianPersonalizedRanking"
   ]
  },
  {
   "cell_type": "markdown",
   "id": "9255c336-9a3a-4528-bf4e-7673c79013c7",
   "metadata": {},
   "source": [
    "## Experiment with the given example dataset"
   ]
  },
  {
   "cell_type": "code",
   "execution_count": 2,
   "id": "e8fb1d1b-689c-477b-9033-2295ec708804",
   "metadata": {
    "tags": []
   },
   "outputs": [],
   "source": [
    "artists, users, artist_user_plays = get_lastfm()"
   ]
  },
  {
   "cell_type": "code",
   "execution_count": 3,
   "id": "dd311b99-6e08-41cf-b0e4-38f7780ec2ea",
   "metadata": {
    "tags": []
   },
   "outputs": [
    {
     "data": {
      "text/plain": [
       "scipy.sparse._csr.csr_matrix"
      ]
     },
     "execution_count": 3,
     "metadata": {},
     "output_type": "execute_result"
    }
   ],
   "source": [
    "type(artist_user_plays)"
   ]
  },
  {
   "cell_type": "code",
   "execution_count": 4,
   "id": "e9114dda-4164-44f4-994f-03e106c4bf24",
   "metadata": {
    "tags": []
   },
   "outputs": [],
   "source": [
    "# weight the matrix, both to reduce impact of users that have played the same artist thousands of times\n",
    "# and to reduce the weight given to popular items\n",
    "# https://benfred.github.io/implicit/tutorial_lastfm.html#:~:text=The%20first%20step,classic%20information%20retrieval%3A\n",
    "# https://en.wikipedia.org/wiki/Okapi_BM25\n",
    "artist_user_plays = bm25_weight(artist_user_plays, K1=100, B=0.8)\n",
    "\n",
    "# get the transpose since the most of the functions in implicit expect (user, item) sparse matrices instead of (item, user)\n",
    "user_plays = artist_user_plays.T.tocsr()"
   ]
  },
  {
   "cell_type": "code",
   "execution_count": 6,
   "id": "d5578792-26e7-4491-a185-9fc820c8effb",
   "metadata": {
    "tags": []
   },
   "outputs": [
    {
     "name": "stderr",
     "output_type": "stream",
     "text": [
      "100%|█████████████████████████████████████████████████████████████████████████████████████████████████████████████████████| 15/15 [09:12<00:00, 36.86s/it, train_auc=95.25%, skipped=2.18%]\n"
     ]
    }
   ],
   "source": [
    "model = BayesianPersonalizedRanking(factors=64, regularization=0.01, learning_rate=0.1, iterations=15, num_threads=0)\n",
    "model.fit(user_plays)"
   ]
  },
  {
   "cell_type": "code",
   "execution_count": 7,
   "id": "f7eaacfe-85cc-47b2-b2fc-483318a41018",
   "metadata": {
    "tags": []
   },
   "outputs": [
    {
     "data": {
      "text/html": [
       "<div>\n",
       "<style scoped>\n",
       "    .dataframe tbody tr th:only-of-type {\n",
       "        vertical-align: middle;\n",
       "    }\n",
       "\n",
       "    .dataframe tbody tr th {\n",
       "        vertical-align: top;\n",
       "    }\n",
       "\n",
       "    .dataframe thead th {\n",
       "        text-align: right;\n",
       "    }\n",
       "</style>\n",
       "<table border=\"1\" class=\"dataframe\">\n",
       "  <thead>\n",
       "    <tr style=\"text-align: right;\">\n",
       "      <th></th>\n",
       "      <th>artist</th>\n",
       "      <th>score</th>\n",
       "      <th>already_liked</th>\n",
       "    </tr>\n",
       "  </thead>\n",
       "  <tbody>\n",
       "    <tr>\n",
       "      <th>0</th>\n",
       "      <td>laibach</td>\n",
       "      <td>4.972835</td>\n",
       "      <td>False</td>\n",
       "    </tr>\n",
       "    <tr>\n",
       "      <th>1</th>\n",
       "      <td>mortiis</td>\n",
       "      <td>4.710769</td>\n",
       "      <td>True</td>\n",
       "    </tr>\n",
       "    <tr>\n",
       "      <th>2</th>\n",
       "      <td>sopor aeternus &amp; the ensemble of shadows</td>\n",
       "      <td>4.707899</td>\n",
       "      <td>False</td>\n",
       "    </tr>\n",
       "    <tr>\n",
       "      <th>3</th>\n",
       "      <td>the sisters of mercy</td>\n",
       "      <td>4.629304</td>\n",
       "      <td>False</td>\n",
       "    </tr>\n",
       "    <tr>\n",
       "      <th>4</th>\n",
       "      <td>fields of the nephilim</td>\n",
       "      <td>4.560995</td>\n",
       "      <td>False</td>\n",
       "    </tr>\n",
       "    <tr>\n",
       "      <th>5</th>\n",
       "      <td>the red army choir</td>\n",
       "      <td>4.531089</td>\n",
       "      <td>False</td>\n",
       "    </tr>\n",
       "    <tr>\n",
       "      <th>6</th>\n",
       "      <td>za frûmi</td>\n",
       "      <td>4.491640</td>\n",
       "      <td>False</td>\n",
       "    </tr>\n",
       "    <tr>\n",
       "      <th>7</th>\n",
       "      <td>coptic rain</td>\n",
       "      <td>4.488866</td>\n",
       "      <td>False</td>\n",
       "    </tr>\n",
       "    <tr>\n",
       "      <th>8</th>\n",
       "      <td>christian death</td>\n",
       "      <td>4.481449</td>\n",
       "      <td>False</td>\n",
       "    </tr>\n",
       "    <tr>\n",
       "      <th>9</th>\n",
       "      <td>welle:erdball</td>\n",
       "      <td>4.477931</td>\n",
       "      <td>False</td>\n",
       "    </tr>\n",
       "  </tbody>\n",
       "</table>\n",
       "</div>"
      ],
      "text/plain": [
       "                                     artist     score  already_liked\n",
       "0                                   laibach  4.972835          False\n",
       "1                                   mortiis  4.710769           True\n",
       "2  sopor aeternus & the ensemble of shadows  4.707899          False\n",
       "3                      the sisters of mercy  4.629304          False\n",
       "4                    fields of the nephilim  4.560995          False\n",
       "5                        the red army choir  4.531089          False\n",
       "6                                  za frûmi  4.491640          False\n",
       "7                               coptic rain  4.488866          False\n",
       "8                           christian death  4.481449          False\n",
       "9                             welle:erdball  4.477931          False"
      ]
     },
     "execution_count": 7,
     "metadata": {},
     "output_type": "execute_result"
    }
   ],
   "source": [
    "# Get recommendations for the a single user\n",
    "userid = 12345\n",
    "ids, scores = model.recommend(userid, user_plays[userid], N=10, filter_already_liked_items=False)\n",
    "pd.DataFrame({\"artist\": artists[ids], \"score\": scores, \"already_liked\": np.in1d(ids, user_plays[userid].indices)})"
   ]
  },
  {
   "cell_type": "code",
   "execution_count": 8,
   "id": "928d5d27-0897-45cb-912b-1bcd82881433",
   "metadata": {
    "tags": []
   },
   "outputs": [
    {
     "data": {
      "text/html": [
       "<div>\n",
       "<style scoped>\n",
       "    .dataframe tbody tr th:only-of-type {\n",
       "        vertical-align: middle;\n",
       "    }\n",
       "\n",
       "    .dataframe tbody tr th {\n",
       "        vertical-align: top;\n",
       "    }\n",
       "\n",
       "    .dataframe thead th {\n",
       "        text-align: right;\n",
       "    }\n",
       "</style>\n",
       "<table border=\"1\" class=\"dataframe\">\n",
       "  <thead>\n",
       "    <tr style=\"text-align: right;\">\n",
       "      <th></th>\n",
       "      <th>artist</th>\n",
       "      <th>score</th>\n",
       "    </tr>\n",
       "  </thead>\n",
       "  <tbody>\n",
       "    <tr>\n",
       "      <th>0</th>\n",
       "      <td>the beatles</td>\n",
       "      <td>1.000000</td>\n",
       "    </tr>\n",
       "    <tr>\n",
       "      <th>1</th>\n",
       "      <td>paul mccartney</td>\n",
       "      <td>0.793470</td>\n",
       "    </tr>\n",
       "    <tr>\n",
       "      <th>2</th>\n",
       "      <td>the beach boys</td>\n",
       "      <td>0.756167</td>\n",
       "    </tr>\n",
       "    <tr>\n",
       "      <th>3</th>\n",
       "      <td>ahoud banai</td>\n",
       "      <td>0.755275</td>\n",
       "    </tr>\n",
       "    <tr>\n",
       "      <th>4</th>\n",
       "      <td>the british blues quintet</td>\n",
       "      <td>0.748916</td>\n",
       "    </tr>\n",
       "    <tr>\n",
       "      <th>5</th>\n",
       "      <td>orville hammond trio</td>\n",
       "      <td>0.742344</td>\n",
       "    </tr>\n",
       "    <tr>\n",
       "      <th>6</th>\n",
       "      <td>movie cast</td>\n",
       "      <td>0.738473</td>\n",
       "    </tr>\n",
       "    <tr>\n",
       "      <th>7</th>\n",
       "      <td>lovin spoonful</td>\n",
       "      <td>0.735691</td>\n",
       "    </tr>\n",
       "    <tr>\n",
       "      <th>8</th>\n",
       "      <td>aljazeeraenglish</td>\n",
       "      <td>0.735300</td>\n",
       "    </tr>\n",
       "    <tr>\n",
       "      <th>9</th>\n",
       "      <td>byron t</td>\n",
       "      <td>0.734515</td>\n",
       "    </tr>\n",
       "  </tbody>\n",
       "</table>\n",
       "</div>"
      ],
      "text/plain": [
       "                      artist     score\n",
       "0                the beatles  1.000000\n",
       "1             paul mccartney  0.793470\n",
       "2             the beach boys  0.756167\n",
       "3                ahoud banai  0.755275\n",
       "4  the british blues quintet  0.748916\n",
       "5       orville hammond trio  0.742344\n",
       "6                 movie cast  0.738473\n",
       "7             lovin spoonful  0.735691\n",
       "8           aljazeeraenglish  0.735300\n",
       "9                    byron t  0.734515"
      ]
     },
     "execution_count": 8,
     "metadata": {},
     "output_type": "execute_result"
    }
   ],
   "source": [
    "# get related items for the beatles (itemid = 25512)\n",
    "ids, scores= model.similar_items(252512)\n",
    "\n",
    "# display the results using pandas for nicer formatting\n",
    "pd.DataFrame({\"artist\": artists[ids], \"score\": scores})"
   ]
  },
  {
   "cell_type": "code",
   "execution_count": null,
   "id": "a96a77fc-00dc-48ee-a1c3-5193d9b6b1ed",
   "metadata": {},
   "outputs": [],
   "source": [
    "# Make recommendations for the first 1000 users in the dataset\n",
    "userids = np.arange(1000)\n",
    "ids, scores = model.recommend(userids, user_plays[userids])\n",
    "ids, ids.shape"
   ]
  },
  {
   "cell_type": "markdown",
   "id": "ecb09eb5-d552-40ee-8b2e-21a2877a6556",
   "metadata": {},
   "source": [
    "## Experiment with amazon beauty dataset"
   ]
  },
  {
   "cell_type": "code",
   "execution_count": 1,
   "id": "16850b40-971f-4636-a657-aab7142c16ff",
   "metadata": {
    "tags": []
   },
   "outputs": [
    {
     "name": "stderr",
     "output_type": "stream",
     "text": [
      "/Users/tgayanvitharanagamage/anaconda3/envs/rec-sys-py3.11/lib/python3.11/site-packages/tqdm/auto.py:21: TqdmWarning: IProgress not found. Please update jupyter and ipywidgets. See https://ipywidgets.readthedocs.io/en/stable/user_install.html\n",
      "  from .autonotebook import tqdm as notebook_tqdm\n"
     ]
    }
   ],
   "source": [
    "import numpy as np\n",
    "import pandas as pd\n",
    "from implicit.datasets.lastfm import get_lastfm\n",
    "from implicit.nearest_neighbours import bm25_weight\n",
    "from implicit.cpu.bpr import BayesianPersonalizedRanking\n",
    "from utils import pandas_df_to_csr"
   ]
  },
  {
   "cell_type": "code",
   "execution_count": 2,
   "id": "dd0c6917-dd69-44a5-a3bb-8608b64485d0",
   "metadata": {
    "tags": []
   },
   "outputs": [],
   "source": [
    "amazon_beauty_df = pd.read_csv(\"ratings_Beauty.csv\")"
   ]
  },
  {
   "cell_type": "code",
   "execution_count": 3,
   "id": "f3e23ab3-3a53-464c-89e8-51b70902aa16",
   "metadata": {
    "tags": []
   },
   "outputs": [],
   "source": [
    "user_map, item_map, amazon_beauty_csr = pandas_df_to_csr(amazon_beauty_df)"
   ]
  },
  {
   "cell_type": "code",
   "execution_count": 4,
   "id": "a7f29825-3bbf-4b42-8c3d-2d7ed5f614cf",
   "metadata": {
    "tags": []
   },
   "outputs": [],
   "source": [
    "amazon_beauty_csr_bm25 = bm25_weight(amazon_beauty_csr, K1=100, B=0.8)"
   ]
  },
  {
   "cell_type": "code",
   "execution_count": 5,
   "id": "a501cd40-add1-481d-8f01-827bbbd73c6f",
   "metadata": {
    "tags": []
   },
   "outputs": [],
   "source": [
    "amazon_beauty_csr_bm25 = amazon_beauty_csr_bm25.tocsr()"
   ]
  },
  {
   "cell_type": "code",
   "execution_count": 6,
   "id": "13a9ba7f-ce24-4513-88e3-9ddc684fd3d4",
   "metadata": {
    "tags": []
   },
   "outputs": [
    {
     "name": "stderr",
     "output_type": "stream",
     "text": [
      "100%|█████████████████████████████████████████████████████████████████████████████████████████████████████████████████████| 15/15 [00:45<00:00,  3.04s/it, train_auc=91.64%, skipped=0.03%]\n"
     ]
    }
   ],
   "source": [
    "model = BayesianPersonalizedRanking(factors=64, regularization=0.01, learning_rate=0.1, iterations=15, num_threads=0)\n",
    "model.fit(amazon_beauty_csr_bm25)"
   ]
  },
  {
   "cell_type": "code",
   "execution_count": 7,
   "id": "f28e64a6-3894-445f-9fb3-b4508237a885",
   "metadata": {
    "tags": []
   },
   "outputs": [],
   "source": [
    "# Get recommendations for the a single user\n",
    "userid = 725046\n",
    "ids, scores = model.recommend(userid, amazon_beauty_csr_bm25[userid], N=10, filter_already_liked_items=False)"
   ]
  },
  {
   "cell_type": "code",
   "execution_count": 8,
   "id": "39c8705d-31d4-46b3-994d-aaad7fc34b77",
   "metadata": {
    "tags": []
   },
   "outputs": [
    {
     "data": {
      "text/html": [
       "<div>\n",
       "<style scoped>\n",
       "    .dataframe tbody tr th:only-of-type {\n",
       "        vertical-align: middle;\n",
       "    }\n",
       "\n",
       "    .dataframe tbody tr th {\n",
       "        vertical-align: top;\n",
       "    }\n",
       "\n",
       "    .dataframe thead th {\n",
       "        text-align: right;\n",
       "    }\n",
       "</style>\n",
       "<table border=\"1\" class=\"dataframe\">\n",
       "  <thead>\n",
       "    <tr style=\"text-align: right;\">\n",
       "      <th></th>\n",
       "      <th>ProductId</th>\n",
       "      <th>score</th>\n",
       "      <th>already_purchased</th>\n",
       "    </tr>\n",
       "    <tr>\n",
       "      <th>ItemIndex</th>\n",
       "      <th></th>\n",
       "      <th></th>\n",
       "      <th></th>\n",
       "    </tr>\n",
       "  </thead>\n",
       "  <tbody>\n",
       "    <tr>\n",
       "      <th>81854</th>\n",
       "      <td>B002OVV7F0</td>\n",
       "      <td>2.696701</td>\n",
       "      <td>True</td>\n",
       "    </tr>\n",
       "    <tr>\n",
       "      <th>62199</th>\n",
       "      <td>B001H928KI</td>\n",
       "      <td>2.067228</td>\n",
       "      <td>False</td>\n",
       "    </tr>\n",
       "    <tr>\n",
       "      <th>64175</th>\n",
       "      <td>B001KYPZRS</td>\n",
       "      <td>2.022594</td>\n",
       "      <td>False</td>\n",
       "    </tr>\n",
       "    <tr>\n",
       "      <th>98082</th>\n",
       "      <td>B003HFSZ3Y</td>\n",
       "      <td>1.952995</td>\n",
       "      <td>False</td>\n",
       "    </tr>\n",
       "    <tr>\n",
       "      <th>68981</th>\n",
       "      <td>B001R66FFA</td>\n",
       "      <td>1.947325</td>\n",
       "      <td>False</td>\n",
       "    </tr>\n",
       "    <tr>\n",
       "      <th>68342</th>\n",
       "      <td>B001Q88FO8</td>\n",
       "      <td>1.925719</td>\n",
       "      <td>False</td>\n",
       "    </tr>\n",
       "    <tr>\n",
       "      <th>113434</th>\n",
       "      <td>B0047PPO0U</td>\n",
       "      <td>1.914744</td>\n",
       "      <td>False</td>\n",
       "    </tr>\n",
       "    <tr>\n",
       "      <th>203415</th>\n",
       "      <td>B00B1ZRTP2</td>\n",
       "      <td>1.899756</td>\n",
       "      <td>False</td>\n",
       "    </tr>\n",
       "    <tr>\n",
       "      <th>98092</th>\n",
       "      <td>B003HG4VLS</td>\n",
       "      <td>1.854516</td>\n",
       "      <td>False</td>\n",
       "    </tr>\n",
       "    <tr>\n",
       "      <th>112906</th>\n",
       "      <td>B0046VEREY</td>\n",
       "      <td>1.842274</td>\n",
       "      <td>False</td>\n",
       "    </tr>\n",
       "  </tbody>\n",
       "</table>\n",
       "</div>"
      ],
      "text/plain": [
       "            ProductId     score  already_purchased\n",
       "ItemIndex                                         \n",
       "81854      B002OVV7F0  2.696701               True\n",
       "62199      B001H928KI  2.067228              False\n",
       "64175      B001KYPZRS  2.022594              False\n",
       "98082      B003HFSZ3Y  1.952995              False\n",
       "68981      B001R66FFA  1.947325              False\n",
       "68342      B001Q88FO8  1.925719              False\n",
       "113434     B0047PPO0U  1.914744              False\n",
       "203415     B00B1ZRTP2  1.899756              False\n",
       "98092      B003HG4VLS  1.854516              False\n",
       "112906     B0046VEREY  1.842274              False"
      ]
     },
     "execution_count": 8,
     "metadata": {},
     "output_type": "execute_result"
    }
   ],
   "source": [
    "pd.DataFrame({\"ProductId\": item_map.loc[ids][\"ProductId\"], \"score\": scores, \"already_purchased\": np.in1d(ids, amazon_beauty_csr_bm25[userid].indices)})"
   ]
  },
  {
   "cell_type": "code",
   "execution_count": 13,
   "id": "acbc23ae-54ac-4ce8-8c51-a07e249d2dc4",
   "metadata": {
    "tags": []
   },
   "outputs": [
    {
     "data": {
      "text/plain": [
       "ItemIndex\n",
       "114276    B0049WJA9C\n",
       "65766     B001MA0QY2\n",
       "181492    B008O4YM4Y\n",
       "10253     B0009PVV40\n",
       "103349    B003S516XO\n",
       "174368    B0085WHBHU\n",
       "75617     B002B9DWBC\n",
       "89252     B00325D0WK\n",
       "73976     B0027A7CLG\n",
       "181069    B008MP481M\n",
       "Name: ProductId, dtype: object"
      ]
     },
     "execution_count": 13,
     "metadata": {},
     "output_type": "execute_result"
    }
   ],
   "source": [
    "item_map.loc[ids][\"ProductId\"]"
   ]
  },
  {
   "cell_type": "markdown",
   "id": "93c9c699-9f14-498f-b217-606fb3503b2f",
   "metadata": {},
   "source": [
    "## End of Experiments"
   ]
  },
  {
   "cell_type": "code",
   "execution_count": 1,
   "id": "e459fced-f323-4b40-bd72-6a2bdeed3b6c",
   "metadata": {
    "tags": []
   },
   "outputs": [
    {
     "name": "stderr",
     "output_type": "stream",
     "text": [
      "/Users/tgayanvitharanagamage/anaconda3/envs/rec-sys-py3.11/lib/python3.11/site-packages/tqdm/auto.py:21: TqdmWarning: IProgress not found. Please update jupyter and ipywidgets. See https://ipywidgets.readthedocs.io/en/stable/user_install.html\n",
      "  from .autonotebook import tqdm as notebook_tqdm\n"
     ]
    }
   ],
   "source": [
    "import numpy as np\n",
    "import pandas as pd\n",
    "import gc\n",
    "from implicit.datasets.lastfm import get_lastfm\n",
    "from implicit.nearest_neighbours import bm25_weight\n",
    "from implicit.cpu.bpr import BayesianPersonalizedRanking\n",
    "from implicit import evaluation\n",
    "from utils import pandas_df_to_csr"
   ]
  },
  {
   "cell_type": "markdown",
   "id": "204bdedb-0996-4403-97ae-9fd9b1bcffd2",
   "metadata": {},
   "source": [
    "## Pre-processing"
   ]
  },
  {
   "cell_type": "code",
   "execution_count": 2,
   "id": "36c4b2c5-bc5a-41a0-b448-8a109be31178",
   "metadata": {
    "tags": []
   },
   "outputs": [],
   "source": [
    "amazon_beauty_df = pd.read_csv(\"ratings_Beauty.csv\")"
   ]
  },
  {
   "cell_type": "code",
   "execution_count": 3,
   "id": "313ff97a-239f-4b78-ad39-9afd768387bb",
   "metadata": {
    "tags": []
   },
   "outputs": [],
   "source": [
    "# Convert pandas df to CSR format\n",
    "# user_map and item_map contains index in csr format to original id mappings for users and items repectively\n",
    "user_map, item_map, amazon_beauty_csr = pandas_df_to_csr(amazon_beauty_df)"
   ]
  },
  {
   "cell_type": "code",
   "execution_count": 4,
   "id": "c8e23e1a-b699-4c5f-8986-ab04fb2ccd9d",
   "metadata": {
    "tags": []
   },
   "outputs": [],
   "source": [
    "# weight the matrix, both to reduce impact of users that have puchased the same item thousands of times\n",
    "# and to reduce the weight given to popular items\n",
    "# Output is a COO matrix\n",
    "amazon_beauty_coo_bm25 = bm25_weight(amazon_beauty_csr, K1=100, B=0.8)"
   ]
  },
  {
   "cell_type": "markdown",
   "id": "a19cc430-aa68-47c0-93f5-d7cec011cc7c",
   "metadata": {},
   "source": [
    "### Train-test split"
   ]
  },
  {
   "cell_type": "code",
   "execution_count": 6,
   "id": "ae42009b-70ee-481a-912d-bf97b6800ec7",
   "metadata": {
    "tags": []
   },
   "outputs": [
    {
     "name": "stdout",
     "output_type": "stream",
     "text": [
      "Train size: 1618938 \n",
      " Test size: 404132\n"
     ]
    }
   ],
   "source": [
    "train_coo, test_coo = evaluation.train_test_split(amazon_beauty_coo_bm25, train_percentage=0.8, random_state=55)\n",
    "print(f\"Train size: {train_coo.size} \\n Test size: {test_coo.size}\")"
   ]
  },
  {
   "cell_type": "code",
   "execution_count": 7,
   "id": "50114c98-b228-4c0f-b759-3c8ca2809d33",
   "metadata": {
    "tags": []
   },
   "outputs": [],
   "source": [
    "#Convert coo to csr\n",
    "train_csr = train_coo.tocsr()\n",
    "test_csr = test_coo.tocsr()"
   ]
  },
  {
   "cell_type": "markdown",
   "id": "8d41b06c-f047-4a53-9051-cdfb9ad62da2",
   "metadata": {
    "tags": []
   },
   "source": [
    "## Training"
   ]
  },
  {
   "cell_type": "code",
   "execution_count": 8,
   "id": "1ddf4db1-a172-4706-b72b-b1b93878d155",
   "metadata": {
    "tags": []
   },
   "outputs": [
    {
     "name": "stderr",
     "output_type": "stream",
     "text": [
      "100%|█████████████████████████████████████████████████████████████████████████████████████████████████████████████████████| 15/15 [00:39<00:00,  2.62s/it, train_auc=89.26%, skipped=0.03%]\n"
     ]
    }
   ],
   "source": [
    "model = BayesianPersonalizedRanking(factors=64, regularization=0.01, learning_rate=0.1, iterations=15, num_threads=0)\n",
    "model.fit(train_csr)"
   ]
  },
  {
   "cell_type": "markdown",
   "id": "c79cc638-2178-4108-a4bb-e4fa6c0f5c4a",
   "metadata": {},
   "source": [
    "## Evaluation"
   ]
  },
  {
   "cell_type": "code",
   "execution_count": 9,
   "id": "f00b08fb-16f1-4089-ae8a-86ac0f5ffe5b",
   "metadata": {
    "tags": []
   },
   "outputs": [
    {
     "name": "stderr",
     "output_type": "stream",
     "text": [
      "100%|████████████████████████████████████████████████████████████████████████████████████████████████████████████████████████████████████████████| 330846/330846 [00:59<00:00, 5559.59it/s]\n"
     ]
    },
    {
     "data": {
      "text/plain": [
       "{'precision': 0.0057939534640418676,\n",
       " 'map': 0.0023882916029540897,\n",
       " 'ndcg': 0.0030764243049914842,\n",
       " 'auc': 0.5021825331755935}"
      ]
     },
     "execution_count": 9,
     "metadata": {},
     "output_type": "execute_result"
    }
   ],
   "source": [
    "ranking_metrics_at_10 = evaluation.ranking_metrics_at_k(model, train_csr, test_csr, K=10, show_progress=True, num_threads=0)\n",
    "ranking_metrics_at_10"
   ]
  },
  {
   "cell_type": "markdown",
   "id": "284081af-cdb5-4adb-9f4b-11af5e550b55",
   "metadata": {},
   "source": [
    "## Hyper-parameter Tuning"
   ]
  },
  {
   "cell_type": "code",
   "execution_count": 37,
   "id": "6f47a6d8-f495-4e65-b6d7-b8226d5d0bb3",
   "metadata": {
    "tags": []
   },
   "outputs": [],
   "source": [
    "# Hyper-parameters lists\n",
    "latent_factors = [32, 64, 128, 256]\n",
    "regularization = [0.001, 0.005, 0.01, 0.05, 0.1]\n",
    "learning_rate = [0.5, 1.0, 1.5, 2.0, 2.5, 3.0]"
   ]
  },
  {
   "cell_type": "code",
   "execution_count": null,
   "id": "1dc7579a-1958-4c65-ad81-9d7b3795c8dc",
   "metadata": {
    "collapsed": true,
    "jupyter": {
     "outputs_hidden": true
    },
    "tags": []
   },
   "outputs": [
    {
     "name": "stdout",
     "output_type": "stream",
     "text": [
      "Training model with below parameter values --------\n",
      "latent_factors: 32, regularization: 0.001, alpha: 0.5\n"
     ]
    },
    {
     "name": "stderr",
     "output_type": "stream",
     "text": [
      "100%|██████████████████████████████████████████████████████████████████████████████████████████████████████████████████████████████████████████████████| 15/15 [5:11:20<00:00, 1245.35s/it]\n",
      "100%|████████████████████████████████████████████████████████████████████████████████████████████████████████████████████████████████████████████| 330846/330846 [00:55<00:00, 5932.94it/s]\n"
     ]
    },
    {
     "name": "stdout",
     "output_type": "stream",
     "text": [
      "Evaluation results: \n",
      " {'precision': 0.01006593548933499, 'map': 0.004695287763652912, 'ndcg': 0.006078225427714033, 'auc': 0.504619818152965}\n",
      "Training model with below parameter values --------\n",
      "latent_factors: 32, regularization: 0.001, alpha: 1.0\n"
     ]
    },
    {
     "name": "stderr",
     "output_type": "stream",
     "text": [
      "100%|█████████████████████████████████████████████████████████████████████████████████████████████████████████████████████████████████████████████████| 15/15 [12:14:54<00:00, 2939.63s/it]\n",
      "100%|████████████████████████████████████████████████████████████████████████████████████████████████████████████████████████████████████████████| 330846/330846 [00:54<00:00, 6070.11it/s]\n"
     ]
    },
    {
     "name": "stdout",
     "output_type": "stream",
     "text": [
      "Evaluation results: \n",
      " {'precision': 0.011246646556383936, 'map': 0.005015572210796884, 'ndcg': 0.006602003745638734, 'auc': 0.505113884888769}\n",
      "Training model with below parameter values --------\n",
      "latent_factors: 32, regularization: 0.001, alpha: 1.5\n"
     ]
    },
    {
     "name": "stderr",
     "output_type": "stream",
     "text": [
      " 93%|█████████████████████████████████████████████████████████████████████████████████████████████████████████████████████████████████████████▏         | 14/15 [1:06:56<04:27, 267.77s/it]"
     ]
    }
   ],
   "source": [
    "results = []\n",
    "for f in latent_factors:\n",
    "    for r in regularization:\n",
    "        for l in learning_rate:\n",
    "            print(\"Training model with below parameter values --------\")\n",
    "            print(f\"latent_factors: {f}, regularization: {r}, learning_rate: {l}\")\n",
    "            model =  BayesianPersonalizedRanking(factors=f, regularization=r, learning_rate=l, iterations=15, num_threads=0)\n",
    "            model.fit(train_csr)\n",
    "            ranking_metrics_at_10 = evaluation.ranking_metrics_at_k(model, train_csr, test_csr, K=10, show_progress=True, num_threads=0)\n",
    "            print(\"Evaluation results: \\n\", ranking_metrics_at_10)\n",
    "            results.append(\n",
    "                (f,r,l,ranking_metrics_at_10['precision'],ranking_metrics_at_10['map'],ranking_metrics_at_10['ndcg'],ranking_metrics_at_10['auc'])\n",
    "            )\n",
    "            # Garbage handling\n",
    "            del model\n",
    "            gc.collect()"
   ]
  },
  {
   "cell_type": "code",
   "execution_count": null,
   "id": "190239e4-61a0-4cda-a405-50741a02a876",
   "metadata": {
    "tags": []
   },
   "outputs": [],
   "source": [
    "results_df = pd.DataFrame(results, columns=['latent_factors', 'regularization', 'learning_rate', 'precision', 'map', 'ndcg', 'auc'])\n",
    "results_df"
   ]
  },
  {
   "cell_type": "code",
   "execution_count": null,
   "id": "da75656f-622b-4e58-bfb5-dd2c4535f536",
   "metadata": {},
   "outputs": [],
   "source": []
  }
 ],
 "metadata": {
  "kernelspec": {
   "display_name": "rec-sys-py3.11",
   "language": "python",
   "name": "rec-sys-py3.11"
  },
  "language_info": {
   "codemirror_mode": {
    "name": "ipython",
    "version": 3
   },
   "file_extension": ".py",
   "mimetype": "text/x-python",
   "name": "python",
   "nbconvert_exporter": "python",
   "pygments_lexer": "ipython3",
   "version": "3.11.4"
  }
 },
 "nbformat": 4,
 "nbformat_minor": 5
}
