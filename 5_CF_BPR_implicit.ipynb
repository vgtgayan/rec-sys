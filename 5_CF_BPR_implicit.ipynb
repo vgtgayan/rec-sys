{
 "cells": [
  {
   "cell_type": "code",
   "execution_count": 1,
   "id": "0a8a5b14-3f19-4665-b3ec-b50cb9092d6c",
   "metadata": {
    "tags": []
   },
   "outputs": [
    {
     "name": "stderr",
     "output_type": "stream",
     "text": [
      "/Users/tgayanvitharanagamage/anaconda3/envs/rec-sys-py3.11/lib/python3.11/site-packages/tqdm/auto.py:21: TqdmWarning: IProgress not found. Please update jupyter and ipywidgets. See https://ipywidgets.readthedocs.io/en/stable/user_install.html\n",
      "  from .autonotebook import tqdm as notebook_tqdm\n"
     ]
    }
   ],
   "source": [
    "import numpy as np\n",
    "import pandas as pd\n",
    "from implicit.datasets.lastfm import get_lastfm\n",
    "from implicit.nearest_neighbours import bm25_weight\n",
    "from implicit.cpu.bpr import BayesianPersonalizedRanking"
   ]
  },
  {
   "cell_type": "markdown",
   "id": "9255c336-9a3a-4528-bf4e-7673c79013c7",
   "metadata": {},
   "source": [
    "## Experiment with the given example dataset"
   ]
  },
  {
   "cell_type": "code",
   "execution_count": 2,
   "id": "e8fb1d1b-689c-477b-9033-2295ec708804",
   "metadata": {
    "tags": []
   },
   "outputs": [],
   "source": [
    "artists, users, artist_user_plays = get_lastfm()"
   ]
  },
  {
   "cell_type": "code",
   "execution_count": 3,
   "id": "dd311b99-6e08-41cf-b0e4-38f7780ec2ea",
   "metadata": {
    "tags": []
   },
   "outputs": [
    {
     "data": {
      "text/plain": [
       "scipy.sparse._csr.csr_matrix"
      ]
     },
     "execution_count": 3,
     "metadata": {},
     "output_type": "execute_result"
    }
   ],
   "source": [
    "type(artist_user_plays)"
   ]
  },
  {
   "cell_type": "code",
   "execution_count": 4,
   "id": "e9114dda-4164-44f4-994f-03e106c4bf24",
   "metadata": {
    "tags": []
   },
   "outputs": [],
   "source": [
    "# weight the matrix, both to reduce impact of users that have played the same artist thousands of times\n",
    "# and to reduce the weight given to popular items\n",
    "# https://benfred.github.io/implicit/tutorial_lastfm.html#:~:text=The%20first%20step,classic%20information%20retrieval%3A\n",
    "# https://en.wikipedia.org/wiki/Okapi_BM25\n",
    "artist_user_plays = bm25_weight(artist_user_plays, K1=100, B=0.8)\n",
    "\n",
    "# get the transpose since the most of the functions in implicit expect (user, item) sparse matrices instead of (item, user)\n",
    "user_plays = artist_user_plays.T.tocsr()"
   ]
  },
  {
   "cell_type": "code",
   "execution_count": 6,
   "id": "d5578792-26e7-4491-a185-9fc820c8effb",
   "metadata": {
    "tags": []
   },
   "outputs": [
    {
     "name": "stderr",
     "output_type": "stream",
     "text": [
      "100%|█████████████████████████████████████████████████████████████████████████████████████████████████████████████████████| 15/15 [09:12<00:00, 36.86s/it, train_auc=95.25%, skipped=2.18%]\n"
     ]
    }
   ],
   "source": [
    "model = BayesianPersonalizedRanking(factors=64, regularization=0.01, learning_rate=0.1, iterations=15, num_threads=0)\n",
    "model.fit(user_plays)"
   ]
  },
  {
   "cell_type": "code",
   "execution_count": 7,
   "id": "f7eaacfe-85cc-47b2-b2fc-483318a41018",
   "metadata": {
    "tags": []
   },
   "outputs": [
    {
     "data": {
      "text/html": [
       "<div>\n",
       "<style scoped>\n",
       "    .dataframe tbody tr th:only-of-type {\n",
       "        vertical-align: middle;\n",
       "    }\n",
       "\n",
       "    .dataframe tbody tr th {\n",
       "        vertical-align: top;\n",
       "    }\n",
       "\n",
       "    .dataframe thead th {\n",
       "        text-align: right;\n",
       "    }\n",
       "</style>\n",
       "<table border=\"1\" class=\"dataframe\">\n",
       "  <thead>\n",
       "    <tr style=\"text-align: right;\">\n",
       "      <th></th>\n",
       "      <th>artist</th>\n",
       "      <th>score</th>\n",
       "      <th>already_liked</th>\n",
       "    </tr>\n",
       "  </thead>\n",
       "  <tbody>\n",
       "    <tr>\n",
       "      <th>0</th>\n",
       "      <td>laibach</td>\n",
       "      <td>4.972835</td>\n",
       "      <td>False</td>\n",
       "    </tr>\n",
       "    <tr>\n",
       "      <th>1</th>\n",
       "      <td>mortiis</td>\n",
       "      <td>4.710769</td>\n",
       "      <td>True</td>\n",
       "    </tr>\n",
       "    <tr>\n",
       "      <th>2</th>\n",
       "      <td>sopor aeternus &amp; the ensemble of shadows</td>\n",
       "      <td>4.707899</td>\n",
       "      <td>False</td>\n",
       "    </tr>\n",
       "    <tr>\n",
       "      <th>3</th>\n",
       "      <td>the sisters of mercy</td>\n",
       "      <td>4.629304</td>\n",
       "      <td>False</td>\n",
       "    </tr>\n",
       "    <tr>\n",
       "      <th>4</th>\n",
       "      <td>fields of the nephilim</td>\n",
       "      <td>4.560995</td>\n",
       "      <td>False</td>\n",
       "    </tr>\n",
       "    <tr>\n",
       "      <th>5</th>\n",
       "      <td>the red army choir</td>\n",
       "      <td>4.531089</td>\n",
       "      <td>False</td>\n",
       "    </tr>\n",
       "    <tr>\n",
       "      <th>6</th>\n",
       "      <td>za frûmi</td>\n",
       "      <td>4.491640</td>\n",
       "      <td>False</td>\n",
       "    </tr>\n",
       "    <tr>\n",
       "      <th>7</th>\n",
       "      <td>coptic rain</td>\n",
       "      <td>4.488866</td>\n",
       "      <td>False</td>\n",
       "    </tr>\n",
       "    <tr>\n",
       "      <th>8</th>\n",
       "      <td>christian death</td>\n",
       "      <td>4.481449</td>\n",
       "      <td>False</td>\n",
       "    </tr>\n",
       "    <tr>\n",
       "      <th>9</th>\n",
       "      <td>welle:erdball</td>\n",
       "      <td>4.477931</td>\n",
       "      <td>False</td>\n",
       "    </tr>\n",
       "  </tbody>\n",
       "</table>\n",
       "</div>"
      ],
      "text/plain": [
       "                                     artist     score  already_liked\n",
       "0                                   laibach  4.972835          False\n",
       "1                                   mortiis  4.710769           True\n",
       "2  sopor aeternus & the ensemble of shadows  4.707899          False\n",
       "3                      the sisters of mercy  4.629304          False\n",
       "4                    fields of the nephilim  4.560995          False\n",
       "5                        the red army choir  4.531089          False\n",
       "6                                  za frûmi  4.491640          False\n",
       "7                               coptic rain  4.488866          False\n",
       "8                           christian death  4.481449          False\n",
       "9                             welle:erdball  4.477931          False"
      ]
     },
     "execution_count": 7,
     "metadata": {},
     "output_type": "execute_result"
    }
   ],
   "source": [
    "# Get recommendations for the a single user\n",
    "userid = 12345\n",
    "ids, scores = model.recommend(userid, user_plays[userid], N=10, filter_already_liked_items=False)\n",
    "pd.DataFrame({\"artist\": artists[ids], \"score\": scores, \"already_liked\": np.in1d(ids, user_plays[userid].indices)})"
   ]
  },
  {
   "cell_type": "code",
   "execution_count": 8,
   "id": "928d5d27-0897-45cb-912b-1bcd82881433",
   "metadata": {
    "tags": []
   },
   "outputs": [
    {
     "data": {
      "text/html": [
       "<div>\n",
       "<style scoped>\n",
       "    .dataframe tbody tr th:only-of-type {\n",
       "        vertical-align: middle;\n",
       "    }\n",
       "\n",
       "    .dataframe tbody tr th {\n",
       "        vertical-align: top;\n",
       "    }\n",
       "\n",
       "    .dataframe thead th {\n",
       "        text-align: right;\n",
       "    }\n",
       "</style>\n",
       "<table border=\"1\" class=\"dataframe\">\n",
       "  <thead>\n",
       "    <tr style=\"text-align: right;\">\n",
       "      <th></th>\n",
       "      <th>artist</th>\n",
       "      <th>score</th>\n",
       "    </tr>\n",
       "  </thead>\n",
       "  <tbody>\n",
       "    <tr>\n",
       "      <th>0</th>\n",
       "      <td>the beatles</td>\n",
       "      <td>1.000000</td>\n",
       "    </tr>\n",
       "    <tr>\n",
       "      <th>1</th>\n",
       "      <td>paul mccartney</td>\n",
       "      <td>0.793470</td>\n",
       "    </tr>\n",
       "    <tr>\n",
       "      <th>2</th>\n",
       "      <td>the beach boys</td>\n",
       "      <td>0.756167</td>\n",
       "    </tr>\n",
       "    <tr>\n",
       "      <th>3</th>\n",
       "      <td>ahoud banai</td>\n",
       "      <td>0.755275</td>\n",
       "    </tr>\n",
       "    <tr>\n",
       "      <th>4</th>\n",
       "      <td>the british blues quintet</td>\n",
       "      <td>0.748916</td>\n",
       "    </tr>\n",
       "    <tr>\n",
       "      <th>5</th>\n",
       "      <td>orville hammond trio</td>\n",
       "      <td>0.742344</td>\n",
       "    </tr>\n",
       "    <tr>\n",
       "      <th>6</th>\n",
       "      <td>movie cast</td>\n",
       "      <td>0.738473</td>\n",
       "    </tr>\n",
       "    <tr>\n",
       "      <th>7</th>\n",
       "      <td>lovin spoonful</td>\n",
       "      <td>0.735691</td>\n",
       "    </tr>\n",
       "    <tr>\n",
       "      <th>8</th>\n",
       "      <td>aljazeeraenglish</td>\n",
       "      <td>0.735300</td>\n",
       "    </tr>\n",
       "    <tr>\n",
       "      <th>9</th>\n",
       "      <td>byron t</td>\n",
       "      <td>0.734515</td>\n",
       "    </tr>\n",
       "  </tbody>\n",
       "</table>\n",
       "</div>"
      ],
      "text/plain": [
       "                      artist     score\n",
       "0                the beatles  1.000000\n",
       "1             paul mccartney  0.793470\n",
       "2             the beach boys  0.756167\n",
       "3                ahoud banai  0.755275\n",
       "4  the british blues quintet  0.748916\n",
       "5       orville hammond trio  0.742344\n",
       "6                 movie cast  0.738473\n",
       "7             lovin spoonful  0.735691\n",
       "8           aljazeeraenglish  0.735300\n",
       "9                    byron t  0.734515"
      ]
     },
     "execution_count": 8,
     "metadata": {},
     "output_type": "execute_result"
    }
   ],
   "source": [
    "# get related items for the beatles (itemid = 25512)\n",
    "ids, scores= model.similar_items(252512)\n",
    "\n",
    "# display the results using pandas for nicer formatting\n",
    "pd.DataFrame({\"artist\": artists[ids], \"score\": scores})"
   ]
  },
  {
   "cell_type": "code",
   "execution_count": null,
   "id": "a96a77fc-00dc-48ee-a1c3-5193d9b6b1ed",
   "metadata": {},
   "outputs": [],
   "source": [
    "# Make recommendations for the first 1000 users in the dataset\n",
    "userids = np.arange(1000)\n",
    "ids, scores = model.recommend(userids, user_plays[userids])\n",
    "ids, ids.shape"
   ]
  },
  {
   "cell_type": "markdown",
   "id": "ecb09eb5-d552-40ee-8b2e-21a2877a6556",
   "metadata": {},
   "source": [
    "## Experiment with amazon beauty dataset"
   ]
  },
  {
   "cell_type": "code",
   "execution_count": 2,
   "id": "16850b40-971f-4636-a657-aab7142c16ff",
   "metadata": {
    "tags": []
   },
   "outputs": [],
   "source": [
    "import numpy as np\n",
    "import pandas as pd\n",
    "from implicit.datasets.lastfm import get_lastfm\n",
    "from implicit.nearest_neighbours import bm25_weight\n",
    "from implicit.cpu.bpr import BayesianPersonalizedRanking\n",
    "from utils import pandas_df_to_csr"
   ]
  },
  {
   "cell_type": "code",
   "execution_count": 2,
   "id": "dd0c6917-dd69-44a5-a3bb-8608b64485d0",
   "metadata": {
    "tags": []
   },
   "outputs": [],
   "source": [
    "amazon_beauty_df = pd.read_csv(\"ratings_Beauty.csv\")"
   ]
  },
  {
   "cell_type": "code",
   "execution_count": 3,
   "id": "f3e23ab3-3a53-464c-89e8-51b70902aa16",
   "metadata": {
    "tags": []
   },
   "outputs": [],
   "source": [
    "user_map, item_map, amazon_beauty_csr = pandas_df_to_csr(amazon_beauty_df)"
   ]
  },
  {
   "cell_type": "code",
   "execution_count": 4,
   "id": "a7f29825-3bbf-4b42-8c3d-2d7ed5f614cf",
   "metadata": {
    "tags": []
   },
   "outputs": [],
   "source": [
    "amazon_beauty_csr_bm25 = bm25_weight(amazon_beauty_csr, K1=100, B=0.8)"
   ]
  },
  {
   "cell_type": "code",
   "execution_count": 5,
   "id": "a501cd40-add1-481d-8f01-827bbbd73c6f",
   "metadata": {
    "tags": []
   },
   "outputs": [],
   "source": [
    "amazon_beauty_csr_bm25 = amazon_beauty_csr_bm25.tocsr()"
   ]
  },
  {
   "cell_type": "code",
   "execution_count": 6,
   "id": "13a9ba7f-ce24-4513-88e3-9ddc684fd3d4",
   "metadata": {
    "tags": []
   },
   "outputs": [
    {
     "name": "stderr",
     "output_type": "stream",
     "text": [
      "100%|█████████████████████████████████████████████████████████████████████████████████████████████████████████████████████| 15/15 [00:45<00:00,  3.04s/it, train_auc=91.64%, skipped=0.03%]\n"
     ]
    }
   ],
   "source": [
    "model = BayesianPersonalizedRanking(factors=64, regularization=0.01, learning_rate=0.1, iterations=15, num_threads=0)\n",
    "model.fit(amazon_beauty_csr_bm25)"
   ]
  },
  {
   "cell_type": "code",
   "execution_count": 7,
   "id": "f28e64a6-3894-445f-9fb3-b4508237a885",
   "metadata": {
    "tags": []
   },
   "outputs": [],
   "source": [
    "# Get recommendations for the a single user\n",
    "userid = 725046\n",
    "ids, scores = model.recommend(userid, amazon_beauty_csr_bm25[userid], N=10, filter_already_liked_items=False)"
   ]
  },
  {
   "cell_type": "code",
   "execution_count": 8,
   "id": "39c8705d-31d4-46b3-994d-aaad7fc34b77",
   "metadata": {
    "tags": []
   },
   "outputs": [
    {
     "data": {
      "text/html": [
       "<div>\n",
       "<style scoped>\n",
       "    .dataframe tbody tr th:only-of-type {\n",
       "        vertical-align: middle;\n",
       "    }\n",
       "\n",
       "    .dataframe tbody tr th {\n",
       "        vertical-align: top;\n",
       "    }\n",
       "\n",
       "    .dataframe thead th {\n",
       "        text-align: right;\n",
       "    }\n",
       "</style>\n",
       "<table border=\"1\" class=\"dataframe\">\n",
       "  <thead>\n",
       "    <tr style=\"text-align: right;\">\n",
       "      <th></th>\n",
       "      <th>ProductId</th>\n",
       "      <th>score</th>\n",
       "      <th>already_purchased</th>\n",
       "    </tr>\n",
       "    <tr>\n",
       "      <th>ItemIndex</th>\n",
       "      <th></th>\n",
       "      <th></th>\n",
       "      <th></th>\n",
       "    </tr>\n",
       "  </thead>\n",
       "  <tbody>\n",
       "    <tr>\n",
       "      <th>81854</th>\n",
       "      <td>B002OVV7F0</td>\n",
       "      <td>2.696701</td>\n",
       "      <td>True</td>\n",
       "    </tr>\n",
       "    <tr>\n",
       "      <th>62199</th>\n",
       "      <td>B001H928KI</td>\n",
       "      <td>2.067228</td>\n",
       "      <td>False</td>\n",
       "    </tr>\n",
       "    <tr>\n",
       "      <th>64175</th>\n",
       "      <td>B001KYPZRS</td>\n",
       "      <td>2.022594</td>\n",
       "      <td>False</td>\n",
       "    </tr>\n",
       "    <tr>\n",
       "      <th>98082</th>\n",
       "      <td>B003HFSZ3Y</td>\n",
       "      <td>1.952995</td>\n",
       "      <td>False</td>\n",
       "    </tr>\n",
       "    <tr>\n",
       "      <th>68981</th>\n",
       "      <td>B001R66FFA</td>\n",
       "      <td>1.947325</td>\n",
       "      <td>False</td>\n",
       "    </tr>\n",
       "    <tr>\n",
       "      <th>68342</th>\n",
       "      <td>B001Q88FO8</td>\n",
       "      <td>1.925719</td>\n",
       "      <td>False</td>\n",
       "    </tr>\n",
       "    <tr>\n",
       "      <th>113434</th>\n",
       "      <td>B0047PPO0U</td>\n",
       "      <td>1.914744</td>\n",
       "      <td>False</td>\n",
       "    </tr>\n",
       "    <tr>\n",
       "      <th>203415</th>\n",
       "      <td>B00B1ZRTP2</td>\n",
       "      <td>1.899756</td>\n",
       "      <td>False</td>\n",
       "    </tr>\n",
       "    <tr>\n",
       "      <th>98092</th>\n",
       "      <td>B003HG4VLS</td>\n",
       "      <td>1.854516</td>\n",
       "      <td>False</td>\n",
       "    </tr>\n",
       "    <tr>\n",
       "      <th>112906</th>\n",
       "      <td>B0046VEREY</td>\n",
       "      <td>1.842274</td>\n",
       "      <td>False</td>\n",
       "    </tr>\n",
       "  </tbody>\n",
       "</table>\n",
       "</div>"
      ],
      "text/plain": [
       "            ProductId     score  already_purchased\n",
       "ItemIndex                                         \n",
       "81854      B002OVV7F0  2.696701               True\n",
       "62199      B001H928KI  2.067228              False\n",
       "64175      B001KYPZRS  2.022594              False\n",
       "98082      B003HFSZ3Y  1.952995              False\n",
       "68981      B001R66FFA  1.947325              False\n",
       "68342      B001Q88FO8  1.925719              False\n",
       "113434     B0047PPO0U  1.914744              False\n",
       "203415     B00B1ZRTP2  1.899756              False\n",
       "98092      B003HG4VLS  1.854516              False\n",
       "112906     B0046VEREY  1.842274              False"
      ]
     },
     "execution_count": 8,
     "metadata": {},
     "output_type": "execute_result"
    }
   ],
   "source": [
    "pd.DataFrame({\"ProductId\": item_map.loc[ids][\"ProductId\"], \"score\": scores, \"already_purchased\": np.in1d(ids, amazon_beauty_csr_bm25[userid].indices)})"
   ]
  },
  {
   "cell_type": "code",
   "execution_count": 13,
   "id": "acbc23ae-54ac-4ce8-8c51-a07e249d2dc4",
   "metadata": {
    "tags": []
   },
   "outputs": [
    {
     "data": {
      "text/plain": [
       "ItemIndex\n",
       "114276    B0049WJA9C\n",
       "65766     B001MA0QY2\n",
       "181492    B008O4YM4Y\n",
       "10253     B0009PVV40\n",
       "103349    B003S516XO\n",
       "174368    B0085WHBHU\n",
       "75617     B002B9DWBC\n",
       "89252     B00325D0WK\n",
       "73976     B0027A7CLG\n",
       "181069    B008MP481M\n",
       "Name: ProductId, dtype: object"
      ]
     },
     "execution_count": 13,
     "metadata": {},
     "output_type": "execute_result"
    }
   ],
   "source": [
    "item_map.loc[ids][\"ProductId\"]"
   ]
  },
  {
   "cell_type": "markdown",
   "id": "93c9c699-9f14-498f-b217-606fb3503b2f",
   "metadata": {},
   "source": [
    "## End of Experiments"
   ]
  },
  {
   "cell_type": "code",
   "execution_count": 1,
   "id": "e459fced-f323-4b40-bd72-6a2bdeed3b6c",
   "metadata": {
    "tags": []
   },
   "outputs": [
    {
     "name": "stderr",
     "output_type": "stream",
     "text": [
      "/Users/tgayanvitharanagamage/anaconda3/envs/rec-sys-py3.11/lib/python3.11/site-packages/tqdm/auto.py:21: TqdmWarning: IProgress not found. Please update jupyter and ipywidgets. See https://ipywidgets.readthedocs.io/en/stable/user_install.html\n",
      "  from .autonotebook import tqdm as notebook_tqdm\n"
     ]
    }
   ],
   "source": [
    "import numpy as np\n",
    "import pandas as pd\n",
    "import gc\n",
    "from implicit.datasets.lastfm import get_lastfm\n",
    "from implicit.nearest_neighbours import bm25_weight\n",
    "from implicit.cpu.bpr import BayesianPersonalizedRanking\n",
    "from implicit import evaluation\n",
    "from utils import pandas_df_to_csr"
   ]
  },
  {
   "cell_type": "markdown",
   "id": "204bdedb-0996-4403-97ae-9fd9b1bcffd2",
   "metadata": {},
   "source": [
    "## Pre-processing"
   ]
  },
  {
   "cell_type": "code",
   "execution_count": 2,
   "id": "36c4b2c5-bc5a-41a0-b448-8a109be31178",
   "metadata": {
    "tags": []
   },
   "outputs": [],
   "source": [
    "amazon_beauty_df = pd.read_csv(\"ratings_Beauty.csv\")"
   ]
  },
  {
   "cell_type": "code",
   "execution_count": 3,
   "id": "313ff97a-239f-4b78-ad39-9afd768387bb",
   "metadata": {
    "tags": []
   },
   "outputs": [],
   "source": [
    "# Convert pandas df to CSR format\n",
    "# user_map and item_map contains index in csr format to original id mappings for users and items repectively\n",
    "user_map, item_map, amazon_beauty_csr = pandas_df_to_csr(amazon_beauty_df)"
   ]
  },
  {
   "cell_type": "code",
   "execution_count": 4,
   "id": "c8e23e1a-b699-4c5f-8986-ab04fb2ccd9d",
   "metadata": {
    "tags": []
   },
   "outputs": [],
   "source": [
    "# weight the matrix, both to reduce impact of users that have puchased the same item thousands of times\n",
    "# and to reduce the weight given to popular items\n",
    "# Output is a COO matrix\n",
    "amazon_beauty_coo_bm25 = bm25_weight(amazon_beauty_csr, K1=100, B=0.8)"
   ]
  },
  {
   "cell_type": "markdown",
   "id": "a19cc430-aa68-47c0-93f5-d7cec011cc7c",
   "metadata": {},
   "source": [
    "### Train-test split"
   ]
  },
  {
   "cell_type": "code",
   "execution_count": 5,
   "id": "ae42009b-70ee-481a-912d-bf97b6800ec7",
   "metadata": {
    "tags": []
   },
   "outputs": [
    {
     "name": "stdout",
     "output_type": "stream",
     "text": [
      "Train size: 1618938 \n",
      " Test size: 404132\n"
     ]
    }
   ],
   "source": [
    "train_coo, test_coo = evaluation.train_test_split(amazon_beauty_coo_bm25, train_percentage=0.8, random_state=55)\n",
    "print(f\"Train size: {train_coo.size} \\n Test size: {test_coo.size}\")"
   ]
  },
  {
   "cell_type": "code",
   "execution_count": 6,
   "id": "50114c98-b228-4c0f-b759-3c8ca2809d33",
   "metadata": {
    "tags": []
   },
   "outputs": [],
   "source": [
    "#Convert coo to csr\n",
    "train_csr = train_coo.tocsr()\n",
    "test_csr = test_coo.tocsr()"
   ]
  },
  {
   "cell_type": "markdown",
   "id": "8d41b06c-f047-4a53-9051-cdfb9ad62da2",
   "metadata": {
    "tags": []
   },
   "source": [
    "## Training"
   ]
  },
  {
   "cell_type": "code",
   "execution_count": 7,
   "id": "1ddf4db1-a172-4706-b72b-b1b93878d155",
   "metadata": {
    "tags": []
   },
   "outputs": [
    {
     "name": "stderr",
     "output_type": "stream",
     "text": [
      "100%|██████████████████████████████████████████████████████████████████████████████████████████████████████████████████████████████████████████████| 15/15 [01:32<00:00,  6.17s/it, train_auc=89.31%, skipped=0.03%]\n"
     ]
    }
   ],
   "source": [
    "model = BayesianPersonalizedRanking(factors=64, regularization=0.01, learning_rate=0.1, iterations=15, num_threads=0)\n",
    "model.fit(train_csr)"
   ]
  },
  {
   "cell_type": "markdown",
   "id": "c79cc638-2178-4108-a4bb-e4fa6c0f5c4a",
   "metadata": {},
   "source": [
    "## Evaluation"
   ]
  },
  {
   "cell_type": "code",
   "execution_count": 8,
   "id": "f00b08fb-16f1-4089-ae8a-86ac0f5ffe5b",
   "metadata": {
    "tags": []
   },
   "outputs": [
    {
     "name": "stderr",
     "output_type": "stream",
     "text": [
      "100%|█████████████████████████████████████████████████████████████████████████████████████████████████████████████████████████████████████████████████████████████████████| 330846/330846 [00:48<00:00, 6782.90it/s]\n"
     ]
    },
    {
     "data": {
      "text/plain": [
       "{'precision': 0.005786480609187128,\n",
       " 'map': 0.002408520120430416,\n",
       " 'ndcg': 0.003102807988801171,\n",
       " 'auc': 0.5022218212995132}"
      ]
     },
     "execution_count": 8,
     "metadata": {},
     "output_type": "execute_result"
    }
   ],
   "source": [
    "ranking_metrics_at_10 = evaluation.ranking_metrics_at_k(model, train_csr, test_csr, K=10, show_progress=True, num_threads=0)\n",
    "ranking_metrics_at_10"
   ]
  },
  {
   "cell_type": "markdown",
   "id": "d792caeb-6078-4457-bc3a-9ef63aaf2e9f",
   "metadata": {},
   "source": [
    "### Save model"
   ]
  },
  {
   "cell_type": "code",
   "execution_count": 9,
   "id": "c172f005-5370-49d5-a2b1-de4683207f28",
   "metadata": {},
   "outputs": [],
   "source": [
    "model.save(\"5_CF_BPR_implicit\")"
   ]
  },
  {
   "cell_type": "markdown",
   "id": "284081af-cdb5-4adb-9f4b-11af5e550b55",
   "metadata": {},
   "source": [
    "## Hyper-parameter Tuning"
   ]
  },
  {
   "cell_type": "code",
   "execution_count": 3,
   "id": "6f47a6d8-f495-4e65-b6d7-b8226d5d0bb3",
   "metadata": {
    "tags": []
   },
   "outputs": [],
   "source": [
    "# Hyper-parameters lists\n",
    "latent_factors = [32, 64, 128, 256]\n",
    "regularization = [0.005, 0.01, 0.05, 0.1]\n",
    "learning_rate = [0.05, 0.1, 0.5]"
   ]
  },
  {
   "cell_type": "code",
   "execution_count": 18,
   "id": "1dc7579a-1958-4c65-ad81-9d7b3795c8dc",
   "metadata": {
    "collapsed": true,
    "jupyter": {
     "outputs_hidden": true
    },
    "tags": []
   },
   "outputs": [
    {
     "name": "stdout",
     "output_type": "stream",
     "text": [
      "Training model with below parameter values --------\n",
      "latent_factors: 32, regularization: 0.005, learning_rate: 0.05\n"
     ]
    },
    {
     "name": "stderr",
     "output_type": "stream",
     "text": [
      "100%|█████████████████████████████████████████████████████████████████████████████████████████████████████████████████████| 15/15 [05:09<00:00, 20.61s/it, train_auc=72.13%, skipped=0.03%]\n",
      "100%|████████████████████████████████████████████████████████████████████████████████████████████████████████████████████████████████████████████| 330846/330846 [00:54<00:00, 6056.03it/s]\n"
     ]
    },
    {
     "name": "stdout",
     "output_type": "stream",
     "text": [
      "Evaluation results: \n",
      " {'precision': 0.00510146891416928, 'map': 0.0015033694633245942, 'ndcg': 0.0021315162558968215, 'auc': 0.5016153388481799}\n",
      "Training model with below parameter values --------\n",
      "latent_factors: 32, regularization: 0.005, learning_rate: 0.1\n"
     ]
    },
    {
     "name": "stderr",
     "output_type": "stream",
     "text": [
      "100%|█████████████████████████████████████████████████████████████████████████████████████████████████████████████████████| 15/15 [04:27<00:00, 17.82s/it, train_auc=91.52%, skipped=0.03%]\n",
      "100%|████████████████████████████████████████████████████████████████████████████████████████████████████████████████████████████████████████████| 330846/330846 [00:54<00:00, 6077.19it/s]\n"
     ]
    },
    {
     "name": "stdout",
     "output_type": "stream",
     "text": [
      "Evaluation results: \n",
      " {'precision': 0.005467638802051548, 'map': 0.0022934639351212148, 'ndcg': 0.0029528598907335073, 'auc': 0.5021309568635243}\n",
      "Training model with below parameter values --------\n",
      "latent_factors: 32, regularization: 0.005, learning_rate: 0.5\n"
     ]
    },
    {
     "name": "stderr",
     "output_type": "stream",
     "text": [
      "100%|█████████████████████████████████████████████████████████████████████████████████████████████████████████████████████| 15/15 [04:30<00:00, 18.00s/it, train_auc=98.84%, skipped=0.03%]\n",
      "100%|████████████████████████████████████████████████████████████████████████████████████████████████████████████████████████████████████████████| 330846/330846 [00:54<00:00, 6115.57it/s]\n"
     ]
    },
    {
     "name": "stdout",
     "output_type": "stream",
     "text": [
      "Evaluation results: \n",
      " {'precision': 0.001188183921903685, 'map': 0.00024903875138810374, 'ndcg': 0.00043161308825532207, 'auc': 0.5003978845943127}\n",
      "Training model with below parameter values --------\n",
      "latent_factors: 32, regularization: 0.01, learning_rate: 0.05\n"
     ]
    },
    {
     "name": "stderr",
     "output_type": "stream",
     "text": [
      "100%|█████████████████████████████████████████████████████████████████████████████████████████████████████████████████████| 15/15 [04:28<00:00, 17.91s/it, train_auc=67.76%, skipped=0.03%]\n",
      "100%|████████████████████████████████████████████████████████████████████████████████████████████████████████████████████████████████████████████| 330846/330846 [00:54<00:00, 6081.59it/s]\n"
     ]
    },
    {
     "name": "stdout",
     "output_type": "stream",
     "text": [
      "Evaluation results: \n",
      " {'precision': 0.004481221961225847, 'map': 0.001050715130654907, 'ndcg': 0.0016142223690655615, 'auc': 0.5013023857993317}\n",
      "Training model with below parameter values --------\n",
      "latent_factors: 32, regularization: 0.01, learning_rate: 0.1\n"
     ]
    },
    {
     "name": "stderr",
     "output_type": "stream",
     "text": [
      "100%|█████████████████████████████████████████████████████████████████████████████████████████████████████████████████████| 15/15 [04:31<00:00, 18.09s/it, train_auc=90.17%, skipped=0.03%]\n",
      "100%|████████████████████████████████████████████████████████████████████████████████████████████████████████████████████████████████████████████| 330846/330846 [00:54<00:00, 6100.02it/s]\n"
     ]
    },
    {
     "name": "stdout",
     "output_type": "stream",
     "text": [
      "Evaluation results: \n",
      " {'precision': 0.005216052688608629, 'map': 0.0020690025506611494, 'ndcg': 0.002711173039869431, 'auc': 0.50199076293975}\n",
      "Training model with below parameter values --------\n",
      "latent_factors: 32, regularization: 0.01, learning_rate: 0.5\n"
     ]
    },
    {
     "name": "stderr",
     "output_type": "stream",
     "text": [
      "100%|█████████████████████████████████████████████████████████████████████████████████████████████████████████████████████| 15/15 [04:23<00:00, 17.60s/it, train_auc=99.65%, skipped=0.03%]\n",
      "100%|████████████████████████████████████████████████████████████████████████████████████████████████████████████████████████████████████████████| 330846/330846 [00:53<00:00, 6157.93it/s]\n"
     ]
    },
    {
     "name": "stdout",
     "output_type": "stream",
     "text": [
      "Evaluation results: \n",
      " {'precision': 0.002959250522477102, 'map': 0.0010683458401969641, 'ndcg': 0.0014697439319069454, 'auc': 0.5011472774375025}\n",
      "Training model with below parameter values --------\n",
      "latent_factors: 32, regularization: 0.05, learning_rate: 0.05\n"
     ]
    },
    {
     "name": "stderr",
     "output_type": "stream",
     "text": [
      "100%|█████████████████████████████████████████████████████████████████████████████████████████████████████████████████████| 15/15 [04:23<00:00, 17.55s/it, train_auc=52.56%, skipped=0.03%]\n",
      "100%|████████████████████████████████████████████████████████████████████████████████████████████████████████████████████████████████████████████| 330846/330846 [00:56<00:00, 5882.70it/s]\n"
     ]
    },
    {
     "name": "stdout",
     "output_type": "stream",
     "text": [
      "Evaluation results: \n",
      " {'precision': 0.0015942090356779, 'map': 0.00024641180358203304, 'ndcg': 0.00040603108998945816, 'auc': 0.500253743824585}\n",
      "Training model with below parameter values --------\n",
      "latent_factors: 32, regularization: 0.05, learning_rate: 0.1\n"
     ]
    },
    {
     "name": "stderr",
     "output_type": "stream",
     "text": [
      "100%|█████████████████████████████████████████████████████████████████████████████████████████████████████████████████████| 15/15 [05:04<00:00, 20.29s/it, train_auc=60.10%, skipped=0.03%]\n",
      "100%|████████████████████████████████████████████████████████████████████████████████████████████████████████████████████████████████████████████| 330846/330846 [00:54<00:00, 6027.12it/s]\n"
     ]
    },
    {
     "name": "stdout",
     "output_type": "stream",
     "text": [
      "Evaluation results: \n",
      " {'precision': 0.002172109811111139, 'map': 0.0004536812015142101, 'ndcg': 0.0007014983008247475, 'auc': 0.5004708951330932}\n",
      "Training model with below parameter values --------\n",
      "latent_factors: 32, regularization: 0.05, learning_rate: 0.5\n"
     ]
    },
    {
     "name": "stderr",
     "output_type": "stream",
     "text": [
      "100%|█████████████████████████████████████████████████████████████████████████████████████████████████████████████████████| 15/15 [04:25<00:00, 17.72s/it, train_auc=99.26%, skipped=0.03%]\n",
      "100%|████████████████████████████████████████████████████████████████████████████████████████████████████████████████████████████████████████████| 330846/330846 [00:58<00:00, 5672.65it/s]\n"
     ]
    },
    {
     "name": "stdout",
     "output_type": "stream",
     "text": [
      "Evaluation results: \n",
      " {'precision': 0.0037414093306065714, 'map': 0.0014788190335124224, 'ndcg': 0.001989091644586975, 'auc': 0.5015434409017387}\n",
      "Training model with below parameter values --------\n",
      "latent_factors: 32, regularization: 0.1, learning_rate: 0.05\n"
     ]
    },
    {
     "name": "stderr",
     "output_type": "stream",
     "text": [
      "100%|█████████████████████████████████████████████████████████████████████████████████████████████████████████████████████| 15/15 [04:49<00:00, 19.33s/it, train_auc=50.87%, skipped=0.03%]\n",
      "100%|████████████████████████████████████████████████████████████████████████████████████████████████████████████████████████████████████████████| 330846/330846 [00:54<00:00, 6043.36it/s]\n"
     ]
    },
    {
     "name": "stdout",
     "output_type": "stream",
     "text": [
      "Evaluation results: \n",
      " {'precision': 0.0004732808074668766, 'map': 4.450531293080392e-05, 'ndcg': 9.109108341231744e-05, 'auc': 0.5000354855617553}\n",
      "Training model with below parameter values --------\n",
      "latent_factors: 32, regularization: 0.1, learning_rate: 0.1\n"
     ]
    },
    {
     "name": "stderr",
     "output_type": "stream",
     "text": [
      "100%|█████████████████████████████████████████████████████████████████████████████████████████████████████████████████████| 15/15 [04:55<00:00, 19.67s/it, train_auc=53.02%, skipped=0.03%]\n",
      "100%|████████████████████████████████████████████████████████████████████████████████████████████████████████████████████████████████████████████| 330846/330846 [00:55<00:00, 5981.43it/s]\n"
     ]
    },
    {
     "name": "stdout",
     "output_type": "stream",
     "text": [
      "Evaluation results: \n",
      " {'precision': 0.0011632744057212176, 'map': 0.0002014331546687705, 'ndcg': 0.00033520649639134963, 'auc': 0.5002238425608542}\n",
      "Training model with below parameter values --------\n",
      "latent_factors: 32, regularization: 0.1, learning_rate: 0.5\n"
     ]
    },
    {
     "name": "stderr",
     "output_type": "stream",
     "text": [
      "100%|█████████████████████████████████████████████████████████████████████████████████████████████████████████████████████| 15/15 [04:55<00:00, 19.72s/it, train_auc=95.89%, skipped=0.03%]\n",
      "100%|████████████████████████████████████████████████████████████████████████████████████████████████████████████████████████████████████████████| 330846/330846 [00:54<00:00, 6084.69it/s]\n"
     ]
    },
    {
     "name": "stdout",
     "output_type": "stream",
     "text": [
      "Evaluation results: \n",
      " {'precision': 0.0025905896829765875, 'map': 0.0009643295958684048, 'ndcg': 0.001325739279735986, 'auc': 0.5010350294073845}\n",
      "Training model with below parameter values --------\n",
      "latent_factors: 64, regularization: 0.005, learning_rate: 0.05\n"
     ]
    },
    {
     "name": "stderr",
     "output_type": "stream",
     "text": [
      "100%|█████████████████████████████████████████████████████████████████████████████████████████████████████████████████████| 15/15 [04:29<00:00, 17.98s/it, train_auc=69.87%, skipped=0.03%]\n",
      "100%|████████████████████████████████████████████████████████████████████████████████████████████████████████████████████████████████████████████| 330846/330846 [00:58<00:00, 5669.51it/s]\n"
     ]
    },
    {
     "name": "stdout",
     "output_type": "stream",
     "text": [
      "Evaluation results: \n",
      " {'precision': 0.00492710230089201, 'map': 0.0014378239544798489, 'ndcg': 0.0020319171666949853, 'auc': 0.5015049986508421}\n",
      "Training model with below parameter values --------\n",
      "latent_factors: 64, regularization: 0.005, learning_rate: 0.1\n"
     ]
    },
    {
     "name": "stderr",
     "output_type": "stream",
     "text": [
      "100%|█████████████████████████████████████████████████████████████████████████████████████████████████████████████████████| 15/15 [04:37<00:00, 18.48s/it, train_auc=91.06%, skipped=0.03%]\n",
      "100%|████████████████████████████████████████████████████████████████████████████████████████████████████████████████████████████████████████████| 330846/330846 [00:57<00:00, 5716.14it/s]\n"
     ]
    },
    {
     "name": "stdout",
     "output_type": "stream",
     "text": [
      "Evaluation results: \n",
      " {'precision': 0.0066159674980632854, 'map': 0.00282569504018807, 'ndcg': 0.0036192071355328212, 'auc': 0.5025838474764652}\n",
      "Training model with below parameter values --------\n",
      "latent_factors: 64, regularization: 0.005, learning_rate: 0.5\n"
     ]
    },
    {
     "name": "stderr",
     "output_type": "stream",
     "text": [
      "100%|█████████████████████████████████████████████████████████████████████████████████████████████████████████████████████| 15/15 [04:29<00:00, 17.97s/it, train_auc=99.92%, skipped=0.03%]\n",
      "100%|████████████████████████████████████████████████████████████████████████████████████████████████████████████████████████████████████████████| 330846/330846 [00:58<00:00, 5695.85it/s]\n"
     ]
    },
    {
     "name": "stdout",
     "output_type": "stream",
     "text": [
      "Evaluation results: \n",
      " {'precision': 0.004750244735996493, 'map': 0.002086271399949085, 'ndcg': 0.0026756709218870357, 'auc': 0.5019734936090827}\n",
      "Training model with below parameter values --------\n",
      "latent_factors: 64, regularization: 0.01, learning_rate: 0.05\n"
     ]
    },
    {
     "name": "stderr",
     "output_type": "stream",
     "text": [
      "100%|█████████████████████████████████████████████████████████████████████████████████████████████████████████████████████| 15/15 [04:47<00:00, 19.14s/it, train_auc=65.10%, skipped=0.03%]\n",
      "100%|████████████████████████████████████████████████████████████████████████████████████████████████████████████████████████████████████████████| 330846/330846 [00:58<00:00, 5635.09it/s]\n"
     ]
    },
    {
     "name": "stdout",
     "output_type": "stream",
     "text": [
      "Evaluation results: \n",
      " {'precision': 0.0044787310096076, 'map': 0.0010533220061568792, 'ndcg': 0.0016122632773172994, 'auc': 0.5012943945809354}\n",
      "Training model with below parameter values --------\n",
      "latent_factors: 64, regularization: 0.01, learning_rate: 0.1\n"
     ]
    },
    {
     "name": "stderr",
     "output_type": "stream",
     "text": [
      "100%|█████████████████████████████████████████████████████████████████████████████████████████████████████████████████████| 15/15 [04:16<00:00, 17.12s/it, train_auc=89.31%, skipped=0.03%]\n",
      "100%|████████████████████████████████████████████████████████████████████████████████████████████████████████████████████████████████████████████| 330846/330846 [01:03<00:00, 5185.10it/s]\n"
     ]
    },
    {
     "name": "stdout",
     "output_type": "stream",
     "text": [
      "Evaluation results: \n",
      " {'precision': 0.005950883415991411, 'map': 0.002406691238049319, 'ndcg': 0.0031258014098690854, 'auc': 0.5022646421095971}\n",
      "Training model with below parameter values --------\n",
      "latent_factors: 64, regularization: 0.01, learning_rate: 0.5\n"
     ]
    },
    {
     "name": "stderr",
     "output_type": "stream",
     "text": [
      "100%|█████████████████████████████████████████████████████████████████████████████████████████████████████████████████████| 15/15 [04:18<00:00, 17.24s/it, train_auc=99.93%, skipped=0.03%]\n",
      "100%|████████████████████████████████████████████████████████████████████████████████████████████████████████████████████████████████████████████| 330846/330846 [01:06<00:00, 4985.43it/s]\n"
     ]
    },
    {
     "name": "stdout",
     "output_type": "stream",
     "text": [
      "Evaluation results: \n",
      " {'precision': 0.005502512124707002, 'map': 0.002475086842729442, 'ndcg': 0.003160369965842958, 'auc': 0.5023390557638001}\n",
      "Training model with below parameter values --------\n",
      "latent_factors: 64, regularization: 0.05, learning_rate: 0.05\n"
     ]
    },
    {
     "name": "stderr",
     "output_type": "stream",
     "text": [
      "100%|█████████████████████████████████████████████████████████████████████████████████████████████████████████████████████| 15/15 [04:32<00:00, 18.16s/it, train_auc=52.26%, skipped=0.03%]\n",
      "100%|████████████████████████████████████████████████████████████████████████████████████████████████████████████████████████████████████████████| 330846/330846 [01:03<00:00, 5176.35it/s]\n"
     ]
    },
    {
     "name": "stdout",
     "output_type": "stream",
     "text": [
      "Evaluation results: \n",
      " {'precision': 0.001576772374350173, 'map': 0.00022421653918958248, 'ndcg': 0.00038224890662666493, 'auc': 0.500254889565104}\n",
      "Training model with below parameter values --------\n",
      "latent_factors: 64, regularization: 0.05, learning_rate: 0.1\n"
     ]
    },
    {
     "name": "stderr",
     "output_type": "stream",
     "text": [
      "100%|█████████████████████████████████████████████████████████████████████████████████████████████████████████████████████| 15/15 [04:26<00:00, 17.74s/it, train_auc=58.38%, skipped=0.03%]\n",
      "100%|████████████████████████████████████████████████████████████████████████████████████████████████████████████████████████████████████████████| 330846/330846 [01:04<00:00, 5146.06it/s]\n"
     ]
    },
    {
     "name": "stdout",
     "output_type": "stream",
     "text": [
      "Evaluation results: \n",
      " {'precision': 0.0019155417944317268, 'map': 0.0003661489061802452, 'ndcg': 0.0005755037422209674, 'auc': 0.5004141120747255}\n",
      "Training model with below parameter values --------\n",
      "latent_factors: 64, regularization: 0.05, learning_rate: 0.5\n"
     ]
    },
    {
     "name": "stderr",
     "output_type": "stream",
     "text": [
      "100%|█████████████████████████████████████████████████████████████████████████████████████████████████████████████████████| 15/15 [04:27<00:00, 17.85s/it, train_auc=99.63%, skipped=0.03%]\n",
      "100%|████████████████████████████████████████████████████████████████████████████████████████████████████████████████████████████████████████████| 330846/330846 [01:04<00:00, 5165.29it/s]\n"
     ]
    },
    {
     "name": "stdout",
     "output_type": "stream",
     "text": [
      "Evaluation results: \n",
      " {'precision': 0.0059284648514271905, 'map': 0.0026337018503463654, 'ndcg': 0.0034282608547800976, 'auc': 0.5025905719527494}\n",
      "Training model with below parameter values --------\n",
      "latent_factors: 64, regularization: 0.1, learning_rate: 0.05\n"
     ]
    },
    {
     "name": "stderr",
     "output_type": "stream",
     "text": [
      "100%|█████████████████████████████████████████████████████████████████████████████████████████████████████████████████████| 15/15 [04:47<00:00, 19.18s/it, train_auc=50.75%, skipped=0.03%]\n",
      "100%|████████████████████████████████████████████████████████████████████████████████████████████████████████████████████████████████████████████| 330846/330846 [00:58<00:00, 5697.06it/s]\n"
     ]
    },
    {
     "name": "stdout",
     "output_type": "stream",
     "text": [
      "Evaluation results: \n",
      " {'precision': 0.00046082604937564296, 'map': 6.014601953731887e-05, 'ndcg': 0.00010313889060514568, 'auc': 0.5000376837709032}\n",
      "Training model with below parameter values --------\n",
      "latent_factors: 64, regularization: 0.1, learning_rate: 0.1\n"
     ]
    },
    {
     "name": "stderr",
     "output_type": "stream",
     "text": [
      "100%|█████████████████████████████████████████████████████████████████████████████████████████████████████████████████████| 15/15 [04:48<00:00, 19.21s/it, train_auc=52.74%, skipped=0.03%]\n",
      "100%|████████████████████████████████████████████████████████████████████████████████████████████████████████████████████████████████████████████| 330846/330846 [00:57<00:00, 5729.06it/s]\n"
     ]
    },
    {
     "name": "stdout",
     "output_type": "stream",
     "text": [
      "Evaluation results: \n",
      " {'precision': 0.0012678943736875799, 'map': 0.000199985351444558, 'ndcg': 0.00033859986519710106, 'auc': 0.5002423698988575}\n",
      "Training model with below parameter values --------\n",
      "latent_factors: 64, regularization: 0.1, learning_rate: 0.5\n"
     ]
    },
    {
     "name": "stderr",
     "output_type": "stream",
     "text": [
      "100%|█████████████████████████████████████████████████████████████████████████████████████████████████████████████████████| 15/15 [04:31<00:00, 18.13s/it, train_auc=96.15%, skipped=0.03%]\n",
      "100%|████████████████████████████████████████████████████████████████████████████████████████████████████████████████████████████████████████████| 330846/330846 [00:57<00:00, 5725.47it/s]\n"
     ]
    },
    {
     "name": "stdout",
     "output_type": "stream",
     "text": [
      "Evaluation results: \n",
      " {'precision': 0.0029218862482034012, 'map': 0.0010816821204483924, 'ndcg': 0.0015042312907786542, 'auc': 0.5012069973362697}\n",
      "Training model with below parameter values --------\n",
      "latent_factors: 128, regularization: 0.005, learning_rate: 0.05\n"
     ]
    },
    {
     "name": "stderr",
     "output_type": "stream",
     "text": [
      "100%|█████████████████████████████████████████████████████████████████████████████████████████████████████████████████████| 15/15 [04:46<00:00, 19.12s/it, train_auc=67.66%, skipped=0.03%]\n",
      "100%|████████████████████████████████████████████████████████████████████████████████████████████████████████████████████████████████████████████| 330846/330846 [01:16<00:00, 4333.26it/s]\n"
     ]
    },
    {
     "name": "stdout",
     "output_type": "stream",
     "text": [
      "Evaluation results: \n",
      " {'precision': 0.00493457515574675, 'map': 0.0014357976431964492, 'ndcg': 0.002035257646474673, 'auc': 0.5015085191165501}\n",
      "Training model with below parameter values --------\n",
      "latent_factors: 128, regularization: 0.005, learning_rate: 0.1\n"
     ]
    },
    {
     "name": "stderr",
     "output_type": "stream",
     "text": [
      "100%|█████████████████████████████████████████████████████████████████████████████████████████████████████████████████████| 15/15 [05:04<00:00, 20.30s/it, train_auc=90.28%, skipped=0.03%]\n",
      "100%|████████████████████████████████████████████████████████████████████████████████████████████████████████████████████████████████████████████| 330846/330846 [01:16<00:00, 4324.13it/s]\n"
     ]
    },
    {
     "name": "stdout",
     "output_type": "stream",
     "text": [
      "Evaluation results: \n",
      " {'precision': 0.006924845498725878, 'map': 0.002844527509685439, 'ndcg': 0.0036996966833047853, 'auc': 0.5026596968589291}\n",
      "Training model with below parameter values --------\n",
      "latent_factors: 128, regularization: 0.005, learning_rate: 0.5\n"
     ]
    },
    {
     "name": "stderr",
     "output_type": "stream",
     "text": [
      "100%|█████████████████████████████████████████████████████████████████████████████████████████████████████████████████████| 15/15 [04:54<00:00, 19.66s/it, train_auc=99.97%, skipped=0.03%]\n",
      "100%|████████████████████████████████████████████████████████████████████████████████████████████████████████████████████████████████████████████| 330846/330846 [01:19<00:00, 4144.97it/s]\n"
     ]
    },
    {
     "name": "stdout",
     "output_type": "stream",
     "text": [
      "Evaluation results: \n",
      " {'precision': 0.006187523819724849, 'map': 0.002731083347148823, 'ndcg': 0.0035044229796235647, 'auc': 0.502581033302263}\n",
      "Training model with below parameter values --------\n",
      "latent_factors: 128, regularization: 0.01, learning_rate: 0.05\n"
     ]
    },
    {
     "name": "stderr",
     "output_type": "stream",
     "text": [
      "100%|█████████████████████████████████████████████████████████████████████████████████████████████████████████████████████| 15/15 [04:44<00:00, 18.97s/it, train_auc=62.61%, skipped=0.03%]\n",
      "100%|████████████████████████████████████████████████████████████████████████████████████████████████████████████████████████████████████████████| 330846/330846 [01:20<00:00, 4128.70it/s]\n"
     ]
    },
    {
     "name": "stdout",
     "output_type": "stream",
     "text": [
      "Evaluation results: \n",
      " {'precision': 0.0044015115094419525, 'map': 0.001078309752989047, 'ndcg': 0.0016199258636008162, 'auc': 0.5012570752410592}\n",
      "Training model with below parameter values --------\n",
      "latent_factors: 128, regularization: 0.01, learning_rate: 0.1\n"
     ]
    },
    {
     "name": "stderr",
     "output_type": "stream",
     "text": [
      "100%|█████████████████████████████████████████████████████████████████████████████████████████████████████████████████████| 15/15 [04:41<00:00, 18.75s/it, train_auc=87.97%, skipped=0.03%]\n",
      "100%|████████████████████████████████████████████████████████████████████████████████████████████████████████████████████████████████████████████| 330846/330846 [01:19<00:00, 4185.32it/s]\n"
     ]
    },
    {
     "name": "stdout",
     "output_type": "stream",
     "text": [
      "Evaluation results: \n",
      " {'precision': 0.006267234271508744, 'map': 0.0025742225609569703, 'ndcg': 0.003346364980099793, 'auc': 0.5023934726730573}\n",
      "Training model with below parameter values --------\n",
      "latent_factors: 128, regularization: 0.01, learning_rate: 0.5\n"
     ]
    },
    {
     "name": "stderr",
     "output_type": "stream",
     "text": [
      "100%|█████████████████████████████████████████████████████████████████████████████████████████████████████████████████████| 15/15 [04:38<00:00, 18.54s/it, train_auc=99.96%, skipped=0.03%]\n",
      "100%|████████████████████████████████████████████████████████████████████████████████████████████████████████████████████████████████████████████| 330846/330846 [01:20<00:00, 4095.16it/s]\n"
     ]
    },
    {
     "name": "stdout",
     "output_type": "stream",
     "text": [
      "Evaluation results: \n",
      " {'precision': 0.0070668297409659415, 'map': 0.0031848358331388153, 'ndcg': 0.004086222661043248, 'auc': 0.5030455002362854}\n",
      "Training model with below parameter values --------\n",
      "latent_factors: 128, regularization: 0.05, learning_rate: 0.05\n"
     ]
    },
    {
     "name": "stderr",
     "output_type": "stream",
     "text": [
      "100%|█████████████████████████████████████████████████████████████████████████████████████████████████████████████████████| 15/15 [05:20<00:00, 21.37s/it, train_auc=51.95%, skipped=0.03%]\n",
      "100%|████████████████████████████████████████████████████████████████████████████████████████████████████████████████████████████████████████████| 330846/330846 [01:18<00:00, 4198.61it/s]\n"
     ]
    },
    {
     "name": "stdout",
     "output_type": "stream",
     "text": [
      "Evaluation results: \n",
      " {'precision': 0.0012977857931065406, 'map': 0.00021204171293387033, 'ndcg': 0.00034951840207446606, 'auc': 0.5002183541761672}\n",
      "Training model with below parameter values --------\n",
      "latent_factors: 128, regularization: 0.05, learning_rate: 0.1\n"
     ]
    },
    {
     "name": "stderr",
     "output_type": "stream",
     "text": [
      "100%|█████████████████████████████████████████████████████████████████████████████████████████████████████████████████████| 15/15 [04:46<00:00, 19.07s/it, train_auc=57.39%, skipped=0.03%]\n",
      "100%|████████████████████████████████████████████████████████████████████████████████████████████████████████████████████████████████████████████| 330846/330846 [01:21<00:00, 4081.47it/s]\n"
     ]
    },
    {
     "name": "stdout",
     "output_type": "stream",
     "text": [
      "Evaluation results: \n",
      " {'precision': 0.001868213713685039, 'map': 0.00033730946353435363, 'ndcg': 0.0005512964428087143, 'auc': 0.5004040915683748}\n",
      "Training model with below parameter values --------\n",
      "latent_factors: 128, regularization: 0.05, learning_rate: 0.5\n"
     ]
    },
    {
     "name": "stderr",
     "output_type": "stream",
     "text": [
      "100%|█████████████████████████████████████████████████████████████████████████████████████████████████████████████████████| 15/15 [05:06<00:00, 20.42s/it, train_auc=99.71%, skipped=0.03%]\n",
      "100%|████████████████████████████████████████████████████████████████████████████████████████████████████████████████████████████████████████████| 330846/330846 [01:21<00:00, 4073.04it/s]\n"
     ]
    },
    {
     "name": "stdout",
     "output_type": "stream",
     "text": [
      "Evaluation results: \n",
      " {'precision': 0.0067180965144114, 'map': 0.0027150485699802144, 'ndcg': 0.0036573875811632853, 'auc': 0.5028805257667891}\n",
      "Training model with below parameter values --------\n",
      "latent_factors: 128, regularization: 0.1, learning_rate: 0.05\n"
     ]
    },
    {
     "name": "stderr",
     "output_type": "stream",
     "text": [
      "100%|█████████████████████████████████████████████████████████████████████████████████████████████████████████████████████| 15/15 [05:11<00:00, 20.74s/it, train_auc=50.49%, skipped=0.03%]\n",
      "100%|████████████████████████████████████████████████████████████████████████████████████████████████████████████████████████████████████████████| 330846/330846 [01:20<00:00, 4108.98it/s]\n"
     ]
    },
    {
     "name": "stdout",
     "output_type": "stream",
     "text": [
      "Evaluation results: \n",
      " {'precision': 0.0003711517911187611, 'map': 3.483024388836055e-05, 'ndcg': 7.324943159879043e-05, 'auc': 0.5000335087251278}\n",
      "Training model with below parameter values --------\n",
      "latent_factors: 128, regularization: 0.1, learning_rate: 0.1\n"
     ]
    },
    {
     "name": "stderr",
     "output_type": "stream",
     "text": [
      "100%|█████████████████████████████████████████████████████████████████████████████████████████████████████████████████████| 15/15 [05:10<00:00, 20.70s/it, train_auc=52.57%, skipped=0.03%]\n",
      "100%|████████████████████████████████████████████████████████████████████████████████████████████████████████████████████████████████████████████| 330846/330846 [01:21<00:00, 4053.81it/s]\n"
     ]
    },
    {
     "name": "stdout",
     "output_type": "stream",
     "text": [
      "Evaluation results: \n",
      " {'precision': 0.0012056205832314119, 'map': 0.0001228112288979733, 'ndcg': 0.00025023106498434084, 'auc': 0.5001711082343053}\n",
      "Training model with below parameter values --------\n",
      "latent_factors: 128, regularization: 0.1, learning_rate: 0.5\n"
     ]
    },
    {
     "name": "stderr",
     "output_type": "stream",
     "text": [
      "100%|█████████████████████████████████████████████████████████████████████████████████████████████████████████████████████| 15/15 [04:23<00:00, 17.59s/it, train_auc=95.51%, skipped=0.03%]\n",
      "100%|████████████████████████████████████████████████████████████████████████████████████████████████████████████████████████████████████████████| 330846/330846 [01:20<00:00, 4125.01it/s]\n"
     ]
    },
    {
     "name": "stdout",
     "output_type": "stream",
     "text": [
      "Evaluation results: \n",
      " {'precision': 0.0028571215061289866, 'map': 0.001023162109375198, 'ndcg': 0.0014290328737616219, 'auc': 0.5011397703737782}\n",
      "Training model with below parameter values --------\n",
      "latent_factors: 256, regularization: 0.005, learning_rate: 0.05\n"
     ]
    },
    {
     "name": "stderr",
     "output_type": "stream",
     "text": [
      "100%|█████████████████████████████████████████████████████████████████████████████████████████████████████████████████████| 15/15 [04:52<00:00, 19.49s/it, train_auc=65.80%, skipped=0.03%]\n",
      "100%|████████████████████████████████████████████████████████████████████████████████████████████████████████████████████████████████████████████| 330846/330846 [02:19<00:00, 2366.26it/s]\n"
     ]
    },
    {
     "name": "stdout",
     "output_type": "stream",
     "text": [
      "Evaluation results: \n",
      " {'precision': 0.004952011817074477, 'map': 0.0014051704603957281, 'ndcg': 0.002017338565261821, 'auc': 0.5015145771296602}\n",
      "Training model with below parameter values --------\n",
      "latent_factors: 256, regularization: 0.005, learning_rate: 0.1\n"
     ]
    },
    {
     "name": "stderr",
     "output_type": "stream",
     "text": [
      "100%|█████████████████████████████████████████████████████████████████████████████████████████████████████████████████████| 15/15 [05:19<00:00, 21.27s/it, train_auc=89.39%, skipped=0.03%]\n",
      "100%|████████████████████████████████████████████████████████████████████████████████████████████████████████████████████████████████████████████| 330846/330846 [02:18<00:00, 2388.43it/s]\n"
     ]
    },
    {
     "name": "stdout",
     "output_type": "stream",
     "text": [
      "Evaluation results: \n",
      " {'precision': 0.007089248305530161, 'map': 0.0029807969281441813, 'ndcg': 0.003852949749896595, 'auc': 0.5027702769570433}\n",
      "Training model with below parameter values --------\n",
      "latent_factors: 256, regularization: 0.005, learning_rate: 0.5\n"
     ]
    },
    {
     "name": "stderr",
     "output_type": "stream",
     "text": [
      "100%|█████████████████████████████████████████████████████████████████████████████████████████████████████████████████████| 15/15 [05:14<00:00, 20.96s/it, train_auc=99.97%, skipped=0.03%]\n",
      "100%|████████████████████████████████████████████████████████████████████████████████████████████████████████████████████████████████████████████| 330846/330846 [02:20<00:00, 2356.84it/s]\n"
     ]
    },
    {
     "name": "stdout",
     "output_type": "stream",
     "text": [
      "Evaluation results: \n",
      " {'precision': 0.00684762599856023, 'map': 0.003154231733582996, 'ndcg': 0.00397635727820552, 'auc': 0.5028463173521698}\n",
      "Training model with below parameter values --------\n",
      "latent_factors: 256, regularization: 0.01, learning_rate: 0.05\n"
     ]
    },
    {
     "name": "stderr",
     "output_type": "stream",
     "text": [
      "100%|█████████████████████████████████████████████████████████████████████████████████████████████████████████████████████| 15/15 [05:22<00:00, 21.47s/it, train_auc=60.44%, skipped=0.03%]\n",
      "100%|████████████████████████████████████████████████████████████████████████████████████████████████████████████████████████████████████████████| 330846/330846 [02:08<00:00, 2572.64it/s]\n"
     ]
    },
    {
     "name": "stdout",
     "output_type": "stream",
     "text": [
      "Evaluation results: \n",
      " {'precision': 0.0038833935728466345, 'map': 0.000834356082243676, 'ndcg': 0.0013050758018389415, 'auc': 0.5010293834136466}\n",
      "Training model with below parameter values --------\n",
      "latent_factors: 256, regularization: 0.01, learning_rate: 0.1\n"
     ]
    },
    {
     "name": "stderr",
     "output_type": "stream",
     "text": [
      "100%|█████████████████████████████████████████████████████████████████████████████████████████████████████████████████████| 15/15 [05:15<00:00, 21.05s/it, train_auc=86.50%, skipped=0.03%]\n",
      "100%|████████████████████████████████████████████████████████████████████████████████████████████████████████████████████████████████████████████| 330846/330846 [02:05<00:00, 2645.59it/s]\n"
     ]
    },
    {
     "name": "stdout",
     "output_type": "stream",
     "text": [
      "Evaluation results: \n",
      " {'precision': 0.006175069061633616, 'map': 0.0024764283991528793, 'ndcg': 0.0032283007601867776, 'auc': 0.5023383419814597}\n",
      "Training model with below parameter values --------\n",
      "latent_factors: 256, regularization: 0.01, learning_rate: 0.5\n"
     ]
    },
    {
     "name": "stderr",
     "output_type": "stream",
     "text": [
      "100%|█████████████████████████████████████████████████████████████████████████████████████████████████████████████████████| 15/15 [04:33<00:00, 18.24s/it, train_auc=99.96%, skipped=0.03%]\n",
      "100%|████████████████████████████████████████████████████████████████████████████████████████████████████████████████████████████████████████████| 330846/330846 [02:20<00:00, 2362.40it/s]\n"
     ]
    },
    {
     "name": "stdout",
     "output_type": "stream",
     "text": [
      "Evaluation results: \n",
      " {'precision': 0.007550074354905805, 'map': 0.003405140609530662, 'ndcg': 0.004353982497348026, 'auc': 0.503197469468741}\n",
      "Training model with below parameter values --------\n",
      "latent_factors: 256, regularization: 0.05, learning_rate: 0.05\n"
     ]
    },
    {
     "name": "stderr",
     "output_type": "stream",
     "text": [
      "100%|█████████████████████████████████████████████████████████████████████████████████████████████████████████████████████| 15/15 [05:17<00:00, 21.19s/it, train_auc=51.80%, skipped=0.03%]\n",
      "100%|████████████████████████████████████████████████████████████████████████████████████████████████████████████████████████████████████████████| 330846/330846 [02:21<00:00, 2340.10it/s]\n"
     ]
    },
    {
     "name": "stdout",
     "output_type": "stream",
     "text": [
      "Evaluation results: \n",
      " {'precision': 0.0010437087280453753, 'map': 0.00016065105709964228, 'ndcg': 0.0002707906316741404, 'auc': 0.5001498671906898}\n",
      "Training model with below parameter values --------\n",
      "latent_factors: 256, regularization: 0.05, learning_rate: 0.1\n"
     ]
    },
    {
     "name": "stderr",
     "output_type": "stream",
     "text": [
      "100%|█████████████████████████████████████████████████████████████████████████████████████████████████████████████████████| 15/15 [05:20<00:00, 21.39s/it, train_auc=56.56%, skipped=0.03%]\n",
      "100%|████████████████████████████████████████████████████████████████████████████████████████████████████████████████████████████████████████████| 330846/330846 [02:19<00:00, 2378.41it/s]\n"
     ]
    },
    {
     "name": "stdout",
     "output_type": "stream",
     "text": [
      "Evaluation results: \n",
      " {'precision': 0.0019529060687054275, 'map': 0.0003664184824789186, 'ndcg': 0.0005859659672908122, 'auc': 0.500425695462237}\n",
      "Training model with below parameter values --------\n",
      "latent_factors: 256, regularization: 0.05, learning_rate: 0.5\n"
     ]
    },
    {
     "name": "stderr",
     "output_type": "stream",
     "text": [
      "100%|█████████████████████████████████████████████████████████████████████████████████████████████████████████████████████| 15/15 [05:16<00:00, 21.10s/it, train_auc=99.69%, skipped=0.03%]\n",
      "100%|████████████████████████████████████████████████████████████████████████████████████████████████████████████████████████████████████████████| 330846/330846 [02:18<00:00, 2384.26it/s]\n"
     ]
    },
    {
     "name": "stdout",
     "output_type": "stream",
     "text": [
      "Evaluation results: \n",
      " {'precision': 0.006344453771674393, 'map': 0.002834257207250267, 'ndcg': 0.0036833733232700234, 'auc': 0.5027980839021086}\n",
      "Training model with below parameter values --------\n",
      "latent_factors: 256, regularization: 0.1, learning_rate: 0.05\n"
     ]
    },
    {
     "name": "stderr",
     "output_type": "stream",
     "text": [
      "100%|█████████████████████████████████████████████████████████████████████████████████████████████████████████████████████| 15/15 [05:30<00:00, 22.06s/it, train_auc=50.31%, skipped=0.03%]\n",
      "100%|████████████████████████████████████████████████████████████████████████████████████████████████████████████████████████████████████████████| 330846/330846 [02:14<00:00, 2467.59it/s]\n"
     ]
    },
    {
     "name": "stdout",
     "output_type": "stream",
     "text": [
      "Evaluation results: \n",
      " {'precision': 0.0003611879846457742, 'map': 3.2887819624322404e-05, 'ndcg': 6.666347243447022e-05, 'auc': 0.5000213874473228}\n",
      "Training model with below parameter values --------\n",
      "latent_factors: 256, regularization: 0.1, learning_rate: 0.1\n"
     ]
    },
    {
     "name": "stderr",
     "output_type": "stream",
     "text": [
      "100%|█████████████████████████████████████████████████████████████████████████████████████████████████████████████████████| 15/15 [04:56<00:00, 19.79s/it, train_auc=52.42%, skipped=0.03%]\n",
      "100%|████████████████████████████████████████████████████████████████████████████████████████████████████████████████████████████████████████████| 330846/330846 [02:10<00:00, 2544.39it/s]\n"
     ]
    },
    {
     "name": "stdout",
     "output_type": "stream",
     "text": [
      "Evaluation results: \n",
      " {'precision': 0.0010860549055555695, 'map': 0.00012439657776212735, 'ndcg': 0.00024543475035451707, 'auc': 0.5001835229285885}\n",
      "Training model with below parameter values --------\n",
      "latent_factors: 256, regularization: 0.1, learning_rate: 0.5\n"
     ]
    },
    {
     "name": "stderr",
     "output_type": "stream",
     "text": [
      "100%|█████████████████████████████████████████████████████████████████████████████████████████████████████████████████████| 15/15 [05:31<00:00, 22.09s/it, train_auc=94.29%, skipped=0.03%]\n",
      "100%|████████████████████████████████████████████████████████████████████████████████████████████████████████████████████████████████████████████| 330846/330846 [02:16<00:00, 2418.09it/s]"
     ]
    },
    {
     "name": "stdout",
     "output_type": "stream",
     "text": [
      "Evaluation results: \n",
      " {'precision': 0.002969214328950089, 'map': 0.0011324188937991337, 'ndcg': 0.0015375179012410384, 'auc': 0.5011640557198422}\n"
     ]
    },
    {
     "name": "stderr",
     "output_type": "stream",
     "text": [
      "\n"
     ]
    }
   ],
   "source": [
    "results = []\n",
    "for f in latent_factors:\n",
    "    for r in regularization:\n",
    "        for l in learning_rate:\n",
    "            print(\"Training model with below parameter values --------\")\n",
    "            print(f\"latent_factors: {f}, regularization: {r}, learning_rate: {l}\")\n",
    "            model =  BayesianPersonalizedRanking(factors=f, regularization=r, learning_rate=l, iterations=15, num_threads=0)\n",
    "            model.fit(train_csr)\n",
    "            ranking_metrics_at_10 = evaluation.ranking_metrics_at_k(model, train_csr, test_csr, K=10, show_progress=True, num_threads=0)\n",
    "            print(\"Evaluation results: \\n\", ranking_metrics_at_10)\n",
    "            results.append(\n",
    "                (f,r,l,ranking_metrics_at_10['precision'],ranking_metrics_at_10['map'],ranking_metrics_at_10['ndcg'],ranking_metrics_at_10['auc'])\n",
    "            )\n",
    "            # Garbage handling\n",
    "            del model\n",
    "            gc.collect()"
   ]
  },
  {
   "cell_type": "code",
   "execution_count": 16,
   "id": "190239e4-61a0-4cda-a405-50741a02a876",
   "metadata": {
    "scrolled": true,
    "tags": []
   },
   "outputs": [
    {
     "data": {
      "text/html": [
       "<div>\n",
       "<style scoped>\n",
       "    .dataframe tbody tr th:only-of-type {\n",
       "        vertical-align: middle;\n",
       "    }\n",
       "\n",
       "    .dataframe tbody tr th {\n",
       "        vertical-align: top;\n",
       "    }\n",
       "\n",
       "    .dataframe thead th {\n",
       "        text-align: right;\n",
       "    }\n",
       "</style>\n",
       "<table border=\"1\" class=\"dataframe\">\n",
       "  <thead>\n",
       "    <tr style=\"text-align: right;\">\n",
       "      <th></th>\n",
       "      <th>latent_factors</th>\n",
       "      <th>regularization</th>\n",
       "      <th>learning_rate</th>\n",
       "      <th>precision</th>\n",
       "      <th>map</th>\n",
       "      <th>ndcg</th>\n",
       "      <th>auc</th>\n",
       "    </tr>\n",
       "  </thead>\n",
       "  <tbody>\n",
       "    <tr>\n",
       "      <th>0</th>\n",
       "      <td>32</td>\n",
       "      <td>0.005</td>\n",
       "      <td>0.05</td>\n",
       "      <td>0.005101</td>\n",
       "      <td>0.001503</td>\n",
       "      <td>0.002132</td>\n",
       "      <td>0.501615</td>\n",
       "    </tr>\n",
       "    <tr>\n",
       "      <th>1</th>\n",
       "      <td>32</td>\n",
       "      <td>0.005</td>\n",
       "      <td>0.10</td>\n",
       "      <td>0.005468</td>\n",
       "      <td>0.002293</td>\n",
       "      <td>0.002953</td>\n",
       "      <td>0.502131</td>\n",
       "    </tr>\n",
       "    <tr>\n",
       "      <th>2</th>\n",
       "      <td>32</td>\n",
       "      <td>0.005</td>\n",
       "      <td>0.50</td>\n",
       "      <td>0.001188</td>\n",
       "      <td>0.000249</td>\n",
       "      <td>0.000432</td>\n",
       "      <td>0.500398</td>\n",
       "    </tr>\n",
       "    <tr>\n",
       "      <th>3</th>\n",
       "      <td>32</td>\n",
       "      <td>0.010</td>\n",
       "      <td>0.05</td>\n",
       "      <td>0.004481</td>\n",
       "      <td>0.001051</td>\n",
       "      <td>0.001614</td>\n",
       "      <td>0.501302</td>\n",
       "    </tr>\n",
       "    <tr>\n",
       "      <th>4</th>\n",
       "      <td>32</td>\n",
       "      <td>0.010</td>\n",
       "      <td>0.10</td>\n",
       "      <td>0.005216</td>\n",
       "      <td>0.002069</td>\n",
       "      <td>0.002711</td>\n",
       "      <td>0.501991</td>\n",
       "    </tr>\n",
       "    <tr>\n",
       "      <th>5</th>\n",
       "      <td>32</td>\n",
       "      <td>0.010</td>\n",
       "      <td>0.50</td>\n",
       "      <td>0.002959</td>\n",
       "      <td>0.001068</td>\n",
       "      <td>0.001470</td>\n",
       "      <td>0.501147</td>\n",
       "    </tr>\n",
       "    <tr>\n",
       "      <th>6</th>\n",
       "      <td>32</td>\n",
       "      <td>0.050</td>\n",
       "      <td>0.05</td>\n",
       "      <td>0.001594</td>\n",
       "      <td>0.000246</td>\n",
       "      <td>0.000406</td>\n",
       "      <td>0.500254</td>\n",
       "    </tr>\n",
       "    <tr>\n",
       "      <th>7</th>\n",
       "      <td>32</td>\n",
       "      <td>0.050</td>\n",
       "      <td>0.10</td>\n",
       "      <td>0.002172</td>\n",
       "      <td>0.000454</td>\n",
       "      <td>0.000701</td>\n",
       "      <td>0.500471</td>\n",
       "    </tr>\n",
       "    <tr>\n",
       "      <th>8</th>\n",
       "      <td>32</td>\n",
       "      <td>0.050</td>\n",
       "      <td>0.50</td>\n",
       "      <td>0.003741</td>\n",
       "      <td>0.001479</td>\n",
       "      <td>0.001989</td>\n",
       "      <td>0.501543</td>\n",
       "    </tr>\n",
       "    <tr>\n",
       "      <th>9</th>\n",
       "      <td>32</td>\n",
       "      <td>0.100</td>\n",
       "      <td>0.05</td>\n",
       "      <td>0.000473</td>\n",
       "      <td>0.000045</td>\n",
       "      <td>0.000091</td>\n",
       "      <td>0.500035</td>\n",
       "    </tr>\n",
       "    <tr>\n",
       "      <th>10</th>\n",
       "      <td>32</td>\n",
       "      <td>0.100</td>\n",
       "      <td>0.10</td>\n",
       "      <td>0.001163</td>\n",
       "      <td>0.000201</td>\n",
       "      <td>0.000335</td>\n",
       "      <td>0.500224</td>\n",
       "    </tr>\n",
       "    <tr>\n",
       "      <th>11</th>\n",
       "      <td>32</td>\n",
       "      <td>0.100</td>\n",
       "      <td>0.50</td>\n",
       "      <td>0.002591</td>\n",
       "      <td>0.000964</td>\n",
       "      <td>0.001326</td>\n",
       "      <td>0.501035</td>\n",
       "    </tr>\n",
       "    <tr>\n",
       "      <th>12</th>\n",
       "      <td>64</td>\n",
       "      <td>0.005</td>\n",
       "      <td>0.05</td>\n",
       "      <td>0.004927</td>\n",
       "      <td>0.001438</td>\n",
       "      <td>0.002032</td>\n",
       "      <td>0.501505</td>\n",
       "    </tr>\n",
       "    <tr>\n",
       "      <th>13</th>\n",
       "      <td>64</td>\n",
       "      <td>0.005</td>\n",
       "      <td>0.10</td>\n",
       "      <td>0.006616</td>\n",
       "      <td>0.002826</td>\n",
       "      <td>0.003619</td>\n",
       "      <td>0.502584</td>\n",
       "    </tr>\n",
       "    <tr>\n",
       "      <th>14</th>\n",
       "      <td>64</td>\n",
       "      <td>0.005</td>\n",
       "      <td>0.50</td>\n",
       "      <td>0.004750</td>\n",
       "      <td>0.002086</td>\n",
       "      <td>0.002676</td>\n",
       "      <td>0.501973</td>\n",
       "    </tr>\n",
       "    <tr>\n",
       "      <th>15</th>\n",
       "      <td>64</td>\n",
       "      <td>0.010</td>\n",
       "      <td>0.05</td>\n",
       "      <td>0.004479</td>\n",
       "      <td>0.001053</td>\n",
       "      <td>0.001612</td>\n",
       "      <td>0.501294</td>\n",
       "    </tr>\n",
       "    <tr>\n",
       "      <th>16</th>\n",
       "      <td>64</td>\n",
       "      <td>0.010</td>\n",
       "      <td>0.10</td>\n",
       "      <td>0.005951</td>\n",
       "      <td>0.002407</td>\n",
       "      <td>0.003126</td>\n",
       "      <td>0.502265</td>\n",
       "    </tr>\n",
       "    <tr>\n",
       "      <th>17</th>\n",
       "      <td>64</td>\n",
       "      <td>0.010</td>\n",
       "      <td>0.50</td>\n",
       "      <td>0.005503</td>\n",
       "      <td>0.002475</td>\n",
       "      <td>0.003160</td>\n",
       "      <td>0.502339</td>\n",
       "    </tr>\n",
       "    <tr>\n",
       "      <th>18</th>\n",
       "      <td>64</td>\n",
       "      <td>0.050</td>\n",
       "      <td>0.05</td>\n",
       "      <td>0.001577</td>\n",
       "      <td>0.000224</td>\n",
       "      <td>0.000382</td>\n",
       "      <td>0.500255</td>\n",
       "    </tr>\n",
       "    <tr>\n",
       "      <th>19</th>\n",
       "      <td>64</td>\n",
       "      <td>0.050</td>\n",
       "      <td>0.10</td>\n",
       "      <td>0.001916</td>\n",
       "      <td>0.000366</td>\n",
       "      <td>0.000576</td>\n",
       "      <td>0.500414</td>\n",
       "    </tr>\n",
       "    <tr>\n",
       "      <th>20</th>\n",
       "      <td>64</td>\n",
       "      <td>0.050</td>\n",
       "      <td>0.50</td>\n",
       "      <td>0.005928</td>\n",
       "      <td>0.002634</td>\n",
       "      <td>0.003428</td>\n",
       "      <td>0.502591</td>\n",
       "    </tr>\n",
       "    <tr>\n",
       "      <th>21</th>\n",
       "      <td>64</td>\n",
       "      <td>0.100</td>\n",
       "      <td>0.05</td>\n",
       "      <td>0.000461</td>\n",
       "      <td>0.000060</td>\n",
       "      <td>0.000103</td>\n",
       "      <td>0.500038</td>\n",
       "    </tr>\n",
       "    <tr>\n",
       "      <th>22</th>\n",
       "      <td>64</td>\n",
       "      <td>0.100</td>\n",
       "      <td>0.10</td>\n",
       "      <td>0.001268</td>\n",
       "      <td>0.000200</td>\n",
       "      <td>0.000339</td>\n",
       "      <td>0.500242</td>\n",
       "    </tr>\n",
       "    <tr>\n",
       "      <th>23</th>\n",
       "      <td>64</td>\n",
       "      <td>0.100</td>\n",
       "      <td>0.50</td>\n",
       "      <td>0.002922</td>\n",
       "      <td>0.001082</td>\n",
       "      <td>0.001504</td>\n",
       "      <td>0.501207</td>\n",
       "    </tr>\n",
       "    <tr>\n",
       "      <th>24</th>\n",
       "      <td>128</td>\n",
       "      <td>0.005</td>\n",
       "      <td>0.05</td>\n",
       "      <td>0.004935</td>\n",
       "      <td>0.001436</td>\n",
       "      <td>0.002035</td>\n",
       "      <td>0.501509</td>\n",
       "    </tr>\n",
       "    <tr>\n",
       "      <th>25</th>\n",
       "      <td>128</td>\n",
       "      <td>0.005</td>\n",
       "      <td>0.10</td>\n",
       "      <td>0.006925</td>\n",
       "      <td>0.002845</td>\n",
       "      <td>0.003700</td>\n",
       "      <td>0.502660</td>\n",
       "    </tr>\n",
       "    <tr>\n",
       "      <th>26</th>\n",
       "      <td>128</td>\n",
       "      <td>0.005</td>\n",
       "      <td>0.50</td>\n",
       "      <td>0.006188</td>\n",
       "      <td>0.002731</td>\n",
       "      <td>0.003504</td>\n",
       "      <td>0.502581</td>\n",
       "    </tr>\n",
       "    <tr>\n",
       "      <th>27</th>\n",
       "      <td>128</td>\n",
       "      <td>0.010</td>\n",
       "      <td>0.05</td>\n",
       "      <td>0.004402</td>\n",
       "      <td>0.001078</td>\n",
       "      <td>0.001620</td>\n",
       "      <td>0.501257</td>\n",
       "    </tr>\n",
       "    <tr>\n",
       "      <th>28</th>\n",
       "      <td>128</td>\n",
       "      <td>0.010</td>\n",
       "      <td>0.10</td>\n",
       "      <td>0.006267</td>\n",
       "      <td>0.002574</td>\n",
       "      <td>0.003346</td>\n",
       "      <td>0.502393</td>\n",
       "    </tr>\n",
       "    <tr>\n",
       "      <th>29</th>\n",
       "      <td>128</td>\n",
       "      <td>0.010</td>\n",
       "      <td>0.50</td>\n",
       "      <td>0.007067</td>\n",
       "      <td>0.003185</td>\n",
       "      <td>0.004086</td>\n",
       "      <td>0.503046</td>\n",
       "    </tr>\n",
       "    <tr>\n",
       "      <th>30</th>\n",
       "      <td>128</td>\n",
       "      <td>0.050</td>\n",
       "      <td>0.05</td>\n",
       "      <td>0.001298</td>\n",
       "      <td>0.000212</td>\n",
       "      <td>0.000350</td>\n",
       "      <td>0.500218</td>\n",
       "    </tr>\n",
       "    <tr>\n",
       "      <th>31</th>\n",
       "      <td>128</td>\n",
       "      <td>0.050</td>\n",
       "      <td>0.10</td>\n",
       "      <td>0.001868</td>\n",
       "      <td>0.000337</td>\n",
       "      <td>0.000551</td>\n",
       "      <td>0.500404</td>\n",
       "    </tr>\n",
       "    <tr>\n",
       "      <th>32</th>\n",
       "      <td>128</td>\n",
       "      <td>0.050</td>\n",
       "      <td>0.50</td>\n",
       "      <td>0.006718</td>\n",
       "      <td>0.002715</td>\n",
       "      <td>0.003657</td>\n",
       "      <td>0.502881</td>\n",
       "    </tr>\n",
       "    <tr>\n",
       "      <th>33</th>\n",
       "      <td>128</td>\n",
       "      <td>0.100</td>\n",
       "      <td>0.05</td>\n",
       "      <td>0.000371</td>\n",
       "      <td>0.000035</td>\n",
       "      <td>0.000073</td>\n",
       "      <td>0.500034</td>\n",
       "    </tr>\n",
       "    <tr>\n",
       "      <th>34</th>\n",
       "      <td>128</td>\n",
       "      <td>0.100</td>\n",
       "      <td>0.10</td>\n",
       "      <td>0.001206</td>\n",
       "      <td>0.000123</td>\n",
       "      <td>0.000250</td>\n",
       "      <td>0.500171</td>\n",
       "    </tr>\n",
       "    <tr>\n",
       "      <th>35</th>\n",
       "      <td>128</td>\n",
       "      <td>0.100</td>\n",
       "      <td>0.50</td>\n",
       "      <td>0.002857</td>\n",
       "      <td>0.001023</td>\n",
       "      <td>0.001429</td>\n",
       "      <td>0.501140</td>\n",
       "    </tr>\n",
       "    <tr>\n",
       "      <th>36</th>\n",
       "      <td>256</td>\n",
       "      <td>0.005</td>\n",
       "      <td>0.05</td>\n",
       "      <td>0.004952</td>\n",
       "      <td>0.001405</td>\n",
       "      <td>0.002017</td>\n",
       "      <td>0.501515</td>\n",
       "    </tr>\n",
       "    <tr>\n",
       "      <th>37</th>\n",
       "      <td>256</td>\n",
       "      <td>0.005</td>\n",
       "      <td>0.10</td>\n",
       "      <td>0.007089</td>\n",
       "      <td>0.002981</td>\n",
       "      <td>0.003853</td>\n",
       "      <td>0.502770</td>\n",
       "    </tr>\n",
       "    <tr>\n",
       "      <th>38</th>\n",
       "      <td>256</td>\n",
       "      <td>0.005</td>\n",
       "      <td>0.50</td>\n",
       "      <td>0.006848</td>\n",
       "      <td>0.003154</td>\n",
       "      <td>0.003976</td>\n",
       "      <td>0.502846</td>\n",
       "    </tr>\n",
       "    <tr>\n",
       "      <th>39</th>\n",
       "      <td>256</td>\n",
       "      <td>0.010</td>\n",
       "      <td>0.05</td>\n",
       "      <td>0.003883</td>\n",
       "      <td>0.000834</td>\n",
       "      <td>0.001305</td>\n",
       "      <td>0.501029</td>\n",
       "    </tr>\n",
       "    <tr>\n",
       "      <th>40</th>\n",
       "      <td>256</td>\n",
       "      <td>0.010</td>\n",
       "      <td>0.10</td>\n",
       "      <td>0.006175</td>\n",
       "      <td>0.002476</td>\n",
       "      <td>0.003228</td>\n",
       "      <td>0.502338</td>\n",
       "    </tr>\n",
       "    <tr>\n",
       "      <th>41</th>\n",
       "      <td>256</td>\n",
       "      <td>0.010</td>\n",
       "      <td>0.50</td>\n",
       "      <td>0.007550</td>\n",
       "      <td>0.003405</td>\n",
       "      <td>0.004354</td>\n",
       "      <td>0.503197</td>\n",
       "    </tr>\n",
       "    <tr>\n",
       "      <th>42</th>\n",
       "      <td>256</td>\n",
       "      <td>0.050</td>\n",
       "      <td>0.05</td>\n",
       "      <td>0.001044</td>\n",
       "      <td>0.000161</td>\n",
       "      <td>0.000271</td>\n",
       "      <td>0.500150</td>\n",
       "    </tr>\n",
       "    <tr>\n",
       "      <th>43</th>\n",
       "      <td>256</td>\n",
       "      <td>0.050</td>\n",
       "      <td>0.10</td>\n",
       "      <td>0.001953</td>\n",
       "      <td>0.000366</td>\n",
       "      <td>0.000586</td>\n",
       "      <td>0.500426</td>\n",
       "    </tr>\n",
       "    <tr>\n",
       "      <th>44</th>\n",
       "      <td>256</td>\n",
       "      <td>0.050</td>\n",
       "      <td>0.50</td>\n",
       "      <td>0.006344</td>\n",
       "      <td>0.002834</td>\n",
       "      <td>0.003683</td>\n",
       "      <td>0.502798</td>\n",
       "    </tr>\n",
       "    <tr>\n",
       "      <th>45</th>\n",
       "      <td>256</td>\n",
       "      <td>0.100</td>\n",
       "      <td>0.05</td>\n",
       "      <td>0.000361</td>\n",
       "      <td>0.000033</td>\n",
       "      <td>0.000067</td>\n",
       "      <td>0.500021</td>\n",
       "    </tr>\n",
       "    <tr>\n",
       "      <th>46</th>\n",
       "      <td>256</td>\n",
       "      <td>0.100</td>\n",
       "      <td>0.10</td>\n",
       "      <td>0.001086</td>\n",
       "      <td>0.000124</td>\n",
       "      <td>0.000245</td>\n",
       "      <td>0.500184</td>\n",
       "    </tr>\n",
       "    <tr>\n",
       "      <th>47</th>\n",
       "      <td>256</td>\n",
       "      <td>0.100</td>\n",
       "      <td>0.50</td>\n",
       "      <td>0.002969</td>\n",
       "      <td>0.001132</td>\n",
       "      <td>0.001538</td>\n",
       "      <td>0.501164</td>\n",
       "    </tr>\n",
       "  </tbody>\n",
       "</table>\n",
       "</div>"
      ],
      "text/plain": [
       "    latent_factors  regularization  learning_rate  precision       map  \\\n",
       "0               32           0.005           0.05   0.005101  0.001503   \n",
       "1               32           0.005           0.10   0.005468  0.002293   \n",
       "2               32           0.005           0.50   0.001188  0.000249   \n",
       "3               32           0.010           0.05   0.004481  0.001051   \n",
       "4               32           0.010           0.10   0.005216  0.002069   \n",
       "5               32           0.010           0.50   0.002959  0.001068   \n",
       "6               32           0.050           0.05   0.001594  0.000246   \n",
       "7               32           0.050           0.10   0.002172  0.000454   \n",
       "8               32           0.050           0.50   0.003741  0.001479   \n",
       "9               32           0.100           0.05   0.000473  0.000045   \n",
       "10              32           0.100           0.10   0.001163  0.000201   \n",
       "11              32           0.100           0.50   0.002591  0.000964   \n",
       "12              64           0.005           0.05   0.004927  0.001438   \n",
       "13              64           0.005           0.10   0.006616  0.002826   \n",
       "14              64           0.005           0.50   0.004750  0.002086   \n",
       "15              64           0.010           0.05   0.004479  0.001053   \n",
       "16              64           0.010           0.10   0.005951  0.002407   \n",
       "17              64           0.010           0.50   0.005503  0.002475   \n",
       "18              64           0.050           0.05   0.001577  0.000224   \n",
       "19              64           0.050           0.10   0.001916  0.000366   \n",
       "20              64           0.050           0.50   0.005928  0.002634   \n",
       "21              64           0.100           0.05   0.000461  0.000060   \n",
       "22              64           0.100           0.10   0.001268  0.000200   \n",
       "23              64           0.100           0.50   0.002922  0.001082   \n",
       "24             128           0.005           0.05   0.004935  0.001436   \n",
       "25             128           0.005           0.10   0.006925  0.002845   \n",
       "26             128           0.005           0.50   0.006188  0.002731   \n",
       "27             128           0.010           0.05   0.004402  0.001078   \n",
       "28             128           0.010           0.10   0.006267  0.002574   \n",
       "29             128           0.010           0.50   0.007067  0.003185   \n",
       "30             128           0.050           0.05   0.001298  0.000212   \n",
       "31             128           0.050           0.10   0.001868  0.000337   \n",
       "32             128           0.050           0.50   0.006718  0.002715   \n",
       "33             128           0.100           0.05   0.000371  0.000035   \n",
       "34             128           0.100           0.10   0.001206  0.000123   \n",
       "35             128           0.100           0.50   0.002857  0.001023   \n",
       "36             256           0.005           0.05   0.004952  0.001405   \n",
       "37             256           0.005           0.10   0.007089  0.002981   \n",
       "38             256           0.005           0.50   0.006848  0.003154   \n",
       "39             256           0.010           0.05   0.003883  0.000834   \n",
       "40             256           0.010           0.10   0.006175  0.002476   \n",
       "41             256           0.010           0.50   0.007550  0.003405   \n",
       "42             256           0.050           0.05   0.001044  0.000161   \n",
       "43             256           0.050           0.10   0.001953  0.000366   \n",
       "44             256           0.050           0.50   0.006344  0.002834   \n",
       "45             256           0.100           0.05   0.000361  0.000033   \n",
       "46             256           0.100           0.10   0.001086  0.000124   \n",
       "47             256           0.100           0.50   0.002969  0.001132   \n",
       "\n",
       "        ndcg       auc  \n",
       "0   0.002132  0.501615  \n",
       "1   0.002953  0.502131  \n",
       "2   0.000432  0.500398  \n",
       "3   0.001614  0.501302  \n",
       "4   0.002711  0.501991  \n",
       "5   0.001470  0.501147  \n",
       "6   0.000406  0.500254  \n",
       "7   0.000701  0.500471  \n",
       "8   0.001989  0.501543  \n",
       "9   0.000091  0.500035  \n",
       "10  0.000335  0.500224  \n",
       "11  0.001326  0.501035  \n",
       "12  0.002032  0.501505  \n",
       "13  0.003619  0.502584  \n",
       "14  0.002676  0.501973  \n",
       "15  0.001612  0.501294  \n",
       "16  0.003126  0.502265  \n",
       "17  0.003160  0.502339  \n",
       "18  0.000382  0.500255  \n",
       "19  0.000576  0.500414  \n",
       "20  0.003428  0.502591  \n",
       "21  0.000103  0.500038  \n",
       "22  0.000339  0.500242  \n",
       "23  0.001504  0.501207  \n",
       "24  0.002035  0.501509  \n",
       "25  0.003700  0.502660  \n",
       "26  0.003504  0.502581  \n",
       "27  0.001620  0.501257  \n",
       "28  0.003346  0.502393  \n",
       "29  0.004086  0.503046  \n",
       "30  0.000350  0.500218  \n",
       "31  0.000551  0.500404  \n",
       "32  0.003657  0.502881  \n",
       "33  0.000073  0.500034  \n",
       "34  0.000250  0.500171  \n",
       "35  0.001429  0.501140  \n",
       "36  0.002017  0.501515  \n",
       "37  0.003853  0.502770  \n",
       "38  0.003976  0.502846  \n",
       "39  0.001305  0.501029  \n",
       "40  0.003228  0.502338  \n",
       "41  0.004354  0.503197  \n",
       "42  0.000271  0.500150  \n",
       "43  0.000586  0.500426  \n",
       "44  0.003683  0.502798  \n",
       "45  0.000067  0.500021  \n",
       "46  0.000245  0.500184  \n",
       "47  0.001538  0.501164  "
      ]
     },
     "execution_count": 16,
     "metadata": {},
     "output_type": "execute_result"
    }
   ],
   "source": [
    "results_df = pd.DataFrame(results, columns=['latent_factors', 'regularization', 'learning_rate', 'precision', 'map', 'ndcg', 'auc'])\n",
    "results_df"
   ]
  },
  {
   "cell_type": "code",
   "execution_count": 17,
   "id": "da75656f-622b-4e58-bfb5-dd2c4535f536",
   "metadata": {},
   "outputs": [],
   "source": [
    "results_df.to_csv('hyper_parameter_training_results_BPR.csv')"
   ]
  },
  {
   "cell_type": "markdown",
   "id": "b434c2c5-4dc6-4b53-a5b3-217112ca75cd",
   "metadata": {},
   "source": [
    "## Temp code to retrieve results from text to list"
   ]
  },
  {
   "cell_type": "code",
   "execution_count": 5,
   "id": "77042a71-c211-4d29-a114-630d82df570f",
   "metadata": {},
   "outputs": [],
   "source": [
    "params = []\n",
    "for f in latent_factors:\n",
    "    for r in regularization:\n",
    "        for l in learning_rate:\n",
    "            params.append([f,r,l])"
   ]
  },
  {
   "cell_type": "code",
   "execution_count": 7,
   "id": "db8cdd62-2599-4f75-afa8-43d9c71d7056",
   "metadata": {
    "scrolled": true
   },
   "outputs": [
    {
     "data": {
      "text/plain": [
       "\"[\\n    {'precision': 0.00510146891416928, 'map': 0.0015033694633245942, 'ndcg': 0.0021315162558968215, 'auc': 0.5016153388481799},\\n    {'precision': 0.005467638802051548, 'map': 0.0022934639351212148, 'ndcg': 0.0029528598907335073, 'auc': 0.5021309568635243},\\n    {'precision': 0.001188183921903685, 'map': 0.00024903875138810374, 'ndcg': 0.00043161308825532207, 'auc': 0.5003978845943127},\\n    {'precision': 0.004481221961225847, 'map': 0.001050715130654907, 'ndcg': 0.0016142223690655615, 'auc': 0.5013023857993317},\\n    {'precision': 0.005216052688608629, 'map': 0.0020690025506611494, 'ndcg': 0.002711173039869431, 'auc': 0.50199076293975},\\n    {'precision': 0.002959250522477102, 'map': 0.0010683458401969641, 'ndcg': 0.0014697439319069454, 'auc': 0.5011472774375025},\\n    {'precision': 0.0015942090356779, 'map': 0.00024641180358203304, 'ndcg': 0.00040603108998945816, 'auc': 0.500253743824585},\\n    {'precision': 0.002172109811111139, 'map': 0.0004536812015142101, 'ndcg': 0.0007014983008247475, 'auc': 0.5004708951330932},\\n    {'precision': 0.0037414093306065714, 'map': 0.0014788190335124224, 'ndcg': 0.001989091644586975, 'auc': 0.5015434409017387},\\n    {'precision': 0.0004732808074668766, 'map': 4.450531293080392e-05, 'ndcg': 9.109108341231744e-05, 'auc': 0.5000354855617553},\\n    {'precision': 0.0011632744057212176, 'map': 0.0002014331546687705, 'ndcg': 0.00033520649639134963, 'auc': 0.5002238425608542},\\n    {'precision': 0.0025905896829765875, 'map': 0.0009643295958684048, 'ndcg': 0.001325739279735986, 'auc': 0.5010350294073845},\\n    {'precision': 0.00492710230089201, 'map': 0.0014378239544798489, 'ndcg': 0.0020319171666949853, 'auc': 0.5015049986508421},\\n    {'precision': 0.0066159674980632854, 'map': 0.00282569504018807, 'ndcg': 0.0036192071355328212, 'auc': 0.5025838474764652},\\n    {'precision': 0.004750244735996493, 'map': 0.002086271399949085, 'ndcg': 0.0026756709218870357, 'auc': 0.5019734936090827},\\n    {'precision': 0.0044787310096076, 'map': 0.0010533220061568792, 'ndcg': 0.0016122632773172994, 'auc': 0.5012943945809354},\\n    {'precision': 0.005950883415991411, 'map': 0.002406691238049319, 'ndcg': 0.0031258014098690854, 'auc': 0.5022646421095971},\\n    {'precision': 0.005502512124707002, 'map': 0.002475086842729442, 'ndcg': 0.003160369965842958, 'auc': 0.5023390557638001},\\n    {'precision': 0.001576772374350173, 'map': 0.00022421653918958248, 'ndcg': 0.00038224890662666493, 'auc': 0.500254889565104},\\n    {'precision': 0.0019155417944317268, 'map': 0.0003661489061802452, 'ndcg': 0.0005755037422209674, 'auc': 0.5004141120747255},\\n    {'precision': 0.0059284648514271905, 'map': 0.0026337018503463654, 'ndcg': 0.0034282608547800976, 'auc': 0.5025905719527494},\\n    {'precision': 0.00046082604937564296, 'map': 6.014601953731887e-05, 'ndcg': 0.00010313889060514568, 'auc': 0.5000376837709032},\\n    {'precision': 0.0012678943736875799, 'map': 0.000199985351444558, 'ndcg': 0.00033859986519710106, 'auc': 0.5002423698988575},\\n    {'precision': 0.0029218862482034012, 'map': 0.0010816821204483924, 'ndcg': 0.0015042312907786542, 'auc': 0.5012069973362697},\\n    {'precision': 0.00493457515574675, 'map': 0.0014357976431964492, 'ndcg': 0.002035257646474673, 'auc': 0.5015085191165501},\\n    {'precision': 0.006924845498725878, 'map': 0.002844527509685439, 'ndcg': 0.0036996966833047853, 'auc': 0.5026596968589291},\\n    {'precision': 0.006187523819724849, 'map': 0.002731083347148823, 'ndcg': 0.0035044229796235647, 'auc': 0.502581033302263},\\n    {'precision': 0.0044015115094419525, 'map': 0.001078309752989047, 'ndcg': 0.0016199258636008162, 'auc': 0.5012570752410592},\\n    {'precision': 0.006267234271508744, 'map': 0.0025742225609569703, 'ndcg': 0.003346364980099793, 'auc': 0.5023934726730573},\\n    {'precision': 0.0070668297409659415, 'map': 0.0031848358331388153, 'ndcg': 0.004086222661043248, 'auc': 0.5030455002362854},\\n    {'precision': 0.0012977857931065406, 'map': 0.00021204171293387033, 'ndcg': 0.00034951840207446606, 'auc': 0.5002183541761672},\\n    {'precision': 0.001868213713685039, 'map': 0.00033730946353435363, 'ndcg': 0.0005512964428087143, 'auc': 0.5004040915683748},\\n    {'precision': 0.0067180965144114, 'map': 0.0027150485699802144, 'ndcg': 0.0036573875811632853, 'auc': 0.5028805257667891},\\n    {'precision': 0.0003711517911187611, 'map': 3.483024388836055e-05, 'ndcg': 7.324943159879043e-05, 'auc': 0.5000335087251278},\\n    {'precision': 0.0012056205832314119, 'map': 0.0001228112288979733, 'ndcg': 0.00025023106498434084, 'auc': 0.5001711082343053},\\n    {'precision': 0.0028571215061289866, 'map': 0.001023162109375198, 'ndcg': 0.0014290328737616219, 'auc': 0.5011397703737782},\\n    {'precision': 0.004952011817074477, 'map': 0.0014051704603957281, 'ndcg': 0.002017338565261821, 'auc': 0.5015145771296602},\\n    {'precision': 0.007089248305530161, 'map': 0.0029807969281441813, 'ndcg': 0.003852949749896595, 'auc': 0.5027702769570433},\\n    {'precision': 0.00684762599856023, 'map': 0.003154231733582996, 'ndcg': 0.00397635727820552, 'auc': 0.5028463173521698},\\n    {'precision': 0.0038833935728466345, 'map': 0.000834356082243676, 'ndcg': 0.0013050758018389415, 'auc': 0.5010293834136466},\\n    {'precision': 0.006175069061633616, 'map': 0.0024764283991528793, 'ndcg': 0.0032283007601867776, 'auc': 0.5023383419814597},\\n    {'precision': 0.007550074354905805, 'map': 0.003405140609530662, 'ndcg': 0.004353982497348026, 'auc': 0.503197469468741},\\n    {'precision': 0.0010437087280453753, 'map': 0.00016065105709964228, 'ndcg': 0.0002707906316741404, 'auc': 0.5001498671906898},\\n    {'precision': 0.0019529060687054275, 'map': 0.0003664184824789186, 'ndcg': 0.0005859659672908122, 'auc': 0.500425695462237},\\n    {'precision': 0.006344453771674393, 'map': 0.002834257207250267, 'ndcg': 0.0036833733232700234, 'auc': 0.5027980839021086},\\n    {'precision': 0.0003611879846457742, 'map': 3.2887819624322404e-05, 'ndcg': 6.666347243447022e-05, 'auc': 0.5000213874473228},\\n    {'precision': 0.0010860549055555695, 'map': 0.00012439657776212735, 'ndcg': 0.00024543475035451707, 'auc': 0.5001835229285885},\\n    {'precision': 0.002969214328950089, 'map': 0.0011324188937991337, 'ndcg': 0.0015375179012410384, 'auc': 0.5011640557198422}\\n]\""
      ]
     },
     "execution_count": 7,
     "metadata": {},
     "output_type": "execute_result"
    }
   ],
   "source": [
    "with open(\"tmp_BPR_results.txt\") as fp:\n",
    "    text = fp.read()\n",
    "text"
   ]
  },
  {
   "cell_type": "code",
   "execution_count": 14,
   "id": "2d965560-d5f1-483c-bc8a-ba270216020e",
   "metadata": {},
   "outputs": [],
   "source": [
    " metrics = eval(text)"
   ]
  },
  {
   "cell_type": "code",
   "execution_count": 15,
   "id": "97e2f479-162e-45f3-8b83-be4f51664e1e",
   "metadata": {
    "collapsed": true,
    "jupyter": {
     "outputs_hidden": true
    }
   },
   "outputs": [
    {
     "data": {
      "text/plain": [
       "[(32,\n",
       "  0.005,\n",
       "  0.05,\n",
       "  0.00510146891416928,\n",
       "  0.0015033694633245942,\n",
       "  0.0021315162558968215,\n",
       "  0.5016153388481799),\n",
       " (32,\n",
       "  0.005,\n",
       "  0.1,\n",
       "  0.005467638802051548,\n",
       "  0.0022934639351212148,\n",
       "  0.0029528598907335073,\n",
       "  0.5021309568635243),\n",
       " (32,\n",
       "  0.005,\n",
       "  0.5,\n",
       "  0.001188183921903685,\n",
       "  0.00024903875138810374,\n",
       "  0.00043161308825532207,\n",
       "  0.5003978845943127),\n",
       " (32,\n",
       "  0.01,\n",
       "  0.05,\n",
       "  0.004481221961225847,\n",
       "  0.001050715130654907,\n",
       "  0.0016142223690655615,\n",
       "  0.5013023857993317),\n",
       " (32,\n",
       "  0.01,\n",
       "  0.1,\n",
       "  0.005216052688608629,\n",
       "  0.0020690025506611494,\n",
       "  0.002711173039869431,\n",
       "  0.50199076293975),\n",
       " (32,\n",
       "  0.01,\n",
       "  0.5,\n",
       "  0.002959250522477102,\n",
       "  0.0010683458401969641,\n",
       "  0.0014697439319069454,\n",
       "  0.5011472774375025),\n",
       " (32,\n",
       "  0.05,\n",
       "  0.05,\n",
       "  0.0015942090356779,\n",
       "  0.00024641180358203304,\n",
       "  0.00040603108998945816,\n",
       "  0.500253743824585),\n",
       " (32,\n",
       "  0.05,\n",
       "  0.1,\n",
       "  0.002172109811111139,\n",
       "  0.0004536812015142101,\n",
       "  0.0007014983008247475,\n",
       "  0.5004708951330932),\n",
       " (32,\n",
       "  0.05,\n",
       "  0.5,\n",
       "  0.0037414093306065714,\n",
       "  0.0014788190335124224,\n",
       "  0.001989091644586975,\n",
       "  0.5015434409017387),\n",
       " (32,\n",
       "  0.1,\n",
       "  0.05,\n",
       "  0.0004732808074668766,\n",
       "  4.450531293080392e-05,\n",
       "  9.109108341231744e-05,\n",
       "  0.5000354855617553),\n",
       " (32,\n",
       "  0.1,\n",
       "  0.1,\n",
       "  0.0011632744057212176,\n",
       "  0.0002014331546687705,\n",
       "  0.00033520649639134963,\n",
       "  0.5002238425608542),\n",
       " (32,\n",
       "  0.1,\n",
       "  0.5,\n",
       "  0.0025905896829765875,\n",
       "  0.0009643295958684048,\n",
       "  0.001325739279735986,\n",
       "  0.5010350294073845),\n",
       " (64,\n",
       "  0.005,\n",
       "  0.05,\n",
       "  0.00492710230089201,\n",
       "  0.0014378239544798489,\n",
       "  0.0020319171666949853,\n",
       "  0.5015049986508421),\n",
       " (64,\n",
       "  0.005,\n",
       "  0.1,\n",
       "  0.0066159674980632854,\n",
       "  0.00282569504018807,\n",
       "  0.0036192071355328212,\n",
       "  0.5025838474764652),\n",
       " (64,\n",
       "  0.005,\n",
       "  0.5,\n",
       "  0.004750244735996493,\n",
       "  0.002086271399949085,\n",
       "  0.0026756709218870357,\n",
       "  0.5019734936090827),\n",
       " (64,\n",
       "  0.01,\n",
       "  0.05,\n",
       "  0.0044787310096076,\n",
       "  0.0010533220061568792,\n",
       "  0.0016122632773172994,\n",
       "  0.5012943945809354),\n",
       " (64,\n",
       "  0.01,\n",
       "  0.1,\n",
       "  0.005950883415991411,\n",
       "  0.002406691238049319,\n",
       "  0.0031258014098690854,\n",
       "  0.5022646421095971),\n",
       " (64,\n",
       "  0.01,\n",
       "  0.5,\n",
       "  0.005502512124707002,\n",
       "  0.002475086842729442,\n",
       "  0.003160369965842958,\n",
       "  0.5023390557638001),\n",
       " (64,\n",
       "  0.05,\n",
       "  0.05,\n",
       "  0.001576772374350173,\n",
       "  0.00022421653918958248,\n",
       "  0.00038224890662666493,\n",
       "  0.500254889565104),\n",
       " (64,\n",
       "  0.05,\n",
       "  0.1,\n",
       "  0.0019155417944317268,\n",
       "  0.0003661489061802452,\n",
       "  0.0005755037422209674,\n",
       "  0.5004141120747255),\n",
       " (64,\n",
       "  0.05,\n",
       "  0.5,\n",
       "  0.0059284648514271905,\n",
       "  0.0026337018503463654,\n",
       "  0.0034282608547800976,\n",
       "  0.5025905719527494),\n",
       " (64,\n",
       "  0.1,\n",
       "  0.05,\n",
       "  0.00046082604937564296,\n",
       "  6.014601953731887e-05,\n",
       "  0.00010313889060514568,\n",
       "  0.5000376837709032),\n",
       " (64,\n",
       "  0.1,\n",
       "  0.1,\n",
       "  0.0012678943736875799,\n",
       "  0.000199985351444558,\n",
       "  0.00033859986519710106,\n",
       "  0.5002423698988575),\n",
       " (64,\n",
       "  0.1,\n",
       "  0.5,\n",
       "  0.0029218862482034012,\n",
       "  0.0010816821204483924,\n",
       "  0.0015042312907786542,\n",
       "  0.5012069973362697),\n",
       " (128,\n",
       "  0.005,\n",
       "  0.05,\n",
       "  0.00493457515574675,\n",
       "  0.0014357976431964492,\n",
       "  0.002035257646474673,\n",
       "  0.5015085191165501),\n",
       " (128,\n",
       "  0.005,\n",
       "  0.1,\n",
       "  0.006924845498725878,\n",
       "  0.002844527509685439,\n",
       "  0.0036996966833047853,\n",
       "  0.5026596968589291),\n",
       " (128,\n",
       "  0.005,\n",
       "  0.5,\n",
       "  0.006187523819724849,\n",
       "  0.002731083347148823,\n",
       "  0.0035044229796235647,\n",
       "  0.502581033302263),\n",
       " (128,\n",
       "  0.01,\n",
       "  0.05,\n",
       "  0.0044015115094419525,\n",
       "  0.001078309752989047,\n",
       "  0.0016199258636008162,\n",
       "  0.5012570752410592),\n",
       " (128,\n",
       "  0.01,\n",
       "  0.1,\n",
       "  0.006267234271508744,\n",
       "  0.0025742225609569703,\n",
       "  0.003346364980099793,\n",
       "  0.5023934726730573),\n",
       " (128,\n",
       "  0.01,\n",
       "  0.5,\n",
       "  0.0070668297409659415,\n",
       "  0.0031848358331388153,\n",
       "  0.004086222661043248,\n",
       "  0.5030455002362854),\n",
       " (128,\n",
       "  0.05,\n",
       "  0.05,\n",
       "  0.0012977857931065406,\n",
       "  0.00021204171293387033,\n",
       "  0.00034951840207446606,\n",
       "  0.5002183541761672),\n",
       " (128,\n",
       "  0.05,\n",
       "  0.1,\n",
       "  0.001868213713685039,\n",
       "  0.00033730946353435363,\n",
       "  0.0005512964428087143,\n",
       "  0.5004040915683748),\n",
       " (128,\n",
       "  0.05,\n",
       "  0.5,\n",
       "  0.0067180965144114,\n",
       "  0.0027150485699802144,\n",
       "  0.0036573875811632853,\n",
       "  0.5028805257667891),\n",
       " (128,\n",
       "  0.1,\n",
       "  0.05,\n",
       "  0.0003711517911187611,\n",
       "  3.483024388836055e-05,\n",
       "  7.324943159879043e-05,\n",
       "  0.5000335087251278),\n",
       " (128,\n",
       "  0.1,\n",
       "  0.1,\n",
       "  0.0012056205832314119,\n",
       "  0.0001228112288979733,\n",
       "  0.00025023106498434084,\n",
       "  0.5001711082343053),\n",
       " (128,\n",
       "  0.1,\n",
       "  0.5,\n",
       "  0.0028571215061289866,\n",
       "  0.001023162109375198,\n",
       "  0.0014290328737616219,\n",
       "  0.5011397703737782),\n",
       " (256,\n",
       "  0.005,\n",
       "  0.05,\n",
       "  0.004952011817074477,\n",
       "  0.0014051704603957281,\n",
       "  0.002017338565261821,\n",
       "  0.5015145771296602),\n",
       " (256,\n",
       "  0.005,\n",
       "  0.1,\n",
       "  0.007089248305530161,\n",
       "  0.0029807969281441813,\n",
       "  0.003852949749896595,\n",
       "  0.5027702769570433),\n",
       " (256,\n",
       "  0.005,\n",
       "  0.5,\n",
       "  0.00684762599856023,\n",
       "  0.003154231733582996,\n",
       "  0.00397635727820552,\n",
       "  0.5028463173521698),\n",
       " (256,\n",
       "  0.01,\n",
       "  0.05,\n",
       "  0.0038833935728466345,\n",
       "  0.000834356082243676,\n",
       "  0.0013050758018389415,\n",
       "  0.5010293834136466),\n",
       " (256,\n",
       "  0.01,\n",
       "  0.1,\n",
       "  0.006175069061633616,\n",
       "  0.0024764283991528793,\n",
       "  0.0032283007601867776,\n",
       "  0.5023383419814597),\n",
       " (256,\n",
       "  0.01,\n",
       "  0.5,\n",
       "  0.007550074354905805,\n",
       "  0.003405140609530662,\n",
       "  0.004353982497348026,\n",
       "  0.503197469468741),\n",
       " (256,\n",
       "  0.05,\n",
       "  0.05,\n",
       "  0.0010437087280453753,\n",
       "  0.00016065105709964228,\n",
       "  0.0002707906316741404,\n",
       "  0.5001498671906898),\n",
       " (256,\n",
       "  0.05,\n",
       "  0.1,\n",
       "  0.0019529060687054275,\n",
       "  0.0003664184824789186,\n",
       "  0.0005859659672908122,\n",
       "  0.500425695462237),\n",
       " (256,\n",
       "  0.05,\n",
       "  0.5,\n",
       "  0.006344453771674393,\n",
       "  0.002834257207250267,\n",
       "  0.0036833733232700234,\n",
       "  0.5027980839021086),\n",
       " (256,\n",
       "  0.1,\n",
       "  0.05,\n",
       "  0.0003611879846457742,\n",
       "  3.2887819624322404e-05,\n",
       "  6.666347243447022e-05,\n",
       "  0.5000213874473228),\n",
       " (256,\n",
       "  0.1,\n",
       "  0.1,\n",
       "  0.0010860549055555695,\n",
       "  0.00012439657776212735,\n",
       "  0.00024543475035451707,\n",
       "  0.5001835229285885),\n",
       " (256,\n",
       "  0.1,\n",
       "  0.5,\n",
       "  0.002969214328950089,\n",
       "  0.0011324188937991337,\n",
       "  0.0015375179012410384,\n",
       "  0.5011640557198422)]"
      ]
     },
     "execution_count": 15,
     "metadata": {},
     "output_type": "execute_result"
    }
   ],
   "source": [
    "results = []\n",
    "for p,r in zip(params, metrics):\n",
    "    results.append(\n",
    "        (p[0], p[1], p[2], r['precision'], r['map'], r['ndcg'], r['auc'])\n",
    "    )\n",
    "results "
   ]
  },
  {
   "cell_type": "code",
   "execution_count": null,
   "id": "04cfc035-a79b-4c17-968f-064b646d14c1",
   "metadata": {},
   "outputs": [],
   "source": []
  }
 ],
 "metadata": {
  "kernelspec": {
   "display_name": "rec-sys-py3.11",
   "language": "python",
   "name": "rec-sys-py3.11"
  },
  "language_info": {
   "codemirror_mode": {
    "name": "ipython",
    "version": 3
   },
   "file_extension": ".py",
   "mimetype": "text/x-python",
   "name": "python",
   "nbconvert_exporter": "python",
   "pygments_lexer": "ipython3",
   "version": "3.11.4"
  }
 },
 "nbformat": 4,
 "nbformat_minor": 5
}
