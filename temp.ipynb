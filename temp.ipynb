{
 "cells": [
  {
   "cell_type": "code",
   "execution_count": 1,
   "id": "60baac77-fc7c-49bd-b3c8-a62ff1669a34",
   "metadata": {
    "tags": []
   },
   "outputs": [
    {
     "data": {
      "text/html": [
       "<div>\n",
       "<style scoped>\n",
       "    .dataframe tbody tr th:only-of-type {\n",
       "        vertical-align: middle;\n",
       "    }\n",
       "\n",
       "    .dataframe tbody tr th {\n",
       "        vertical-align: top;\n",
       "    }\n",
       "\n",
       "    .dataframe thead th {\n",
       "        text-align: right;\n",
       "    }\n",
       "</style>\n",
       "<table border=\"1\" class=\"dataframe\">\n",
       "  <thead>\n",
       "    <tr style=\"text-align: right;\">\n",
       "      <th></th>\n",
       "      <th>UserId</th>\n",
       "      <th>ProductId</th>\n",
       "      <th>Rating</th>\n",
       "      <th>Timestamp</th>\n",
       "    </tr>\n",
       "  </thead>\n",
       "  <tbody>\n",
       "    <tr>\n",
       "      <th>0</th>\n",
       "      <td>A39HTATAQ9V7YF</td>\n",
       "      <td>0205616461</td>\n",
       "      <td>5.0</td>\n",
       "      <td>1369699200</td>\n",
       "    </tr>\n",
       "    <tr>\n",
       "      <th>1</th>\n",
       "      <td>A3JM6GV9MNOF9X</td>\n",
       "      <td>0558925278</td>\n",
       "      <td>3.0</td>\n",
       "      <td>1355443200</td>\n",
       "    </tr>\n",
       "    <tr>\n",
       "      <th>2</th>\n",
       "      <td>A1Z513UWSAAO0F</td>\n",
       "      <td>0558925278</td>\n",
       "      <td>5.0</td>\n",
       "      <td>1404691200</td>\n",
       "    </tr>\n",
       "    <tr>\n",
       "      <th>3</th>\n",
       "      <td>A1WMRR494NWEWV</td>\n",
       "      <td>0733001998</td>\n",
       "      <td>4.0</td>\n",
       "      <td>1382572800</td>\n",
       "    </tr>\n",
       "    <tr>\n",
       "      <th>4</th>\n",
       "      <td>A3IAAVS479H7M7</td>\n",
       "      <td>0737104473</td>\n",
       "      <td>1.0</td>\n",
       "      <td>1274227200</td>\n",
       "    </tr>\n",
       "    <tr>\n",
       "      <th>...</th>\n",
       "      <td>...</td>\n",
       "      <td>...</td>\n",
       "      <td>...</td>\n",
       "      <td>...</td>\n",
       "    </tr>\n",
       "    <tr>\n",
       "      <th>2023065</th>\n",
       "      <td>A3DEHKPFANB8VA</td>\n",
       "      <td>B00LORWRJA</td>\n",
       "      <td>5.0</td>\n",
       "      <td>1405296000</td>\n",
       "    </tr>\n",
       "    <tr>\n",
       "      <th>2023066</th>\n",
       "      <td>A3DEHKPFANB8VA</td>\n",
       "      <td>B00LOS7MEE</td>\n",
       "      <td>5.0</td>\n",
       "      <td>1405296000</td>\n",
       "    </tr>\n",
       "    <tr>\n",
       "      <th>2023067</th>\n",
       "      <td>AG9TJLJUN5OM3</td>\n",
       "      <td>B00LP2YB8E</td>\n",
       "      <td>5.0</td>\n",
       "      <td>1405382400</td>\n",
       "    </tr>\n",
       "    <tr>\n",
       "      <th>2023068</th>\n",
       "      <td>AYBIB14QOI9PC</td>\n",
       "      <td>B00LPVG6V0</td>\n",
       "      <td>5.0</td>\n",
       "      <td>1405555200</td>\n",
       "    </tr>\n",
       "    <tr>\n",
       "      <th>2023069</th>\n",
       "      <td>A1PB6OT0OOPKNQ</td>\n",
       "      <td>B00LU0LTOU</td>\n",
       "      <td>5.0</td>\n",
       "      <td>1405641600</td>\n",
       "    </tr>\n",
       "  </tbody>\n",
       "</table>\n",
       "<p>2023070 rows × 4 columns</p>\n",
       "</div>"
      ],
      "text/plain": [
       "                 UserId   ProductId  Rating   Timestamp\n",
       "0        A39HTATAQ9V7YF  0205616461     5.0  1369699200\n",
       "1        A3JM6GV9MNOF9X  0558925278     3.0  1355443200\n",
       "2        A1Z513UWSAAO0F  0558925278     5.0  1404691200\n",
       "3        A1WMRR494NWEWV  0733001998     4.0  1382572800\n",
       "4        A3IAAVS479H7M7  0737104473     1.0  1274227200\n",
       "...                 ...         ...     ...         ...\n",
       "2023065  A3DEHKPFANB8VA  B00LORWRJA     5.0  1405296000\n",
       "2023066  A3DEHKPFANB8VA  B00LOS7MEE     5.0  1405296000\n",
       "2023067   AG9TJLJUN5OM3  B00LP2YB8E     5.0  1405382400\n",
       "2023068   AYBIB14QOI9PC  B00LPVG6V0     5.0  1405555200\n",
       "2023069  A1PB6OT0OOPKNQ  B00LU0LTOU     5.0  1405641600\n",
       "\n",
       "[2023070 rows x 4 columns]"
      ]
     },
     "execution_count": 1,
     "metadata": {},
     "output_type": "execute_result"
    }
   ],
   "source": [
    "import pandas as pd\n",
    "df = pd.read_csv(\"ratings_Beauty.csv\")\n",
    "df"
   ]
  },
  {
   "cell_type": "code",
   "execution_count": 2,
   "id": "0fe6341a-e103-40a6-9f40-64e15828f6c0",
   "metadata": {
    "tags": []
   },
   "outputs": [],
   "source": [
    "USER_COL = \"UserId\"\n",
    "ITEM_COL = \"ProductId\"\n",
    "RATING_COL = \"Rating\"\n",
    "PREDICTION_COL = \"\""
   ]
  },
  {
   "cell_type": "code",
   "execution_count": 3,
   "id": "87b39ccf-c79d-4a9f-84a6-be1cf726d7b2",
   "metadata": {},
   "outputs": [],
   "source": [
    "from pandas.api.types import CategoricalDtype\n",
    "from scipy import sparse\n",
    "\n",
    "users = df[USER_COL].unique()\n",
    "items = df[ITEM_COL].unique()\n",
    "shape = (len(users), len(items))\n",
    "\n",
    "# Create indices for users and movies\n",
    "user_cat = CategoricalDtype(categories=sorted(users), ordered=True)\n",
    "item_cat = CategoricalDtype(categories=sorted(items), ordered=True)\n",
    "df['UserIndex'] = df[USER_COL].astype(user_cat).cat.codes\n",
    "df['ItemIndex'] = df[ITEM_COL].astype(item_cat).cat.codes\n",
    "user_map = df[[\"UserIndex\", USER_COL]].drop_duplicates().sort_values(['UserIndex']).set_index('UserIndex', verify_integrity=True)\n",
    "item_map = df[[\"ItemIndex\", ITEM_COL]].drop_duplicates().sort_values(['ItemIndex']).set_index('ItemIndex', verify_integrity=True)\n",
    "\n",
    "# Conversion via COO matrix\n",
    "coo = sparse.coo_matrix((df[RATING_COL], (df['UserIndex'], df['ItemIndex'])), shape=shape)\n",
    "csr = coo.tocsr()"
   ]
  },
  {
   "cell_type": "code",
   "execution_count": 4,
   "id": "52fdca85-2f34-44aa-977f-67b3fd88a47c",
   "metadata": {
    "tags": []
   },
   "outputs": [
    {
     "data": {
      "text/html": [
       "<div>\n",
       "<style scoped>\n",
       "    .dataframe tbody tr th:only-of-type {\n",
       "        vertical-align: middle;\n",
       "    }\n",
       "\n",
       "    .dataframe tbody tr th {\n",
       "        vertical-align: top;\n",
       "    }\n",
       "\n",
       "    .dataframe thead th {\n",
       "        text-align: right;\n",
       "    }\n",
       "</style>\n",
       "<table border=\"1\" class=\"dataframe\">\n",
       "  <thead>\n",
       "    <tr style=\"text-align: right;\">\n",
       "      <th></th>\n",
       "      <th>UserId</th>\n",
       "      <th>ProductId</th>\n",
       "      <th>Rating</th>\n",
       "      <th>Timestamp</th>\n",
       "      <th>UserIndex</th>\n",
       "      <th>ItemIndex</th>\n",
       "    </tr>\n",
       "  </thead>\n",
       "  <tbody>\n",
       "    <tr>\n",
       "      <th>0</th>\n",
       "      <td>A39HTATAQ9V7YF</td>\n",
       "      <td>0205616461</td>\n",
       "      <td>5.0</td>\n",
       "      <td>1369699200</td>\n",
       "      <td>725046</td>\n",
       "      <td>0</td>\n",
       "    </tr>\n",
       "    <tr>\n",
       "      <th>1</th>\n",
       "      <td>A3JM6GV9MNOF9X</td>\n",
       "      <td>0558925278</td>\n",
       "      <td>3.0</td>\n",
       "      <td>1355443200</td>\n",
       "      <td>814606</td>\n",
       "      <td>1</td>\n",
       "    </tr>\n",
       "    <tr>\n",
       "      <th>2</th>\n",
       "      <td>A1Z513UWSAAO0F</td>\n",
       "      <td>0558925278</td>\n",
       "      <td>5.0</td>\n",
       "      <td>1404691200</td>\n",
       "      <td>313101</td>\n",
       "      <td>1</td>\n",
       "    </tr>\n",
       "    <tr>\n",
       "      <th>3</th>\n",
       "      <td>A1WMRR494NWEWV</td>\n",
       "      <td>0733001998</td>\n",
       "      <td>4.0</td>\n",
       "      <td>1382572800</td>\n",
       "      <td>291075</td>\n",
       "      <td>2</td>\n",
       "    </tr>\n",
       "    <tr>\n",
       "      <th>4</th>\n",
       "      <td>A3IAAVS479H7M7</td>\n",
       "      <td>0737104473</td>\n",
       "      <td>1.0</td>\n",
       "      <td>1274227200</td>\n",
       "      <td>802842</td>\n",
       "      <td>3</td>\n",
       "    </tr>\n",
       "    <tr>\n",
       "      <th>...</th>\n",
       "      <td>...</td>\n",
       "      <td>...</td>\n",
       "      <td>...</td>\n",
       "      <td>...</td>\n",
       "      <td>...</td>\n",
       "      <td>...</td>\n",
       "    </tr>\n",
       "    <tr>\n",
       "      <th>2023065</th>\n",
       "      <td>A3DEHKPFANB8VA</td>\n",
       "      <td>B00LORWRJA</td>\n",
       "      <td>5.0</td>\n",
       "      <td>1405296000</td>\n",
       "      <td>759765</td>\n",
       "      <td>249269</td>\n",
       "    </tr>\n",
       "    <tr>\n",
       "      <th>2023066</th>\n",
       "      <td>A3DEHKPFANB8VA</td>\n",
       "      <td>B00LOS7MEE</td>\n",
       "      <td>5.0</td>\n",
       "      <td>1405296000</td>\n",
       "      <td>759765</td>\n",
       "      <td>249270</td>\n",
       "    </tr>\n",
       "    <tr>\n",
       "      <th>2023067</th>\n",
       "      <td>AG9TJLJUN5OM3</td>\n",
       "      <td>B00LP2YB8E</td>\n",
       "      <td>5.0</td>\n",
       "      <td>1405382400</td>\n",
       "      <td>1035084</td>\n",
       "      <td>249271</td>\n",
       "    </tr>\n",
       "    <tr>\n",
       "      <th>2023068</th>\n",
       "      <td>AYBIB14QOI9PC</td>\n",
       "      <td>B00LPVG6V0</td>\n",
       "      <td>5.0</td>\n",
       "      <td>1405555200</td>\n",
       "      <td>1195527</td>\n",
       "      <td>249272</td>\n",
       "    </tr>\n",
       "    <tr>\n",
       "      <th>2023069</th>\n",
       "      <td>A1PB6OT0OOPKNQ</td>\n",
       "      <td>B00LU0LTOU</td>\n",
       "      <td>5.0</td>\n",
       "      <td>1405641600</td>\n",
       "      <td>225954</td>\n",
       "      <td>249273</td>\n",
       "    </tr>\n",
       "  </tbody>\n",
       "</table>\n",
       "<p>2023070 rows × 6 columns</p>\n",
       "</div>"
      ],
      "text/plain": [
       "                 UserId   ProductId  Rating   Timestamp  UserIndex  ItemIndex\n",
       "0        A39HTATAQ9V7YF  0205616461     5.0  1369699200     725046          0\n",
       "1        A3JM6GV9MNOF9X  0558925278     3.0  1355443200     814606          1\n",
       "2        A1Z513UWSAAO0F  0558925278     5.0  1404691200     313101          1\n",
       "3        A1WMRR494NWEWV  0733001998     4.0  1382572800     291075          2\n",
       "4        A3IAAVS479H7M7  0737104473     1.0  1274227200     802842          3\n",
       "...                 ...         ...     ...         ...        ...        ...\n",
       "2023065  A3DEHKPFANB8VA  B00LORWRJA     5.0  1405296000     759765     249269\n",
       "2023066  A3DEHKPFANB8VA  B00LOS7MEE     5.0  1405296000     759765     249270\n",
       "2023067   AG9TJLJUN5OM3  B00LP2YB8E     5.0  1405382400    1035084     249271\n",
       "2023068   AYBIB14QOI9PC  B00LPVG6V0     5.0  1405555200    1195527     249272\n",
       "2023069  A1PB6OT0OOPKNQ  B00LU0LTOU     5.0  1405641600     225954     249273\n",
       "\n",
       "[2023070 rows x 6 columns]"
      ]
     },
     "execution_count": 4,
     "metadata": {},
     "output_type": "execute_result"
    }
   ],
   "source": [
    "df"
   ]
  },
  {
   "cell_type": "code",
   "execution_count": 2,
   "id": "b150ee01-eb49-4a2f-bafa-07bc583cf3ae",
   "metadata": {
    "tags": []
   },
   "outputs": [],
   "source": [
    "from utils import pandas_df_to_csr"
   ]
  },
  {
   "cell_type": "code",
   "execution_count": 5,
   "id": "790f4394-427a-43e4-85f9-66bfdd8a8e52",
   "metadata": {
    "tags": []
   },
   "outputs": [
    {
     "data": {
      "text/plain": [
       "<1210271x249274 sparse matrix of type '<class 'numpy.float64'>'\n",
       "\twith 2023070 stored elements in Compressed Sparse Row format>"
      ]
     },
     "execution_count": 5,
     "metadata": {},
     "output_type": "execute_result"
    }
   ],
   "source": [
    "user_index, item_index, ratings_csr = pandas_df_to_csr(df)\n",
    "ratings_csr"
   ]
  },
  {
   "cell_type": "code",
   "execution_count": 49,
   "id": "3c311de7-9bad-4e52-9e4f-23dbccc69010",
   "metadata": {
    "tags": []
   },
   "outputs": [
    {
     "data": {
      "text/html": [
       "<div>\n",
       "<style scoped>\n",
       "    .dataframe tbody tr th:only-of-type {\n",
       "        vertical-align: middle;\n",
       "    }\n",
       "\n",
       "    .dataframe tbody tr th {\n",
       "        vertical-align: top;\n",
       "    }\n",
       "\n",
       "    .dataframe thead th {\n",
       "        text-align: right;\n",
       "    }\n",
       "</style>\n",
       "<table border=\"1\" class=\"dataframe\">\n",
       "  <thead>\n",
       "    <tr style=\"text-align: right;\">\n",
       "      <th></th>\n",
       "      <th>UserId</th>\n",
       "    </tr>\n",
       "    <tr>\n",
       "      <th>UserIndex</th>\n",
       "      <th></th>\n",
       "    </tr>\n",
       "  </thead>\n",
       "  <tbody>\n",
       "    <tr>\n",
       "      <th>0</th>\n",
       "      <td>A00008821J0F472NDY6A2</td>\n",
       "    </tr>\n",
       "    <tr>\n",
       "      <th>1</th>\n",
       "      <td>A000186437REL8X2RW8UW</td>\n",
       "    </tr>\n",
       "    <tr>\n",
       "      <th>2</th>\n",
       "      <td>A0002574WYJMBWKNCPY8</td>\n",
       "    </tr>\n",
       "    <tr>\n",
       "      <th>3</th>\n",
       "      <td>A00029263J863WSR0TDRS</td>\n",
       "    </tr>\n",
       "    <tr>\n",
       "      <th>4</th>\n",
       "      <td>A00031961JI1CBNV98TW</td>\n",
       "    </tr>\n",
       "    <tr>\n",
       "      <th>...</th>\n",
       "      <td>...</td>\n",
       "    </tr>\n",
       "    <tr>\n",
       "      <th>1210266</th>\n",
       "      <td>AZZZLZXCEE4WK</td>\n",
       "    </tr>\n",
       "    <tr>\n",
       "      <th>1210267</th>\n",
       "      <td>AZZZMSZI9LKE6</td>\n",
       "    </tr>\n",
       "    <tr>\n",
       "      <th>1210268</th>\n",
       "      <td>AZZZO4QCZROW8</td>\n",
       "    </tr>\n",
       "    <tr>\n",
       "      <th>1210269</th>\n",
       "      <td>AZZZRS1YZ8HVP</td>\n",
       "    </tr>\n",
       "    <tr>\n",
       "      <th>1210270</th>\n",
       "      <td>AZZZU2TD7Q3ET</td>\n",
       "    </tr>\n",
       "  </tbody>\n",
       "</table>\n",
       "<p>1210271 rows × 1 columns</p>\n",
       "</div>"
      ],
      "text/plain": [
       "                          UserId\n",
       "UserIndex                       \n",
       "0          A00008821J0F472NDY6A2\n",
       "1          A000186437REL8X2RW8UW\n",
       "2           A0002574WYJMBWKNCPY8\n",
       "3          A00029263J863WSR0TDRS\n",
       "4           A00031961JI1CBNV98TW\n",
       "...                          ...\n",
       "1210266            AZZZLZXCEE4WK\n",
       "1210267            AZZZMSZI9LKE6\n",
       "1210268            AZZZO4QCZROW8\n",
       "1210269            AZZZRS1YZ8HVP\n",
       "1210270            AZZZU2TD7Q3ET\n",
       "\n",
       "[1210271 rows x 1 columns]"
      ]
     },
     "execution_count": 49,
     "metadata": {},
     "output_type": "execute_result"
    }
   ],
   "source": [
    "user_map = df[[\"UserIndex\", \"UserId\"]].drop_duplicates().sort_values(['UserIndex']).set_index('UserIndex', verify_integrity=True)\n",
    "user_map"
   ]
  },
  {
   "cell_type": "code",
   "execution_count": 27,
   "id": "8c24e678-ffb8-42e9-b753-8f7cd6e5c5a4",
   "metadata": {
    "tags": []
   },
   "outputs": [
    {
     "data": {
      "text/html": [
       "<div>\n",
       "<style scoped>\n",
       "    .dataframe tbody tr th:only-of-type {\n",
       "        vertical-align: middle;\n",
       "    }\n",
       "\n",
       "    .dataframe tbody tr th {\n",
       "        vertical-align: top;\n",
       "    }\n",
       "\n",
       "    .dataframe thead th {\n",
       "        text-align: right;\n",
       "    }\n",
       "</style>\n",
       "<table border=\"1\" class=\"dataframe\">\n",
       "  <thead>\n",
       "    <tr style=\"text-align: right;\">\n",
       "      <th></th>\n",
       "      <th>UserIndex</th>\n",
       "      <th>UserId</th>\n",
       "    </tr>\n",
       "  </thead>\n",
       "  <tbody>\n",
       "    <tr>\n",
       "      <th>0</th>\n",
       "      <td>725046</td>\n",
       "      <td>A39HTATAQ9V7YF</td>\n",
       "    </tr>\n",
       "    <tr>\n",
       "      <th>1</th>\n",
       "      <td>814606</td>\n",
       "      <td>A3JM6GV9MNOF9X</td>\n",
       "    </tr>\n",
       "    <tr>\n",
       "      <th>2</th>\n",
       "      <td>313101</td>\n",
       "      <td>A1Z513UWSAAO0F</td>\n",
       "    </tr>\n",
       "    <tr>\n",
       "      <th>3</th>\n",
       "      <td>291075</td>\n",
       "      <td>A1WMRR494NWEWV</td>\n",
       "    </tr>\n",
       "    <tr>\n",
       "      <th>4</th>\n",
       "      <td>802842</td>\n",
       "      <td>A3IAAVS479H7M7</td>\n",
       "    </tr>\n",
       "    <tr>\n",
       "      <th>...</th>\n",
       "      <td>...</td>\n",
       "      <td>...</td>\n",
       "    </tr>\n",
       "    <tr>\n",
       "      <th>2023054</th>\n",
       "      <td>1012502</td>\n",
       "      <td>ADQ41IJPQW2TN</td>\n",
       "    </tr>\n",
       "    <tr>\n",
       "      <th>2023058</th>\n",
       "      <td>254698</td>\n",
       "      <td>A1SJD7QDROVPCC</td>\n",
       "    </tr>\n",
       "    <tr>\n",
       "      <th>2023059</th>\n",
       "      <td>1030275</td>\n",
       "      <td>AFPRQT3V8C1U1</td>\n",
       "    </tr>\n",
       "    <tr>\n",
       "      <th>2023061</th>\n",
       "      <td>249628</td>\n",
       "      <td>A1RYQPQ01T5D5R</td>\n",
       "    </tr>\n",
       "    <tr>\n",
       "      <th>2023062</th>\n",
       "      <td>841946</td>\n",
       "      <td>A3MQDRRGC9070R</td>\n",
       "    </tr>\n",
       "  </tbody>\n",
       "</table>\n",
       "<p>1210271 rows × 2 columns</p>\n",
       "</div>"
      ],
      "text/plain": [
       "         UserIndex          UserId\n",
       "0           725046  A39HTATAQ9V7YF\n",
       "1           814606  A3JM6GV9MNOF9X\n",
       "2           313101  A1Z513UWSAAO0F\n",
       "3           291075  A1WMRR494NWEWV\n",
       "4           802842  A3IAAVS479H7M7\n",
       "...            ...             ...\n",
       "2023054    1012502   ADQ41IJPQW2TN\n",
       "2023058     254698  A1SJD7QDROVPCC\n",
       "2023059    1030275   AFPRQT3V8C1U1\n",
       "2023061     249628  A1RYQPQ01T5D5R\n",
       "2023062     841946  A3MQDRRGC9070R\n",
       "\n",
       "[1210271 rows x 2 columns]"
      ]
     },
     "execution_count": 27,
     "metadata": {},
     "output_type": "execute_result"
    }
   ],
   "source": [
    "user_map = df[[\"UserIndex\", \"UserId\"]]\n",
    "user_map = user_map.drop_duplicates()\n",
    "user_map"
   ]
  },
  {
   "cell_type": "code",
   "execution_count": 29,
   "id": "bd1ef7e5-50ec-4ddc-a967-4465c424f302",
   "metadata": {
    "tags": []
   },
   "outputs": [
    {
     "data": {
      "text/html": [
       "<div>\n",
       "<style scoped>\n",
       "    .dataframe tbody tr th:only-of-type {\n",
       "        vertical-align: middle;\n",
       "    }\n",
       "\n",
       "    .dataframe tbody tr th {\n",
       "        vertical-align: top;\n",
       "    }\n",
       "\n",
       "    .dataframe thead th {\n",
       "        text-align: right;\n",
       "    }\n",
       "</style>\n",
       "<table border=\"1\" class=\"dataframe\">\n",
       "  <thead>\n",
       "    <tr style=\"text-align: right;\">\n",
       "      <th></th>\n",
       "      <th>UserIndex</th>\n",
       "      <th>UserId</th>\n",
       "    </tr>\n",
       "  </thead>\n",
       "  <tbody>\n",
       "    <tr>\n",
       "      <th>1609862</th>\n",
       "      <td>0</td>\n",
       "      <td>A00008821J0F472NDY6A2</td>\n",
       "    </tr>\n",
       "    <tr>\n",
       "      <th>299576</th>\n",
       "      <td>1</td>\n",
       "      <td>A000186437REL8X2RW8UW</td>\n",
       "    </tr>\n",
       "    <tr>\n",
       "      <th>1791795</th>\n",
       "      <td>2</td>\n",
       "      <td>A0002574WYJMBWKNCPY8</td>\n",
       "    </tr>\n",
       "    <tr>\n",
       "      <th>1557570</th>\n",
       "      <td>3</td>\n",
       "      <td>A00029263J863WSR0TDRS</td>\n",
       "    </tr>\n",
       "    <tr>\n",
       "      <th>898429</th>\n",
       "      <td>4</td>\n",
       "      <td>A00031961JI1CBNV98TW</td>\n",
       "    </tr>\n",
       "    <tr>\n",
       "      <th>...</th>\n",
       "      <td>...</td>\n",
       "      <td>...</td>\n",
       "    </tr>\n",
       "    <tr>\n",
       "      <th>1051117</th>\n",
       "      <td>1210266</td>\n",
       "      <td>AZZZLZXCEE4WK</td>\n",
       "    </tr>\n",
       "    <tr>\n",
       "      <th>1075015</th>\n",
       "      <td>1210267</td>\n",
       "      <td>AZZZMSZI9LKE6</td>\n",
       "    </tr>\n",
       "    <tr>\n",
       "      <th>1768894</th>\n",
       "      <td>1210268</td>\n",
       "      <td>AZZZO4QCZROW8</td>\n",
       "    </tr>\n",
       "    <tr>\n",
       "      <th>1169932</th>\n",
       "      <td>1210269</td>\n",
       "      <td>AZZZRS1YZ8HVP</td>\n",
       "    </tr>\n",
       "    <tr>\n",
       "      <th>1907446</th>\n",
       "      <td>1210270</td>\n",
       "      <td>AZZZU2TD7Q3ET</td>\n",
       "    </tr>\n",
       "  </tbody>\n",
       "</table>\n",
       "<p>1210271 rows × 2 columns</p>\n",
       "</div>"
      ],
      "text/plain": [
       "         UserIndex                 UserId\n",
       "1609862          0  A00008821J0F472NDY6A2\n",
       "299576           1  A000186437REL8X2RW8UW\n",
       "1791795          2   A0002574WYJMBWKNCPY8\n",
       "1557570          3  A00029263J863WSR0TDRS\n",
       "898429           4   A00031961JI1CBNV98TW\n",
       "...            ...                    ...\n",
       "1051117    1210266          AZZZLZXCEE4WK\n",
       "1075015    1210267          AZZZMSZI9LKE6\n",
       "1768894    1210268          AZZZO4QCZROW8\n",
       "1169932    1210269          AZZZRS1YZ8HVP\n",
       "1907446    1210270          AZZZU2TD7Q3ET\n",
       "\n",
       "[1210271 rows x 2 columns]"
      ]
     },
     "execution_count": 29,
     "metadata": {},
     "output_type": "execute_result"
    }
   ],
   "source": [
    "user_map = user_map.sort_values(['UserIndex'])\n",
    "user_map"
   ]
  },
  {
   "cell_type": "code",
   "execution_count": 30,
   "id": "4f316742-6340-4a52-8270-98d2d7b86771",
   "metadata": {
    "tags": []
   },
   "outputs": [
    {
     "data": {
      "text/html": [
       "<div>\n",
       "<style scoped>\n",
       "    .dataframe tbody tr th:only-of-type {\n",
       "        vertical-align: middle;\n",
       "    }\n",
       "\n",
       "    .dataframe tbody tr th {\n",
       "        vertical-align: top;\n",
       "    }\n",
       "\n",
       "    .dataframe thead th {\n",
       "        text-align: right;\n",
       "    }\n",
       "</style>\n",
       "<table border=\"1\" class=\"dataframe\">\n",
       "  <thead>\n",
       "    <tr style=\"text-align: right;\">\n",
       "      <th></th>\n",
       "      <th>UserId</th>\n",
       "    </tr>\n",
       "    <tr>\n",
       "      <th>UserIndex</th>\n",
       "      <th></th>\n",
       "    </tr>\n",
       "  </thead>\n",
       "  <tbody>\n",
       "    <tr>\n",
       "      <th>0</th>\n",
       "      <td>A00008821J0F472NDY6A2</td>\n",
       "    </tr>\n",
       "    <tr>\n",
       "      <th>1</th>\n",
       "      <td>A000186437REL8X2RW8UW</td>\n",
       "    </tr>\n",
       "    <tr>\n",
       "      <th>2</th>\n",
       "      <td>A0002574WYJMBWKNCPY8</td>\n",
       "    </tr>\n",
       "    <tr>\n",
       "      <th>3</th>\n",
       "      <td>A00029263J863WSR0TDRS</td>\n",
       "    </tr>\n",
       "    <tr>\n",
       "      <th>4</th>\n",
       "      <td>A00031961JI1CBNV98TW</td>\n",
       "    </tr>\n",
       "    <tr>\n",
       "      <th>...</th>\n",
       "      <td>...</td>\n",
       "    </tr>\n",
       "    <tr>\n",
       "      <th>1210266</th>\n",
       "      <td>AZZZLZXCEE4WK</td>\n",
       "    </tr>\n",
       "    <tr>\n",
       "      <th>1210267</th>\n",
       "      <td>AZZZMSZI9LKE6</td>\n",
       "    </tr>\n",
       "    <tr>\n",
       "      <th>1210268</th>\n",
       "      <td>AZZZO4QCZROW8</td>\n",
       "    </tr>\n",
       "    <tr>\n",
       "      <th>1210269</th>\n",
       "      <td>AZZZRS1YZ8HVP</td>\n",
       "    </tr>\n",
       "    <tr>\n",
       "      <th>1210270</th>\n",
       "      <td>AZZZU2TD7Q3ET</td>\n",
       "    </tr>\n",
       "  </tbody>\n",
       "</table>\n",
       "<p>1210271 rows × 1 columns</p>\n",
       "</div>"
      ],
      "text/plain": [
       "                          UserId\n",
       "UserIndex                       \n",
       "0          A00008821J0F472NDY6A2\n",
       "1          A000186437REL8X2RW8UW\n",
       "2           A0002574WYJMBWKNCPY8\n",
       "3          A00029263J863WSR0TDRS\n",
       "4           A00031961JI1CBNV98TW\n",
       "...                          ...\n",
       "1210266            AZZZLZXCEE4WK\n",
       "1210267            AZZZMSZI9LKE6\n",
       "1210268            AZZZO4QCZROW8\n",
       "1210269            AZZZRS1YZ8HVP\n",
       "1210270            AZZZU2TD7Q3ET\n",
       "\n",
       "[1210271 rows x 1 columns]"
      ]
     },
     "execution_count": 30,
     "metadata": {},
     "output_type": "execute_result"
    }
   ],
   "source": [
    "user_map = user_map.set_index('UserIndex', verify_integrity=True)\n",
    "user_map"
   ]
  },
  {
   "cell_type": "code",
   "execution_count": 45,
   "id": "e03bc904-64d5-409a-9ab9-3cc9899f0c76",
   "metadata": {
    "tags": []
   },
   "outputs": [
    {
     "data": {
      "text/html": [
       "<div>\n",
       "<style scoped>\n",
       "    .dataframe tbody tr th:only-of-type {\n",
       "        vertical-align: middle;\n",
       "    }\n",
       "\n",
       "    .dataframe tbody tr th {\n",
       "        vertical-align: top;\n",
       "    }\n",
       "\n",
       "    .dataframe thead th {\n",
       "        text-align: right;\n",
       "    }\n",
       "</style>\n",
       "<table border=\"1\" class=\"dataframe\">\n",
       "  <thead>\n",
       "    <tr style=\"text-align: right;\">\n",
       "      <th></th>\n",
       "      <th>UserId</th>\n",
       "    </tr>\n",
       "    <tr>\n",
       "      <th>UserIndex</th>\n",
       "      <th></th>\n",
       "    </tr>\n",
       "  </thead>\n",
       "  <tbody>\n",
       "    <tr>\n",
       "      <th>0</th>\n",
       "      <td>A00008821J0F472NDY6A2</td>\n",
       "    </tr>\n",
       "    <tr>\n",
       "      <th>1</th>\n",
       "      <td>A000186437REL8X2RW8UW</td>\n",
       "    </tr>\n",
       "    <tr>\n",
       "      <th>2</th>\n",
       "      <td>A0002574WYJMBWKNCPY8</td>\n",
       "    </tr>\n",
       "    <tr>\n",
       "      <th>3</th>\n",
       "      <td>A00029263J863WSR0TDRS</td>\n",
       "    </tr>\n",
       "    <tr>\n",
       "      <th>4</th>\n",
       "      <td>A00031961JI1CBNV98TW</td>\n",
       "    </tr>\n",
       "  </tbody>\n",
       "</table>\n",
       "</div>"
      ],
      "text/plain": [
       "                          UserId\n",
       "UserIndex                       \n",
       "0          A00008821J0F472NDY6A2\n",
       "1          A000186437REL8X2RW8UW\n",
       "2           A0002574WYJMBWKNCPY8\n",
       "3          A00029263J863WSR0TDRS\n",
       "4           A00031961JI1CBNV98TW"
      ]
     },
     "execution_count": 45,
     "metadata": {},
     "output_type": "execute_result"
    }
   ],
   "source": [
    "user_map.loc[range(5)]"
   ]
  },
  {
   "cell_type": "markdown",
   "id": "444b6312-fdac-4800-80af-72b5a3e37c59",
   "metadata": {},
   "source": [
    "#### Find userId mapping"
   ]
  },
  {
   "cell_type": "code",
   "execution_count": null,
   "id": "7a16e6b3-d397-4e59-9c1c-06aae72a68ae",
   "metadata": {},
   "outputs": [],
   "source": [
    "user_map.loc[user_map[\"UserId\"]==\"A3KEZLJ59C1JVH\"]"
   ]
  },
  {
   "cell_type": "markdown",
   "id": "095e97f0-c29f-45a8-976e-eacee6fcb87c",
   "metadata": {},
   "source": [
    "### Read products image dataset"
   ]
  },
  {
   "cell_type": "code",
   "execution_count": 1,
   "id": "0dc8c791-c7e1-4867-9c5b-92c4f0787f6c",
   "metadata": {},
   "outputs": [],
   "source": [
    "import io\n",
    "import bson                       # this is installed with the pymongo package\n",
    "import matplotlib.pyplot as plt\n",
    "from skimage.io import imread, imshow\n",
    "from skimage import io as sio\n",
    "# sio.use_plugin('matplotlib', 'imread')"
   ]
  },
  {
   "cell_type": "code",
   "execution_count": 2,
   "id": "84906382-f075-4ee2-b3dc-c9c0e4ac0f71",
   "metadata": {},
   "outputs": [
    {
     "name": "stdout",
     "output_type": "stream",
     "text": [
      "10\n"
     ]
    },
    {
     "data": {
      "image/png": "[encoded data removed]",
      "text/plain": [
       "<Figure size 640x480 with 1 Axes>"
      ]
     },
     "metadata": {},
     "output_type": "display_data"
    }
   ],
   "source": [
    "# Simple data processing\n",
    "\n",
    "data = bson.decode_file_iter(open('test.bson', 'rb'))\n",
    "\n",
    "# prod_to_category = dict()\n",
    "\n",
    "for c, d in enumerate(data):\n",
    "    product_id = d['_id']\n",
    "    print(product_id)\n",
    "    # category_id = d['category_id'] # This won't be in Test data\n",
    "    # prod_to_category[product_id] = category_id\n",
    "    for e, pic in enumerate(d['imgs']):\n",
    "        picture = imread(io.BytesIO(pic['picture']))\n",
    "        # do something with the picture, etc\n",
    "        imshow(picture)\n",
    "    break"
   ]
  },
  {
   "cell_type": "markdown",
   "id": "1b7ca683-7b78-4a1e-9334-c9525e8e7bbd",
   "metadata": {},
   "source": [
    "### Connect to mongodb"
   ]
  },
  {
   "cell_type": "code",
   "execution_count": 3,
   "id": "4266c924-e883-4960-afad-1bc7155eefab",
   "metadata": {},
   "outputs": [],
   "source": [
    "import pymongo\n",
    "\n",
    "myclient = pymongo.MongoClient(\"mongodb://localhost:27017/\")\n",
    "mydb = myclient[\"test\"]\n",
    "mycol = mydb[\"products\"]\n"
   ]
  },
  {
   "cell_type": "code",
   "execution_count": 4,
   "id": "0141f4d4-63d7-4206-9372-b96c78bab8d9",
   "metadata": {},
   "outputs": [],
   "source": [
    "myquery = { \"_id\": 10 }"
   ]
  },
  {
   "cell_type": "code",
   "execution_count": 13,
   "id": "058aa663-e9db-434b-9801-6a2c70813ee1",
   "metadata": {},
   "outputs": [
    {
     "name": "stdout",
     "output_type": "stream",
     "text": [
      "49\n"
     ]
    },
    {
     "data": {
      "image/png": "[encoded data removed]",
      "text/plain": [
       "<Figure size 640x480 with 1 Axes>"
      ]
     },
     "metadata": {},
     "output_type": "display_data"
    }
   ],
   "source": [
    "for x in mycol.find():\n",
    "    product_id = x['_id']\n",
    "    print(product_id)\n",
    "    # category_id = d['category_id'] # This won't be in Test data\n",
    "    # prod_to_category[product_id] = category_id\n",
    "    for e, pic in enumerate(x['imgs']):\n",
    "        picture = imread(io.BytesIO(pic['picture']))\n",
    "        # do something with the picture, etc\n",
    "        imshow(picture)\n",
    "    break"
   ]
  },
  {
   "cell_type": "code",
   "execution_count": 11,
   "id": "8e9653d9-13da-4260-bf5d-1ebafbe6e280",
   "metadata": {},
   "outputs": [],
   "source": [
    "def get_product_image(product_id: int):\n",
    "    query = { \"_id\": product_id }\n",
    "    for x in mycol.find(query):\n",
    "        for e, pic in enumerate(x['imgs']):\n",
    "            picture = imread(io.BytesIO(pic['picture']))\n",
    "            # do something with the picture, etc\n",
    "            # imshow(picture)\n",
    "    return picture"
   ]
  },
  {
   "cell_type": "markdown",
   "id": "a7f35cda-c576-4f82-a94f-429b477abe3d",
   "metadata": {},
   "source": [
    "### Test gradio"
   ]
  },
  {
   "cell_type": "code",
   "execution_count": 9,
   "id": "46a95c46-d906-41dc-9497-7ac5081afa6a",
   "metadata": {},
   "outputs": [
    {
     "name": "stderr",
     "output_type": "stream",
     "text": [
      "/Users/tgayanvitharanagamage/anaconda3/envs/rec-sys-py3.11/lib/python3.11/site-packages/tqdm/auto.py:21: TqdmWarning: IProgress not found. Please update jupyter and ipywidgets. See https://ipywidgets.readthedocs.io/en/stable/user_install.html\n",
      "  from .autonotebook import tqdm as notebook_tqdm\n"
     ]
    }
   ],
   "source": [
    "import gradio as gr"
   ]
  },
  {
   "cell_type": "code",
   "execution_count": 14,
   "id": "2c2577c8-f24d-4d2a-a1d0-b1496ef354c0",
   "metadata": {},
   "outputs": [
    {
     "name": "stdout",
     "output_type": "stream",
     "text": [
      "Running on local URL:  http://127.0.0.1:7862\n",
      "\n",
      "To create a public link, set `share=True` in `launch()`.\n"
     ]
    },
    {
     "data": {
      "text/html": [
       "<div><iframe src=\"http://127.0.0.1:7862/\" width=\"100%\" height=\"500\" allow=\"autoplay; camera; microphone; clipboard-read; clipboard-write;\" frameborder=\"0\" allowfullscreen></iframe></div>"
      ],
      "text/plain": [
       "<IPython.core.display.HTML object>"
      ]
     },
     "metadata": {},
     "output_type": "display_data"
    },
    {
     "data": {
      "text/plain": []
     },
     "execution_count": 14,
     "metadata": {},
     "output_type": "execute_result"
    }
   ],
   "source": [
    "def greet(name):\n",
    "    return \"Hello \" + name + \"!\"\n",
    "\n",
    "# demo = gr.Interface(fn=greet, inputs=\"text\", outputs=\"text\")\n",
    "demo = gr.Interface(fn=get_product_image, inputs=\"number\", outputs=\"image\")\n",
    "\n",
    "demo.launch()"
   ]
  },
  {
   "cell_type": "code",
   "execution_count": 15,
   "id": "592fdbd5-b49d-4356-87aa-e38608b015bf",
   "metadata": {},
   "outputs": [],
   "source": [
    "myclient.close()"
   ]
  },
  {
   "cell_type": "code",
   "execution_count": null,
   "id": "8a79a93b-6e81-4b15-8e35-e51975ef7a8b",
   "metadata": {},
   "outputs": [],
   "source": []
  }
 ],
 "metadata": {
  "kernelspec": {
   "display_name": "rec-sys-py3.11",
   "language": "python",
   "name": "rec-sys-py3.11"
  },
  "language_info": {
   "codemirror_mode": {
    "name": "ipython",
    "version": 3
   },
   "file_extension": ".py",
   "mimetype": "text/x-python",
   "name": "python",
   "nbconvert_exporter": "python",
   "pygments_lexer": "ipython3",
   "version": "3.11.4"
  }
 },
 "nbformat": 4,
 "nbformat_minor": 5
}
