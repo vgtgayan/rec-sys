{
 "cells": [
  {
   "cell_type": "code",
   "execution_count": 1,
   "id": "0a8a5b14-3f19-4665-b3ec-b50cb9092d6c",
   "metadata": {
    "tags": []
   },
   "outputs": [
    {
     "name": "stderr",
     "output_type": "stream",
     "text": [
      "/Users/tgayanvitharanagamage/anaconda3/envs/rec-sys-py3.11/lib/python3.11/site-packages/tqdm/auto.py:21: TqdmWarning: IProgress not found. Please update jupyter and ipywidgets. See https://ipywidgets.readthedocs.io/en/stable/user_install.html\n",
      "  from .autonotebook import tqdm as notebook_tqdm\n"
     ]
    }
   ],
   "source": [
    "import numpy as np\n",
    "import pandas as pd\n",
    "from implicit.datasets.lastfm import get_lastfm\n",
    "from implicit.nearest_neighbours import bm25_weight\n",
    "from implicit.als import AlternatingLeastSquares"
   ]
  },
  {
   "cell_type": "markdown",
   "id": "9255c336-9a3a-4528-bf4e-7673c79013c7",
   "metadata": {},
   "source": [
    "## Experiment with the given example dataset"
   ]
  },
  {
   "cell_type": "code",
   "execution_count": 7,
   "id": "e8fb1d1b-689c-477b-9033-2295ec708804",
   "metadata": {
    "tags": []
   },
   "outputs": [],
   "source": [
    "artists, users, artist_user_plays = get_lastfm()"
   ]
  },
  {
   "cell_type": "code",
   "execution_count": 11,
   "id": "dd311b99-6e08-41cf-b0e4-38f7780ec2ea",
   "metadata": {
    "tags": []
   },
   "outputs": [
    {
     "data": {
      "text/plain": [
       "scipy.sparse._csr.csr_matrix"
      ]
     },
     "execution_count": 11,
     "metadata": {},
     "output_type": "execute_result"
    }
   ],
   "source": [
    "type(artist_user_plays)"
   ]
  },
  {
   "cell_type": "code",
   "execution_count": 3,
   "id": "e9114dda-4164-44f4-994f-03e106c4bf24",
   "metadata": {
    "tags": []
   },
   "outputs": [],
   "source": [
    "# weight the matrix, both to reduce impact of users that have played the same artist thousands of times\n",
    "# and to reduce the weight given to popular items\n",
    "# https://benfred.github.io/implicit/tutorial_lastfm.html#:~:text=The%20first%20step,classic%20information%20retrieval%3A\n",
    "# https://en.wikipedia.org/wiki/Okapi_BM25\n",
    "artist_user_plays = bm25_weight(artist_user_plays, K1=100, B=0.8)\n",
    "\n",
    "# get the transpose since the most of the functions in implicit expect (user, item) sparse matrices instead of (item, user)\n",
    "user_plays = artist_user_plays.T.tocsr()"
   ]
  },
  {
   "cell_type": "code",
   "execution_count": 4,
   "id": "d5578792-26e7-4491-a185-9fc820c8effb",
   "metadata": {
    "tags": []
   },
   "outputs": [
    {
     "name": "stderr",
     "output_type": "stream",
     "text": [
      "100%|███████████████████████████████████████████████████████████████████████████████████████████████████████████████████████████| 15/15 [21:36<00:00, 86.44s/it]\n"
     ]
    }
   ],
   "source": [
    "model = AlternatingLeastSquares(factors=64, regularization=0.05, alpha=2.0)\n",
    "model.fit(user_plays)"
   ]
  },
  {
   "cell_type": "code",
   "execution_count": 5,
   "id": "f7eaacfe-85cc-47b2-b2fc-483318a41018",
   "metadata": {
    "tags": []
   },
   "outputs": [
    {
     "data": {
      "text/html": [
       "<div>\n",
       "<style scoped>\n",
       "    .dataframe tbody tr th:only-of-type {\n",
       "        vertical-align: middle;\n",
       "    }\n",
       "\n",
       "    .dataframe tbody tr th {\n",
       "        vertical-align: top;\n",
       "    }\n",
       "\n",
       "    .dataframe thead th {\n",
       "        text-align: right;\n",
       "    }\n",
       "</style>\n",
       "<table border=\"1\" class=\"dataframe\">\n",
       "  <thead>\n",
       "    <tr style=\"text-align: right;\">\n",
       "      <th></th>\n",
       "      <th>artist</th>\n",
       "      <th>score</th>\n",
       "      <th>already_liked</th>\n",
       "    </tr>\n",
       "  </thead>\n",
       "  <tbody>\n",
       "    <tr>\n",
       "      <th>0</th>\n",
       "      <td>the coffinshakers</td>\n",
       "      <td>1.028942</td>\n",
       "      <td>True</td>\n",
       "    </tr>\n",
       "    <tr>\n",
       "      <th>1</th>\n",
       "      <td>mortiis</td>\n",
       "      <td>1.020929</td>\n",
       "      <td>True</td>\n",
       "    </tr>\n",
       "    <tr>\n",
       "      <th>2</th>\n",
       "      <td>storm</td>\n",
       "      <td>0.975037</td>\n",
       "      <td>False</td>\n",
       "    </tr>\n",
       "    <tr>\n",
       "      <th>3</th>\n",
       "      <td>d-a-d</td>\n",
       "      <td>0.972782</td>\n",
       "      <td>True</td>\n",
       "    </tr>\n",
       "    <tr>\n",
       "      <th>4</th>\n",
       "      <td>in slaughter natives</td>\n",
       "      <td>0.963969</td>\n",
       "      <td>False</td>\n",
       "    </tr>\n",
       "    <tr>\n",
       "      <th>5</th>\n",
       "      <td>von thronstahl</td>\n",
       "      <td>0.961098</td>\n",
       "      <td>True</td>\n",
       "    </tr>\n",
       "    <tr>\n",
       "      <th>6</th>\n",
       "      <td>puissance</td>\n",
       "      <td>0.960045</td>\n",
       "      <td>True</td>\n",
       "    </tr>\n",
       "    <tr>\n",
       "      <th>7</th>\n",
       "      <td>triarii</td>\n",
       "      <td>0.952944</td>\n",
       "      <td>True</td>\n",
       "    </tr>\n",
       "    <tr>\n",
       "      <th>8</th>\n",
       "      <td>kreuzweg ost</td>\n",
       "      <td>0.950946</td>\n",
       "      <td>True</td>\n",
       "    </tr>\n",
       "    <tr>\n",
       "      <th>9</th>\n",
       "      <td>arditi</td>\n",
       "      <td>0.948541</td>\n",
       "      <td>True</td>\n",
       "    </tr>\n",
       "  </tbody>\n",
       "</table>\n",
       "</div>"
      ],
      "text/plain": [
       "                 artist     score  already_liked\n",
       "0     the coffinshakers  1.028942           True\n",
       "1               mortiis  1.020929           True\n",
       "2                 storm  0.975037          False\n",
       "3                 d-a-d  0.972782           True\n",
       "4  in slaughter natives  0.963969          False\n",
       "5        von thronstahl  0.961098           True\n",
       "6             puissance  0.960045           True\n",
       "7               triarii  0.952944           True\n",
       "8          kreuzweg ost  0.950946           True\n",
       "9                arditi  0.948541           True"
      ]
     },
     "execution_count": 5,
     "metadata": {},
     "output_type": "execute_result"
    }
   ],
   "source": [
    "# Get recommendations for the a single user\n",
    "userid = 12345\n",
    "ids, scores = model.recommend(userid, user_plays[userid], N=10, filter_already_liked_items=False)\n",
    "pd.DataFrame({\"artist\": artists[ids], \"score\": scores, \"already_liked\": np.in1d(ids, user_plays[userid].indices)})"
   ]
  },
  {
   "cell_type": "code",
   "execution_count": 6,
   "id": "928d5d27-0897-45cb-912b-1bcd82881433",
   "metadata": {
    "tags": []
   },
   "outputs": [
    {
     "data": {
      "text/html": [
       "<div>\n",
       "<style scoped>\n",
       "    .dataframe tbody tr th:only-of-type {\n",
       "        vertical-align: middle;\n",
       "    }\n",
       "\n",
       "    .dataframe tbody tr th {\n",
       "        vertical-align: top;\n",
       "    }\n",
       "\n",
       "    .dataframe thead th {\n",
       "        text-align: right;\n",
       "    }\n",
       "</style>\n",
       "<table border=\"1\" class=\"dataframe\">\n",
       "  <thead>\n",
       "    <tr style=\"text-align: right;\">\n",
       "      <th></th>\n",
       "      <th>artist</th>\n",
       "      <th>score</th>\n",
       "    </tr>\n",
       "  </thead>\n",
       "  <tbody>\n",
       "    <tr>\n",
       "      <th>0</th>\n",
       "      <td>the beatles</td>\n",
       "      <td>1.000000</td>\n",
       "    </tr>\n",
       "    <tr>\n",
       "      <th>1</th>\n",
       "      <td>the beach boys</td>\n",
       "      <td>0.993353</td>\n",
       "    </tr>\n",
       "    <tr>\n",
       "      <th>2</th>\n",
       "      <td>the rolling stones</td>\n",
       "      <td>0.993140</td>\n",
       "    </tr>\n",
       "    <tr>\n",
       "      <th>3</th>\n",
       "      <td>john lennon</td>\n",
       "      <td>0.992786</td>\n",
       "    </tr>\n",
       "    <tr>\n",
       "      <th>4</th>\n",
       "      <td>bob dylan</td>\n",
       "      <td>0.992122</td>\n",
       "    </tr>\n",
       "    <tr>\n",
       "      <th>5</th>\n",
       "      <td>the who</td>\n",
       "      <td>0.992069</td>\n",
       "    </tr>\n",
       "    <tr>\n",
       "      <th>6</th>\n",
       "      <td>david bowie</td>\n",
       "      <td>0.991860</td>\n",
       "    </tr>\n",
       "    <tr>\n",
       "      <th>7</th>\n",
       "      <td>simon &amp; garfunkel</td>\n",
       "      <td>0.991555</td>\n",
       "    </tr>\n",
       "    <tr>\n",
       "      <th>8</th>\n",
       "      <td>led zeppelin</td>\n",
       "      <td>0.990879</td>\n",
       "    </tr>\n",
       "    <tr>\n",
       "      <th>9</th>\n",
       "      <td>pink floyd</td>\n",
       "      <td>0.990141</td>\n",
       "    </tr>\n",
       "  </tbody>\n",
       "</table>\n",
       "</div>"
      ],
      "text/plain": [
       "               artist     score\n",
       "0         the beatles  1.000000\n",
       "1      the beach boys  0.993353\n",
       "2  the rolling stones  0.993140\n",
       "3         john lennon  0.992786\n",
       "4           bob dylan  0.992122\n",
       "5             the who  0.992069\n",
       "6         david bowie  0.991860\n",
       "7   simon & garfunkel  0.991555\n",
       "8        led zeppelin  0.990879\n",
       "9          pink floyd  0.990141"
      ]
     },
     "execution_count": 6,
     "metadata": {},
     "output_type": "execute_result"
    }
   ],
   "source": [
    "# get related items for the beatles (itemid = 25512)\n",
    "ids, scores= model.similar_items(252512)\n",
    "\n",
    "# display the results using pandas for nicer formatting\n",
    "pd.DataFrame({\"artist\": artists[ids], \"score\": scores})"
   ]
  },
  {
   "cell_type": "code",
   "execution_count": null,
   "id": "a96a77fc-00dc-48ee-a1c3-5193d9b6b1ed",
   "metadata": {},
   "outputs": [],
   "source": [
    "# Make recommendations for the first 1000 users in the dataset\n",
    "userids = np.arange(1000)\n",
    "ids, scores = model.recommend(userids, user_plays[userids])\n",
    "ids, ids.shape"
   ]
  },
  {
   "cell_type": "markdown",
   "id": "ecb09eb5-d552-40ee-8b2e-21a2877a6556",
   "metadata": {},
   "source": [
    "## Experiment with amazon beauty dataset"
   ]
  },
  {
   "cell_type": "code",
   "execution_count": 17,
   "id": "16850b40-971f-4636-a657-aab7142c16ff",
   "metadata": {
    "tags": []
   },
   "outputs": [],
   "source": [
    "import numpy as np\n",
    "import pandas as pd\n",
    "from implicit.datasets.lastfm import get_lastfm\n",
    "from implicit.nearest_neighbours import bm25_weight\n",
    "from implicit.als import AlternatingLeastSquares\n",
    "from utils import pandas_df_to_csr"
   ]
  },
  {
   "cell_type": "code",
   "execution_count": 3,
   "id": "dd0c6917-dd69-44a5-a3bb-8608b64485d0",
   "metadata": {
    "tags": []
   },
   "outputs": [],
   "source": [
    "amazon_beauty_df = pd.read_csv(\"ratings_Beauty.csv\")"
   ]
  },
  {
   "cell_type": "code",
   "execution_count": 4,
   "id": "f3e23ab3-3a53-464c-89e8-51b70902aa16",
   "metadata": {
    "tags": []
   },
   "outputs": [],
   "source": [
    "user_map, item_map, amazon_beauty_csr = pandas_df_to_csr(amazon_beauty_df)"
   ]
  },
  {
   "cell_type": "code",
   "execution_count": 5,
   "id": "a7f29825-3bbf-4b42-8c3d-2d7ed5f614cf",
   "metadata": {
    "tags": []
   },
   "outputs": [],
   "source": [
    "amazon_beauty_csr_bm25 = bm25_weight(amazon_beauty_csr, K1=100, B=0.8)"
   ]
  },
  {
   "cell_type": "code",
   "execution_count": 6,
   "id": "a501cd40-add1-481d-8f01-827bbbd73c6f",
   "metadata": {
    "tags": []
   },
   "outputs": [],
   "source": [
    "amazon_beauty_csr_bm25 = amazon_beauty_csr_bm25.tocsr()"
   ]
  },
  {
   "cell_type": "code",
   "execution_count": 7,
   "id": "13a9ba7f-ce24-4513-88e3-9ddc684fd3d4",
   "metadata": {
    "tags": []
   },
   "outputs": [
    {
     "name": "stderr",
     "output_type": "stream",
     "text": [
      "100%|██████████████████████████████████████████████████████████████████████████████████████████████████████████████████████████████████████████████████████| 15/15 [06:22<00:00, 25.51s/it]\n"
     ]
    }
   ],
   "source": [
    "model = AlternatingLeastSquares(factors=64, regularization=0.05, alpha=2.0)\n",
    "model.fit(amazon_beauty_csr_bm25)"
   ]
  },
  {
   "cell_type": "code",
   "execution_count": 15,
   "id": "f28e64a6-3894-445f-9fb3-b4508237a885",
   "metadata": {
    "tags": []
   },
   "outputs": [],
   "source": [
    "# Get recommendations for the a single user\n",
    "userid = 725046\n",
    "ids, scores = model.recommend(userid, amazon_beauty_csr_bm25[userid], N=10, filter_already_liked_items=False)"
   ]
  },
  {
   "cell_type": "code",
   "execution_count": 36,
   "id": "39c8705d-31d4-46b3-994d-aaad7fc34b77",
   "metadata": {
    "tags": []
   },
   "outputs": [
    {
     "data": {
      "text/html": [
       "<div>\n",
       "<style scoped>\n",
       "    .dataframe tbody tr th:only-of-type {\n",
       "        vertical-align: middle;\n",
       "    }\n",
       "\n",
       "    .dataframe tbody tr th {\n",
       "        vertical-align: top;\n",
       "    }\n",
       "\n",
       "    .dataframe thead th {\n",
       "        text-align: right;\n",
       "    }\n",
       "</style>\n",
       "<table border=\"1\" class=\"dataframe\">\n",
       "  <thead>\n",
       "    <tr style=\"text-align: right;\">\n",
       "      <th></th>\n",
       "      <th>ProductId</th>\n",
       "      <th>score</th>\n",
       "      <th>already_purchased</th>\n",
       "    </tr>\n",
       "    <tr>\n",
       "      <th>ItemIndex</th>\n",
       "      <th></th>\n",
       "      <th></th>\n",
       "      <th></th>\n",
       "    </tr>\n",
       "  </thead>\n",
       "  <tbody>\n",
       "    <tr>\n",
       "      <th>81854</th>\n",
       "      <td>B002OVV7F0</td>\n",
       "      <td>0.294761</td>\n",
       "      <td>True</td>\n",
       "    </tr>\n",
       "    <tr>\n",
       "      <th>65766</th>\n",
       "      <td>B001MA0QY2</td>\n",
       "      <td>0.231470</td>\n",
       "      <td>False</td>\n",
       "    </tr>\n",
       "    <tr>\n",
       "      <th>141189</th>\n",
       "      <td>B005FYJB92</td>\n",
       "      <td>0.201351</td>\n",
       "      <td>False</td>\n",
       "    </tr>\n",
       "    <tr>\n",
       "      <th>88712</th>\n",
       "      <td>B0030O3VRW</td>\n",
       "      <td>0.196237</td>\n",
       "      <td>False</td>\n",
       "    </tr>\n",
       "    <tr>\n",
       "      <th>82735</th>\n",
       "      <td>B002QI1F8A</td>\n",
       "      <td>0.172364</td>\n",
       "      <td>False</td>\n",
       "    </tr>\n",
       "    <tr>\n",
       "      <th>63375</th>\n",
       "      <td>B001JKTTVQ</td>\n",
       "      <td>0.158884</td>\n",
       "      <td>False</td>\n",
       "    </tr>\n",
       "    <tr>\n",
       "      <th>18898</th>\n",
       "      <td>B000GHWSG6</td>\n",
       "      <td>0.155218</td>\n",
       "      <td>False</td>\n",
       "    </tr>\n",
       "    <tr>\n",
       "      <th>82527</th>\n",
       "      <td>B002QANC2A</td>\n",
       "      <td>0.153267</td>\n",
       "      <td>False</td>\n",
       "    </tr>\n",
       "    <tr>\n",
       "      <th>71340</th>\n",
       "      <td>B001V3TVEQ</td>\n",
       "      <td>0.148638</td>\n",
       "      <td>False</td>\n",
       "    </tr>\n",
       "    <tr>\n",
       "      <th>76981</th>\n",
       "      <td>B002DOO1VA</td>\n",
       "      <td>0.148304</td>\n",
       "      <td>False</td>\n",
       "    </tr>\n",
       "  </tbody>\n",
       "</table>\n",
       "</div>"
      ],
      "text/plain": [
       "            ProductId     score  already_purchased\n",
       "ItemIndex                                         \n",
       "81854      B002OVV7F0  0.294761               True\n",
       "65766      B001MA0QY2  0.231470              False\n",
       "141189     B005FYJB92  0.201351              False\n",
       "88712      B0030O3VRW  0.196237              False\n",
       "82735      B002QI1F8A  0.172364              False\n",
       "63375      B001JKTTVQ  0.158884              False\n",
       "18898      B000GHWSG6  0.155218              False\n",
       "82527      B002QANC2A  0.153267              False\n",
       "71340      B001V3TVEQ  0.148638              False\n",
       "76981      B002DOO1VA  0.148304              False"
      ]
     },
     "execution_count": 36,
     "metadata": {},
     "output_type": "execute_result"
    }
   ],
   "source": [
    "pd.DataFrame({\"ProductId\": item_map.loc[ids][\"ProductId\"], \"score\": scores, \"already_purchased\": np.in1d(ids, amazon_beauty_csr_bm25[userid].indices)})"
   ]
  },
  {
   "cell_type": "code",
   "execution_count": 13,
   "id": "acbc23ae-54ac-4ce8-8c51-a07e249d2dc4",
   "metadata": {
    "tags": []
   },
   "outputs": [
    {
     "data": {
      "text/plain": [
       "ItemIndex\n",
       "114276    B0049WJA9C\n",
       "65766     B001MA0QY2\n",
       "181492    B008O4YM4Y\n",
       "10253     B0009PVV40\n",
       "103349    B003S516XO\n",
       "174368    B0085WHBHU\n",
       "75617     B002B9DWBC\n",
       "89252     B00325D0WK\n",
       "73976     B0027A7CLG\n",
       "181069    B008MP481M\n",
       "Name: ProductId, dtype: object"
      ]
     },
     "execution_count": 13,
     "metadata": {},
     "output_type": "execute_result"
    }
   ],
   "source": [
    "item_map.loc[ids][\"ProductId\"]"
   ]
  },
  {
   "cell_type": "markdown",
   "id": "93c9c699-9f14-498f-b217-606fb3503b2f",
   "metadata": {},
   "source": [
    "## End of Experiments"
   ]
  },
  {
   "cell_type": "code",
   "execution_count": 42,
   "id": "e459fced-f323-4b40-bd72-6a2bdeed3b6c",
   "metadata": {
    "tags": []
   },
   "outputs": [],
   "source": [
    "import numpy as np\n",
    "import pandas as pd\n",
    "import gc\n",
    "from implicit.datasets.lastfm import get_lastfm\n",
    "from implicit.nearest_neighbours import bm25_weight\n",
    "from implicit.als import AlternatingLeastSquares\n",
    "from implicit import evaluation\n",
    "from utils import pandas_df_to_csr"
   ]
  },
  {
   "cell_type": "markdown",
   "id": "204bdedb-0996-4403-97ae-9fd9b1bcffd2",
   "metadata": {},
   "source": [
    "## Pre-processing"
   ]
  },
  {
   "cell_type": "code",
   "execution_count": 21,
   "id": "36c4b2c5-bc5a-41a0-b448-8a109be31178",
   "metadata": {
    "tags": []
   },
   "outputs": [],
   "source": [
    "amazon_beauty_df = pd.read_csv(\"ratings_Beauty.csv\")"
   ]
  },
  {
   "cell_type": "code",
   "execution_count": 22,
   "id": "313ff97a-239f-4b78-ad39-9afd768387bb",
   "metadata": {
    "tags": []
   },
   "outputs": [],
   "source": [
    "# Convert pandas df to CSR format\n",
    "# user_map and item_map contains index in csr format to original id mappings for users and items repectively\n",
    "user_map, item_map, amazon_beauty_csr = pandas_df_to_csr(amazon_beauty_df)"
   ]
  },
  {
   "cell_type": "code",
   "execution_count": 23,
   "id": "c8e23e1a-b699-4c5f-8986-ab04fb2ccd9d",
   "metadata": {
    "tags": []
   },
   "outputs": [],
   "source": [
    "# weight the matrix, both to reduce impact of users that have puchased the same item thousands of times\n",
    "# and to reduce the weight given to popular items\n",
    "# Output is a COO matrix\n",
    "amazon_beauty_coo_bm25 = bm25_weight(amazon_beauty_csr, K1=100, B=0.8)"
   ]
  },
  {
   "cell_type": "markdown",
   "id": "a19cc430-aa68-47c0-93f5-d7cec011cc7c",
   "metadata": {},
   "source": [
    "### Train-test split"
   ]
  },
  {
   "cell_type": "code",
   "execution_count": 29,
   "id": "ae42009b-70ee-481a-912d-bf97b6800ec7",
   "metadata": {
    "tags": []
   },
   "outputs": [
    {
     "name": "stdout",
     "output_type": "stream",
     "text": [
      "Train size: 1618938 \n",
      " Test size: 404132\n"
     ]
    }
   ],
   "source": [
    "train_coo, test_coo = evaluation.train_test_split(amazon_beauty_coo_bm25, train_percentage=0.8, random_state=55)\n",
    "print(f\"Train size: {train.size} \\n Test size: {test.size}\")"
   ]
  },
  {
   "cell_type": "code",
   "execution_count": 30,
   "id": "50114c98-b228-4c0f-b759-3c8ca2809d33",
   "metadata": {
    "tags": []
   },
   "outputs": [],
   "source": [
    "#Convert coo to csr\n",
    "train_csr = train_coo.tocsr()\n",
    "test_csr = test_coo.tocsr()"
   ]
  },
  {
   "cell_type": "markdown",
   "id": "8d41b06c-f047-4a53-9051-cdfb9ad62da2",
   "metadata": {
    "tags": []
   },
   "source": [
    "## Training"
   ]
  },
  {
   "cell_type": "code",
   "execution_count": 31,
   "id": "1ddf4db1-a172-4706-b72b-b1b93878d155",
   "metadata": {
    "tags": []
   },
   "outputs": [
    {
     "name": "stderr",
     "output_type": "stream",
     "text": [
      "100%|██████████████████████████████████████████████████████████████████████████████████████████████████████████████████████████████████████████████████████| 15/15 [05:20<00:00, 21.36s/it]\n"
     ]
    }
   ],
   "source": [
    "model = AlternatingLeastSquares(factors=64, regularization=0.05, alpha=2.0)\n",
    "model.fit(train_csr)"
   ]
  },
  {
   "cell_type": "markdown",
   "id": "c79cc638-2178-4108-a4bb-e4fa6c0f5c4a",
   "metadata": {},
   "source": [
    "## Evaluation"
   ]
  },
  {
   "cell_type": "code",
   "execution_count": 35,
   "id": "f00b08fb-16f1-4089-ae8a-86ac0f5ffe5b",
   "metadata": {
    "tags": []
   },
   "outputs": [
    {
     "name": "stderr",
     "output_type": "stream",
     "text": [
      "100%|████████████████████████████████████████████████████████████████████████████████████████████████████████████████████████████████████████████| 330846/330846 [00:57<00:00, 5780.66it/s]\n"
     ]
    },
    {
     "data": {
      "text/plain": [
       "{'precision': 0.0189013408792561,\n",
       " 'map': 0.00874428765414266,\n",
       " 'ndcg': 0.011266783263312333,\n",
       " 'auc': 0.5084291897637904}"
      ]
     },
     "execution_count": 35,
     "metadata": {},
     "output_type": "execute_result"
    }
   ],
   "source": [
    "ranking_metrics_at_10 = evaluation.ranking_metrics_at_k(model, train_csr, test_csr, K=10, show_progress=True, num_threads=0)\n",
    "ranking_metrics_at_10"
   ]
  },
  {
   "cell_type": "code",
   "execution_count": 38,
   "id": "703207cc-49c1-46a9-8a97-0ddb050038b9",
   "metadata": {
    "tags": []
   },
   "outputs": [
    {
     "data": {
      "text/plain": [
       "0.0189013408792561"
      ]
     },
     "execution_count": 38,
     "metadata": {},
     "output_type": "execute_result"
    }
   ],
   "source": [
    "ranking_metrics_at_10['precision']"
   ]
  },
  {
   "cell_type": "markdown",
   "id": "284081af-cdb5-4adb-9f4b-11af5e550b55",
   "metadata": {},
   "source": [
    "## Hyper-parameter Tuning"
   ]
  },
  {
   "cell_type": "code",
   "execution_count": 37,
   "id": "6f47a6d8-f495-4e65-b6d7-b8226d5d0bb3",
   "metadata": {
    "tags": []
   },
   "outputs": [],
   "source": [
    "# Hyper-parameters lists\n",
    "latent_factors = [32, 64, 128, 256]\n",
    "regularization = [0.001, 0.005, 0.01, 0.05, 0.1]\n",
    "alpha = [0.5, 1.0, 1.5, 2.0, 2.5, 3.0]"
   ]
  },
  {
   "cell_type": "code",
   "execution_count": 43,
   "id": "1dc7579a-1958-4c65-ad81-9d7b3795c8dc",
   "metadata": {
    "collapsed": true,
    "jupyter": {
     "outputs_hidden": true
    },
    "tags": []
   },
   "outputs": [
    {
     "name": "stdout",
     "output_type": "stream",
     "text": [
      "Training model with below parameter values --------\n",
      "latent_factors: 32, regularization: 0.001, alpha: 0.5\n"
     ]
    },
    {
     "name": "stderr",
     "output_type": "stream",
     "text": [
      "100%|██████████████████████████████████████████████████████████████████████████████████████████████████████████████████████████████████████████████████| 15/15 [5:11:20<00:00, 1245.35s/it]\n",
      "100%|████████████████████████████████████████████████████████████████████████████████████████████████████████████████████████████████████████████| 330846/330846 [00:55<00:00, 5932.94it/s]\n"
     ]
    },
    {
     "name": "stdout",
     "output_type": "stream",
     "text": [
      "Evaluation results: \n",
      " {'precision': 0.01006593548933499, 'map': 0.004695287763652912, 'ndcg': 0.006078225427714033, 'auc': 0.504619818152965}\n",
      "Training model with below parameter values --------\n",
      "latent_factors: 32, regularization: 0.001, alpha: 1.0\n"
     ]
    },
    {
     "name": "stderr",
     "output_type": "stream",
     "text": [
      "100%|█████████████████████████████████████████████████████████████████████████████████████████████████████████████████████████████████████████████████| 15/15 [12:14:54<00:00, 2939.63s/it]\n",
      "100%|████████████████████████████████████████████████████████████████████████████████████████████████████████████████████████████████████████████| 330846/330846 [00:54<00:00, 6070.11it/s]\n"
     ]
    },
    {
     "name": "stdout",
     "output_type": "stream",
     "text": [
      "Evaluation results: \n",
      " {'precision': 0.011246646556383936, 'map': 0.005015572210796884, 'ndcg': 0.006602003745638734, 'auc': 0.505113884888769}\n",
      "Training model with below parameter values --------\n",
      "latent_factors: 32, regularization: 0.001, alpha: 1.5\n"
     ]
    },
    {
     "name": "stderr",
     "output_type": "stream",
     "text": [
      "100%|███████████████████████████████████████████████████████████████████████████████████████████████████████████████████████████████████████████████████| 15/15 [1:11:02<00:00, 284.18s/it]\n",
      "100%|████████████████████████████████████████████████████████████████████████████████████████████████████████████████████████████████████████████| 330846/330846 [00:55<00:00, 6008.76it/s]\n"
     ]
    },
    {
     "name": "stdout",
     "output_type": "stream",
     "text": [
      "Evaluation results: \n",
      " {'precision': 0.011891803025509835, 'map': 0.005298613546232081, 'ndcg': 0.006975073372547329, 'auc': 0.5054218950506194}\n",
      "Training model with below parameter values --------\n",
      "latent_factors: 32, regularization: 0.001, alpha: 2.0\n"
     ]
    },
    {
     "name": "stderr",
     "output_type": "stream",
     "text": [
      "100%|█████████████████████████████████████████████████████████████████████████████████████████████████████████████████████████████████████████████████████| 15/15 [47:07<00:00, 188.47s/it]\n",
      "100%|████████████████████████████████████████████████████████████████████████████████████████████████████████████████████████████████████████████| 330846/330846 [01:11<00:00, 4627.74it/s]\n"
     ]
    },
    {
     "name": "stdout",
     "output_type": "stream",
     "text": [
      "Evaluation results: \n",
      " {'precision': 0.012646561365838591, 'map': 0.005482889526293714, 'ndcg': 0.007273821736302031, 'auc': 0.5057046348963756}\n",
      "Training model with below parameter values --------\n",
      "latent_factors: 32, regularization: 0.001, alpha: 2.5\n"
     ]
    },
    {
     "name": "stderr",
     "output_type": "stream",
     "text": [
      " 73%|█████████████████████████████████████████████████████████████████████████████████████████████████████████████▎                                       | 11/15 [41:01<14:55, 223.77s/it]\n"
     ]
    },
    {
     "ename": "KeyboardInterrupt",
     "evalue": "",
     "output_type": "error",
     "traceback": [
      "\u001b[0;31m---------------------------------------------------------------------------\u001b[0m",
      "\u001b[0;31mKeyboardInterrupt\u001b[0m                         Traceback (most recent call last)",
      "Cell \u001b[0;32mIn[43], line 8\u001b[0m\n\u001b[1;32m      6\u001b[0m \u001b[38;5;28mprint\u001b[39m(\u001b[38;5;124mf\u001b[39m\u001b[38;5;124m\"\u001b[39m\u001b[38;5;124mlatent_factors: \u001b[39m\u001b[38;5;132;01m{\u001b[39;00mf\u001b[38;5;132;01m}\u001b[39;00m\u001b[38;5;124m, regularization: \u001b[39m\u001b[38;5;132;01m{\u001b[39;00mr\u001b[38;5;132;01m}\u001b[39;00m\u001b[38;5;124m, alpha: \u001b[39m\u001b[38;5;132;01m{\u001b[39;00ma\u001b[38;5;132;01m}\u001b[39;00m\u001b[38;5;124m\"\u001b[39m)\n\u001b[1;32m      7\u001b[0m model \u001b[38;5;241m=\u001b[39m  AlternatingLeastSquares(factors\u001b[38;5;241m=\u001b[39mf, regularization\u001b[38;5;241m=\u001b[39mr, alpha\u001b[38;5;241m=\u001b[39ma)\n\u001b[0;32m----> 8\u001b[0m \u001b[43mmodel\u001b[49m\u001b[38;5;241;43m.\u001b[39;49m\u001b[43mfit\u001b[49m\u001b[43m(\u001b[49m\u001b[43mtrain_csr\u001b[49m\u001b[43m)\u001b[49m\n\u001b[1;32m      9\u001b[0m ranking_metrics_at_10 \u001b[38;5;241m=\u001b[39m evaluation\u001b[38;5;241m.\u001b[39mranking_metrics_at_k(model, train_csr, test_csr, K\u001b[38;5;241m=\u001b[39m\u001b[38;5;241m10\u001b[39m, show_progress\u001b[38;5;241m=\u001b[39m\u001b[38;5;28;01mTrue\u001b[39;00m, num_threads\u001b[38;5;241m=\u001b[39m\u001b[38;5;241m0\u001b[39m)\n\u001b[1;32m     10\u001b[0m \u001b[38;5;28mprint\u001b[39m(\u001b[38;5;124m\"\u001b[39m\u001b[38;5;124mEvaluation results: \u001b[39m\u001b[38;5;130;01m\\n\u001b[39;00m\u001b[38;5;124m\"\u001b[39m, ranking_metrics_at_10)\n",
      "File \u001b[0;32m~/anaconda3/envs/rec-sys-py3.11/lib/python3.11/site-packages/implicit/cpu/als.py:163\u001b[0m, in \u001b[0;36mAlternatingLeastSquares.fit\u001b[0;34m(self, user_items, show_progress, callback)\u001b[0m\n\u001b[1;32m    161\u001b[0m \u001b[38;5;28;01mfor\u001b[39;00m iteration \u001b[38;5;129;01min\u001b[39;00m \u001b[38;5;28mrange\u001b[39m(\u001b[38;5;28mself\u001b[39m\u001b[38;5;241m.\u001b[39miterations):\n\u001b[1;32m    162\u001b[0m     s \u001b[38;5;241m=\u001b[39m time\u001b[38;5;241m.\u001b[39mtime()\n\u001b[0;32m--> 163\u001b[0m     \u001b[43msolver\u001b[49m\u001b[43m(\u001b[49m\n\u001b[1;32m    164\u001b[0m \u001b[43m        \u001b[49m\u001b[43mCui\u001b[49m\u001b[43m,\u001b[49m\n\u001b[1;32m    165\u001b[0m \u001b[43m        \u001b[49m\u001b[38;5;28;43mself\u001b[39;49m\u001b[38;5;241;43m.\u001b[39;49m\u001b[43muser_factors\u001b[49m\u001b[43m,\u001b[49m\n\u001b[1;32m    166\u001b[0m \u001b[43m        \u001b[49m\u001b[38;5;28;43mself\u001b[39;49m\u001b[38;5;241;43m.\u001b[39;49m\u001b[43mitem_factors\u001b[49m\u001b[43m,\u001b[49m\n\u001b[1;32m    167\u001b[0m \u001b[43m        \u001b[49m\u001b[38;5;28;43mself\u001b[39;49m\u001b[38;5;241;43m.\u001b[39;49m\u001b[43mregularization\u001b[49m\u001b[43m,\u001b[49m\n\u001b[1;32m    168\u001b[0m \u001b[43m        \u001b[49m\u001b[43mnum_threads\u001b[49m\u001b[38;5;241;43m=\u001b[39;49m\u001b[38;5;28;43mself\u001b[39;49m\u001b[38;5;241;43m.\u001b[39;49m\u001b[43mnum_threads\u001b[49m\u001b[43m,\u001b[49m\n\u001b[1;32m    169\u001b[0m \u001b[43m    \u001b[49m\u001b[43m)\u001b[49m\n\u001b[1;32m    170\u001b[0m     solver(\n\u001b[1;32m    171\u001b[0m         Ciu,\n\u001b[1;32m    172\u001b[0m         \u001b[38;5;28mself\u001b[39m\u001b[38;5;241m.\u001b[39mitem_factors,\n\u001b[0;32m   (...)\u001b[0m\n\u001b[1;32m    175\u001b[0m         num_threads\u001b[38;5;241m=\u001b[39m\u001b[38;5;28mself\u001b[39m\u001b[38;5;241m.\u001b[39mnum_threads,\n\u001b[1;32m    176\u001b[0m     )\n\u001b[1;32m    177\u001b[0m     progress\u001b[38;5;241m.\u001b[39mupdate(\u001b[38;5;241m1\u001b[39m)\n",
      "\u001b[0;31mKeyboardInterrupt\u001b[0m: "
     ]
    }
   ],
   "source": [
    "results = []\n",
    "for f in latent_factors:\n",
    "    for r in regularization:\n",
    "        for a in alpha:\n",
    "            print(\"Training model with below parameter values --------\")\n",
    "            print(f\"latent_factors: {f}, regularization: {r}, alpha: {a}\")\n",
    "            model =  AlternatingLeastSquares(factors=f, regularization=r, alpha=a)\n",
    "            model.fit(train_csr)\n",
    "            ranking_metrics_at_10 = evaluation.ranking_metrics_at_k(model, train_csr, test_csr, K=10, show_progress=True, num_threads=0)\n",
    "            print(\"Evaluation results: \\n\", ranking_metrics_at_10)\n",
    "            results.append(\n",
    "                (f,r,a,ranking_metrics_at_10['precision'],ranking_metrics_at_10['map'],ranking_metrics_at_10['ndcg'],ranking_metrics_at_10['auc'])\n",
    "            )\n",
    "            # Garbage handling\n",
    "            del model\n",
    "            gc.collect()"
   ]
  },
  {
   "cell_type": "markdown",
   "id": "1f15c264-e5f8-4c03-bb17-3fea438f1fc8",
   "metadata": {},
   "source": [
    "Training model with below parameter values --------\n",
    "latent_factors: 32, regularization: 0.001, alpha: 0.5\n",
    "100%|██████████████████████████████████████████████████████████████████████████████████████████████████████████████████████████████████████████████████| 15/15 [5:11:20<00:00, 1245.35s/it]\n",
    "100%|████████████████████████████████████████████████████████████████████████████████████████████████████████████████████████████████████████████| 330846/330846 [00:55<00:00, 5932.94it/s]\n",
    "Evaluation results: \n",
    " {'precision': 0.01006593548933499, 'map': 0.004695287763652912, 'ndcg': 0.006078225427714033, 'auc': 0.504619818152965}\n",
    "Training model with below parameter values --------\n",
    "latent_factors: 32, regularization: 0.001, alpha: 1.0\n",
    "100%|█████████████████████████████████████████████████████████████████████████████████████████████████████████████████████████████████████████████████| 15/15 [12:14:54<00:00, 2939.63s/it]\n",
    "100%|████████████████████████████████████████████████████████████████████████████████████████████████████████████████████████████████████████████| 330846/330846 [00:54<00:00, 6070.11it/s]\n",
    "Evaluation results: \n",
    " {'precision': 0.011246646556383936, 'map': 0.005015572210796884, 'ndcg': 0.006602003745638734, 'auc': 0.505113884888769}\n",
    "Training model with below parameter values --------\n",
    "latent_factors: 32, regularization: 0.001, alpha: 1.5\n",
    "100%|███████████████████████████████████████████████████████████████████████████████████████████████████████████████████████████████████████████████████| 15/15 [1:11:02<00:00, 284.18s/it]\n",
    "100%|████████████████████████████████████████████████████████████████████████████████████████████████████████████████████████████████████████████| 330846/330846 [00:55<00:00, 6008.76it/s]\n",
    "Evaluation results: \n",
    " {'precision': 0.011891803025509835, 'map': 0.005298613546232081, 'ndcg': 0.006975073372547329, 'auc': 0.5054218950506194}\n",
    "Training model with below parameter values --------\n",
    "latent_factors: 32, regularization: 0.001, alpha: 2.0\n",
    "100%|█████████████████████████████████████████████████████████████████████████████████████████████████████████████████████████████████████████████████████| 15/15 [47:07<00:00, 188.47s/it]\n",
    "100%|████████████████████████████████████████████████████████████████████████████████████████████████████████████████████████████████████████████| 330846/330846 [01:11<00:00, 4627.74it/s]\n",
    "Evaluation results: \n",
    " {'precision': 0.012646561365838591, 'map': 0.005482889526293714, 'ndcg': 0.007273821736302031, 'auc': 0.5057046348963756}"
   ]
  },
  {
   "cell_type": "code",
   "execution_count": null,
   "id": "190239e4-61a0-4cda-a405-50741a02a876",
   "metadata": {
    "tags": []
   },
   "outputs": [],
   "source": [
    "results_df = pd.DataFrame(results, columns=['latent_factors', 'regularization', 'alpha', 'precision', 'map', 'ndcg', 'auc'])\n",
    "results_df"
   ]
  },
  {
   "cell_type": "code",
   "execution_count": null,
   "id": "da75656f-622b-4e58-bfb5-dd2c4535f536",
   "metadata": {},
   "outputs": [],
   "source": []
  }
 ],
 "metadata": {
  "kernelspec": {
   "display_name": "rec-sys-py3.11",
   "language": "python",
   "name": "rec-sys-py3.11"
  },
  "language_info": {
   "codemirror_mode": {
    "name": "ipython",
    "version": 3
   },
   "file_extension": ".py",
   "mimetype": "text/x-python",
   "name": "python",
   "nbconvert_exporter": "python",
   "pygments_lexer": "ipython3",
   "version": "3.11.4"
  }
 },
 "nbformat": 4,
 "nbformat_minor": 5
}
