{
 "cells": [
  {
   "cell_type": "code",
   "execution_count": 1,
   "id": "d5abcea3-edec-42de-b369-72c58956dccd",
   "metadata": {},
   "outputs": [
    {
     "name": "stdout",
     "output_type": "stream",
     "text": [
      "Collecting scikit-surprise\n",
      "  Downloading scikit-surprise-1.1.3.tar.gz (771 kB)\n",
      "\u001b[K     |████████████████████████████████| 771 kB 747 kB/s eta 0:00:01\n",
      "\u001b[?25hCollecting joblib>=1.0.0\n",
      "  Downloading joblib-1.3.1-py3-none-any.whl (301 kB)\n",
      "\u001b[K     |████████████████████████████████| 301 kB 663 kB/s eta 0:00:01\n",
      "\u001b[?25hRequirement already satisfied: numpy>=1.17.3 in /Users/tgayanvitharanagamage/workdir/repos/templates/venv/lib/python3.9/site-packages (from scikit-surprise) (1.23.5)\n",
      "Collecting scipy>=1.3.2\n",
      "  Downloading scipy-1.11.1-cp39-cp39-macosx_12_0_arm64.whl (29.6 MB)\n",
      "\u001b[K     |████████████████████████████████| 29.6 MB 477 kB/s eta 0:00:01\n",
      "\u001b[?25hUsing legacy 'setup.py install' for scikit-surprise, since package 'wheel' is not installed.\n",
      "Installing collected packages: scipy, joblib, scikit-surprise\n",
      "    Running setup.py install for scikit-surprise ... \u001b[?25ldone\n",
      "\u001b[?25hSuccessfully installed joblib-1.3.1 scikit-surprise-1.1.3 scipy-1.11.1\n",
      "\u001b[33mWARNING: You are using pip version 21.2.4; however, version 23.2.1 is available.\n",
      "You should consider upgrading via the '/Users/tgayanvitharanagamage/workdir/repos/templates/venv/bin/python3 -m pip install --upgrade pip' command.\u001b[0m\n",
      "Note: you may need to restart the kernel to use updated packages.\n"
     ]
    }
   ],
   "source": [
    "%pip install scikit-surprise"
   ]
  },
  {
   "cell_type": "code",
   "execution_count": 1,
   "id": "bc105fdf-6ce6-4dce-a351-0e37c608a733",
   "metadata": {},
   "outputs": [],
   "source": [
    "from surprise import KNNWithMeans\n",
    "from surprise import Dataset\n",
    "from surprise.model_selection import GridSearchCV\n",
    "from surprise import Reader\n",
    "import pandas as pd"
   ]
  },
  {
   "cell_type": "markdown",
   "id": "0e92d1f0-4dfa-420f-9eaa-2c5b0a41c0dc",
   "metadata": {},
   "source": [
    "# Hyper-parameter tuninng with Grid Search"
   ]
  },
  {
   "cell_type": "markdown",
   "id": "3b342546-b577-47ba-b14d-999fb8615d68",
   "metadata": {},
   "source": [
    "## Movielens dataset"
   ]
  },
  {
   "cell_type": "code",
   "execution_count": 2,
   "id": "314fd919-3b3b-4f63-a6f5-124d532d3b40",
   "metadata": {},
   "outputs": [
    {
     "name": "stdout",
     "output_type": "stream",
     "text": [
      "Dataset ml-100k could not be found. Do you want to download it? [Y/n] "
     ]
    },
    {
     "name": "stdin",
     "output_type": "stream",
     "text": [
      " Y\n"
     ]
    },
    {
     "name": "stdout",
     "output_type": "stream",
     "text": [
      "Trying to download dataset from https://files.grouplens.org/datasets/movielens/ml-100k.zip...\n",
      "Done! Dataset ml-100k has been saved to /Users/tgayanvitharanagamage/.surprise_data/ml-100k\n"
     ]
    },
    {
     "data": {
      "text/plain": [
       "<surprise.dataset.DatasetAutoFolds at 0x1059e6a30>"
      ]
     },
     "execution_count": 2,
     "metadata": {},
     "output_type": "execute_result"
    }
   ],
   "source": [
    "data = Dataset.load_builtin(\"ml-100k\")\n",
    "data"
   ]
  },
  {
   "cell_type": "code",
   "execution_count": 9,
   "id": "0178cba6-31ca-4e33-8b67-1d7c566891f6",
   "metadata": {},
   "outputs": [
    {
     "name": "stdout",
     "output_type": "stream",
     "text": [
      "['__class__', '__delattr__', '__dict__', '__dir__', '__doc__', '__eq__', '__format__', '__ge__', '__getattribute__', '__gt__', '__hash__', '__init__', '__init_subclass__', '__le__', '__lt__', '__module__', '__ne__', '__new__', '__reduce__', '__reduce_ex__', '__repr__', '__setattr__', '__sizeof__', '__str__', '__subclasshook__', '__weakref__', 'build_full_trainset', 'construct_testset', 'construct_trainset', 'has_been_split', 'load_builtin', 'load_from_df', 'load_from_file', 'load_from_folds', 'ratings_file', 'raw_ratings', 'read_ratings', 'reader']\n"
     ]
    }
   ],
   "source": [
    "print(dir(data))"
   ]
  },
  {
   "cell_type": "code",
   "execution_count": 5,
   "id": "0463fa3f-f77d-42c7-bc41-d660a8ba5460",
   "metadata": {},
   "outputs": [],
   "source": [
    "sim_options = {\n",
    "    \"name\": [\"msd\", \"cosine\"],\n",
    "    \"min_support\": [3, 4, 5],\n",
    "    \"user_based\": [False, True],\n",
    "}\n",
    "\n",
    "param_grid = {\"sim_options\": sim_options}"
   ]
  },
  {
   "cell_type": "code",
   "execution_count": 6,
   "id": "976ddf2d-c20c-4de6-bd42-929ec80e6e98",
   "metadata": {
    "collapsed": true,
    "jupyter": {
     "outputs_hidden": true
    }
   },
   "outputs": [
    {
     "name": "stdout",
     "output_type": "stream",
     "text": [
      "Computing the msd similarity matrix...\n",
      "Done computing similarity matrix.\n",
      "Computing the msd similarity matrix...\n",
      "Done computing similarity matrix.\n",
      "Computing the msd similarity matrix...\n",
      "Done computing similarity matrix.\n",
      "Computing the msd similarity matrix...\n",
      "Done computing similarity matrix.\n",
      "Computing the msd similarity matrix...\n",
      "Done computing similarity matrix.\n",
      "Computing the msd similarity matrix...\n",
      "Done computing similarity matrix.\n",
      "Computing the msd similarity matrix...\n",
      "Done computing similarity matrix.\n",
      "Computing the msd similarity matrix...\n",
      "Done computing similarity matrix.\n",
      "Computing the msd similarity matrix...\n",
      "Done computing similarity matrix.\n",
      "Computing the msd similarity matrix...\n",
      "Done computing similarity matrix.\n",
      "Computing the msd similarity matrix...\n",
      "Done computing similarity matrix.\n",
      "Computing the msd similarity matrix...\n",
      "Done computing similarity matrix.\n",
      "Computing the msd similarity matrix...\n",
      "Done computing similarity matrix.\n",
      "Computing the msd similarity matrix...\n",
      "Done computing similarity matrix.\n",
      "Computing the msd similarity matrix...\n",
      "Done computing similarity matrix.\n",
      "Computing the msd similarity matrix...\n",
      "Done computing similarity matrix.\n",
      "Computing the msd similarity matrix...\n",
      "Done computing similarity matrix.\n",
      "Computing the msd similarity matrix...\n",
      "Done computing similarity matrix.\n",
      "Computing the cosine similarity matrix...\n",
      "Done computing similarity matrix.\n",
      "Computing the cosine similarity matrix...\n",
      "Done computing similarity matrix.\n",
      "Computing the cosine similarity matrix...\n",
      "Done computing similarity matrix.\n",
      "Computing the cosine similarity matrix...\n",
      "Done computing similarity matrix.\n",
      "Computing the cosine similarity matrix...\n",
      "Done computing similarity matrix.\n",
      "Computing the cosine similarity matrix...\n",
      "Done computing similarity matrix.\n",
      "Computing the cosine similarity matrix...\n",
      "Done computing similarity matrix.\n",
      "Computing the cosine similarity matrix...\n",
      "Done computing similarity matrix.\n",
      "Computing the cosine similarity matrix...\n",
      "Done computing similarity matrix.\n",
      "Computing the cosine similarity matrix...\n",
      "Done computing similarity matrix.\n",
      "Computing the cosine similarity matrix...\n",
      "Done computing similarity matrix.\n",
      "Computing the cosine similarity matrix...\n",
      "Done computing similarity matrix.\n",
      "Computing the cosine similarity matrix...\n",
      "Done computing similarity matrix.\n",
      "Computing the cosine similarity matrix...\n",
      "Done computing similarity matrix.\n",
      "Computing the cosine similarity matrix...\n",
      "Done computing similarity matrix.\n",
      "Computing the cosine similarity matrix...\n",
      "Done computing similarity matrix.\n",
      "Computing the cosine similarity matrix...\n",
      "Done computing similarity matrix.\n",
      "Computing the cosine similarity matrix...\n",
      "Done computing similarity matrix.\n"
     ]
    }
   ],
   "source": [
    "gs = GridSearchCV(KNNWithMeans, param_grid, measures=[\"rmse\", \"mae\"], cv=3)\n",
    "gs.fit(data)"
   ]
  },
  {
   "cell_type": "code",
   "execution_count": 7,
   "id": "80c00fbe-7259-4bde-b1ad-269d8fd2fd7f",
   "metadata": {},
   "outputs": [
    {
     "name": "stdout",
     "output_type": "stream",
     "text": [
      "0.9442628957696252\n",
      "{'sim_options': {'name': 'msd', 'min_support': 3, 'user_based': False}}\n"
     ]
    }
   ],
   "source": [
    "print(gs.best_score[\"rmse\"])\n",
    "print(gs.best_params[\"rmse\"])"
   ]
  },
  {
   "cell_type": "markdown",
   "id": "f5b7f0a7-1277-44f1-baff-a9a5fbb455fb",
   "metadata": {},
   "source": [
    "## Amazon dataset"
   ]
  },
  {
   "cell_type": "code",
   "execution_count": 2,
   "id": "1bd9a9fa-5180-4648-810e-26f78a9d8471",
   "metadata": {},
   "outputs": [],
   "source": [
    "reader = Reader(rating_scale=(1, 5))"
   ]
  },
  {
   "cell_type": "code",
   "execution_count": 3,
   "id": "c3e3e4a1-cd67-4d44-a9f9-dbabe612d674",
   "metadata": {},
   "outputs": [
    {
     "data": {
      "text/plain": [
       "(2023070, 4)"
      ]
     },
     "execution_count": 3,
     "metadata": {},
     "output_type": "execute_result"
    }
   ],
   "source": [
    "ratings_beauty_df = pd.read_csv(\"ratings_Beauty.csv\")\n",
    "ratings_beauty_df.shape"
   ]
  },
  {
   "cell_type": "code",
   "execution_count": 4,
   "id": "541a156a-8623-494f-9c8b-abc5dee03560",
   "metadata": {},
   "outputs": [
    {
     "data": {
      "text/html": [
       "<div>\n",
       "<style scoped>\n",
       "    .dataframe tbody tr th:only-of-type {\n",
       "        vertical-align: middle;\n",
       "    }\n",
       "\n",
       "    .dataframe tbody tr th {\n",
       "        vertical-align: top;\n",
       "    }\n",
       "\n",
       "    .dataframe thead th {\n",
       "        text-align: right;\n",
       "    }\n",
       "</style>\n",
       "<table border=\"1\" class=\"dataframe\">\n",
       "  <thead>\n",
       "    <tr style=\"text-align: right;\">\n",
       "      <th></th>\n",
       "      <th>UserId</th>\n",
       "      <th>ProductId</th>\n",
       "      <th>Rating</th>\n",
       "      <th>Timestamp</th>\n",
       "    </tr>\n",
       "  </thead>\n",
       "  <tbody>\n",
       "    <tr>\n",
       "      <th>0</th>\n",
       "      <td>A39HTATAQ9V7YF</td>\n",
       "      <td>0205616461</td>\n",
       "      <td>5.0</td>\n",
       "      <td>1369699200</td>\n",
       "    </tr>\n",
       "    <tr>\n",
       "      <th>1</th>\n",
       "      <td>A3JM6GV9MNOF9X</td>\n",
       "      <td>0558925278</td>\n",
       "      <td>3.0</td>\n",
       "      <td>1355443200</td>\n",
       "    </tr>\n",
       "    <tr>\n",
       "      <th>2</th>\n",
       "      <td>A1Z513UWSAAO0F</td>\n",
       "      <td>0558925278</td>\n",
       "      <td>5.0</td>\n",
       "      <td>1404691200</td>\n",
       "    </tr>\n",
       "    <tr>\n",
       "      <th>3</th>\n",
       "      <td>A1WMRR494NWEWV</td>\n",
       "      <td>0733001998</td>\n",
       "      <td>4.0</td>\n",
       "      <td>1382572800</td>\n",
       "    </tr>\n",
       "    <tr>\n",
       "      <th>4</th>\n",
       "      <td>A3IAAVS479H7M7</td>\n",
       "      <td>0737104473</td>\n",
       "      <td>1.0</td>\n",
       "      <td>1274227200</td>\n",
       "    </tr>\n",
       "    <tr>\n",
       "      <th>...</th>\n",
       "      <td>...</td>\n",
       "      <td>...</td>\n",
       "      <td>...</td>\n",
       "      <td>...</td>\n",
       "    </tr>\n",
       "    <tr>\n",
       "      <th>199995</th>\n",
       "      <td>A029960025H0RFSRCHXUW</td>\n",
       "      <td>B000C1Z1YC</td>\n",
       "      <td>5.0</td>\n",
       "      <td>1384041600</td>\n",
       "    </tr>\n",
       "    <tr>\n",
       "      <th>199996</th>\n",
       "      <td>A34GZMKEI89MUR</td>\n",
       "      <td>B000C1Z1YC</td>\n",
       "      <td>5.0</td>\n",
       "      <td>1400025600</td>\n",
       "    </tr>\n",
       "    <tr>\n",
       "      <th>199997</th>\n",
       "      <td>A118JJ8W51L06I</td>\n",
       "      <td>B000C1Z1YC</td>\n",
       "      <td>2.0</td>\n",
       "      <td>1316649600</td>\n",
       "    </tr>\n",
       "    <tr>\n",
       "      <th>199998</th>\n",
       "      <td>A38KRDJP87P086</td>\n",
       "      <td>B000C1Z1YC</td>\n",
       "      <td>1.0</td>\n",
       "      <td>1403222400</td>\n",
       "    </tr>\n",
       "    <tr>\n",
       "      <th>199999</th>\n",
       "      <td>A3GFIW2M9FACG</td>\n",
       "      <td>B000C1Z1YC</td>\n",
       "      <td>1.0</td>\n",
       "      <td>1384387200</td>\n",
       "    </tr>\n",
       "  </tbody>\n",
       "</table>\n",
       "<p>200000 rows × 4 columns</p>\n",
       "</div>"
      ],
      "text/plain": [
       "                       UserId   ProductId  Rating   Timestamp\n",
       "0              A39HTATAQ9V7YF  0205616461     5.0  1369699200\n",
       "1              A3JM6GV9MNOF9X  0558925278     3.0  1355443200\n",
       "2              A1Z513UWSAAO0F  0558925278     5.0  1404691200\n",
       "3              A1WMRR494NWEWV  0733001998     4.0  1382572800\n",
       "4              A3IAAVS479H7M7  0737104473     1.0  1274227200\n",
       "...                       ...         ...     ...         ...\n",
       "199995  A029960025H0RFSRCHXUW  B000C1Z1YC     5.0  1384041600\n",
       "199996         A34GZMKEI89MUR  B000C1Z1YC     5.0  1400025600\n",
       "199997         A118JJ8W51L06I  B000C1Z1YC     2.0  1316649600\n",
       "199998         A38KRDJP87P086  B000C1Z1YC     1.0  1403222400\n",
       "199999          A3GFIW2M9FACG  B000C1Z1YC     1.0  1384387200\n",
       "\n",
       "[200000 rows x 4 columns]"
      ]
     },
     "execution_count": 4,
     "metadata": {},
     "output_type": "execute_result"
    }
   ],
   "source": [
    "ratings_beauty_df = ratings_beauty_df.head(200000)\n",
    "ratings_beauty_df"
   ]
  },
  {
   "cell_type": "code",
   "execution_count": 5,
   "id": "0e8c6e86-b12e-4b86-9bae-89b0412aa2fb",
   "metadata": {},
   "outputs": [
    {
     "data": {
      "text/plain": [
       "<surprise.dataset.DatasetAutoFolds at 0x10e9b67c0>"
      ]
     },
     "execution_count": 5,
     "metadata": {},
     "output_type": "execute_result"
    }
   ],
   "source": [
    "# Loads Pandas dataframe\n",
    "ratings_beauty = Dataset.load_from_df(ratings_beauty_df[[\"UserId\", \"ProductId\", \"Rating\"]], reader)\n",
    "ratings_beauty"
   ]
  },
  {
   "cell_type": "code",
   "execution_count": 6,
   "id": "f8e3affe-9869-4cc5-ad33-3139e2b234d7",
   "metadata": {},
   "outputs": [],
   "source": [
    "sim_options = {\n",
    "    \"name\": [\"msd\", \"cosine\"],\n",
    "    \"min_support\": [3, 4, 5],\n",
    "    \"user_based\": [False, True],\n",
    "}\n",
    "\n",
    "param_grid = {\"sim_options\": sim_options}"
   ]
  },
  {
   "cell_type": "code",
   "execution_count": null,
   "id": "894f9abe-60b6-473e-ad7a-106d9275ae0f",
   "metadata": {},
   "outputs": [
    {
     "name": "stdout",
     "output_type": "stream",
     "text": [
      "Computing the msd similarity matrix...\n",
      "Done computing similarity matrix.\n",
      "Computing the msd similarity matrix...\n",
      "Done computing similarity matrix.\n",
      "Computing the msd similarity matrix...\n",
      "Done computing similarity matrix.\n"
     ]
    }
   ],
   "source": [
    "gs_ratings_beauty = GridSearchCV(KNNWithMeans, param_grid, measures=[\"rmse\", \"mae\"], cv=3)\n",
    "gs_ratings_beauty.fit(ratings_beauty)"
   ]
  },
  {
   "cell_type": "code",
   "execution_count": null,
   "id": "aeb454a8-743b-483d-94a4-c5f7ad62ed1b",
   "metadata": {},
   "outputs": [],
   "source": [
    "print(gs_ratings_beauty.best_score[\"rmse\"])\n",
    "print(gs_ratings_beauty.best_params[\"rmse\"])"
   ]
  },
  {
   "cell_type": "markdown",
   "id": "7a788da3-caa8-465c-bffb-8f635e50e3a5",
   "metadata": {},
   "source": [
    "#### Previous results with 100000 data\n",
    "1.3217528548434327\n",
    "{'sim_options': {'name': 'cosine', 'min_support': 4, 'user_based': False}}"
   ]
  },
  {
   "cell_type": "markdown",
   "id": "babcac07-e107-4251-81c4-4b88248a93cf",
   "metadata": {},
   "source": [
    "# Prediction"
   ]
  },
  {
   "cell_type": "markdown",
   "id": "f70e50dd-bfc5-47ce-a736-343ea9f2d442",
   "metadata": {},
   "source": [
    "## Amazon dataset"
   ]
  },
  {
   "cell_type": "markdown",
   "id": "49cb2efc-1fc8-452b-9491-9788b6fe7227",
   "metadata": {},
   "source": [
    "Use best parameters found by grid search to build the recommender model"
   ]
  },
  {
   "cell_type": "code",
   "execution_count": 20,
   "id": "8a77bd02-ced5-4e3e-82fe-dd68651dee0d",
   "metadata": {},
   "outputs": [],
   "source": [
    "# To use item-based cosine similarity\n",
    "sim_options = {\n",
    "    \"name\": \"cosine\",\n",
    "    \"min_support\": 4,\n",
    "    \"user_based\": False,  # Compute  similarities between items\n",
    "}\n",
    "algo = KNNWithMeans(sim_options=sim_options)"
   ]
  },
  {
   "cell_type": "code",
   "execution_count": 21,
   "id": "07a4bd19-7442-4fe4-83bb-52fb4c3e6740",
   "metadata": {},
   "outputs": [],
   "source": [
    "trainingSet = ratings_beauty.build_full_trainset()"
   ]
  },
  {
   "cell_type": "code",
   "execution_count": 22,
   "id": "3a763fa3-7da0-4df8-91f4-aae0289431ef",
   "metadata": {},
   "outputs": [
    {
     "name": "stdout",
     "output_type": "stream",
     "text": [
      "Computing the cosine similarity matrix...\n",
      "Done computing similarity matrix.\n"
     ]
    },
    {
     "data": {
      "text/plain": [
       "<surprise.prediction_algorithms.knns.KNNWithMeans at 0x157293610>"
      ]
     },
     "execution_count": 22,
     "metadata": {},
     "output_type": "execute_result"
    }
   ],
   "source": [
    "algo.fit(trainingSet)"
   ]
  },
  {
   "cell_type": "code",
   "execution_count": 26,
   "id": "0786117f-5408-4175-a532-0dcd1fe1c0e9",
   "metadata": {},
   "outputs": [
    {
     "data": {
      "text/plain": [
       "4.0"
      ]
     },
     "execution_count": 26,
     "metadata": {},
     "output_type": "execute_result"
    }
   ],
   "source": [
    "prediction = algo.predict('A39HTATAQ9V7YF', '0558925278')\n",
    "prediction.est"
   ]
  },
  {
   "cell_type": "code",
   "execution_count": null,
   "id": "f5c1c0de-7ca9-445a-bc9e-c3ce6b1f2034",
   "metadata": {},
   "outputs": [],
   "source": []
  }
 ],
 "metadata": {
  "kernelspec": {
   "display_name": "venv",
   "language": "python",
   "name": "venv"
  },
  "language_info": {
   "codemirror_mode": {
    "name": "ipython",
    "version": 3
   },
   "file_extension": ".py",
   "mimetype": "text/x-python",
   "name": "python",
   "nbconvert_exporter": "python",
   "pygments_lexer": "ipython3",
   "version": "3.9.6"
  }
 },
 "nbformat": 4,
 "nbformat_minor": 5
}
