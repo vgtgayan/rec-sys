{
 "cells": [
  {
   "cell_type": "code",
   "execution_count": 1,
   "id": "0a8a5b14-3f19-4665-b3ec-b50cb9092d6c",
   "metadata": {
    "tags": []
   },
   "outputs": [
    {
     "name": "stderr",
     "output_type": "stream",
     "text": [
      "/Users/tgayanvitharanagamage/anaconda3/envs/rec-sys-py3.11/lib/python3.11/site-packages/tqdm/auto.py:21: TqdmWarning: IProgress not found. Please update jupyter and ipywidgets. See https://ipywidgets.readthedocs.io/en/stable/user_install.html\n",
      "  from .autonotebook import tqdm as notebook_tqdm\n"
     ]
    }
   ],
   "source": [
    "import numpy as np\n",
    "import pandas as pd\n",
    "from implicit.datasets.lastfm import get_lastfm\n",
    "from implicit.nearest_neighbours import bm25_weight, BM25Recommender"
   ]
  },
  {
   "cell_type": "markdown",
   "id": "9255c336-9a3a-4528-bf4e-7673c79013c7",
   "metadata": {},
   "source": [
    "## Experiment with the given example dataset"
   ]
  },
  {
   "cell_type": "code",
   "execution_count": 2,
   "id": "e8fb1d1b-689c-477b-9033-2295ec708804",
   "metadata": {
    "tags": []
   },
   "outputs": [],
   "source": [
    "artists, users, artist_user_plays = get_lastfm()"
   ]
  },
  {
   "cell_type": "code",
   "execution_count": 3,
   "id": "dd311b99-6e08-41cf-b0e4-38f7780ec2ea",
   "metadata": {
    "tags": []
   },
   "outputs": [
    {
     "data": {
      "text/plain": [
       "scipy.sparse._csr.csr_matrix"
      ]
     },
     "execution_count": 3,
     "metadata": {},
     "output_type": "execute_result"
    }
   ],
   "source": [
    "type(artist_user_plays)"
   ]
  },
  {
   "cell_type": "code",
   "execution_count": 3,
   "id": "e9114dda-4164-44f4-994f-03e106c4bf24",
   "metadata": {
    "tags": []
   },
   "outputs": [],
   "source": [
    "# weight the matrix, both to reduce impact of users that have played the same artist thousands of times\n",
    "# and to reduce the weight given to popular items\n",
    "# https://benfred.github.io/implicit/tutorial_lastfm.html#:~:text=The%20first%20step,classic%20information%20retrieval%3A\n",
    "# https://en.wikipedia.org/wiki/Okapi_BM25\n",
    "artist_user_plays = bm25_weight(artist_user_plays, K1=100, B=0.8)\n",
    "\n",
    "# get the transpose since the most of the functions in implicit expect (user, item) sparse matrices instead of (item, user)\n",
    "user_plays = artist_user_plays.T.tocsr()"
   ]
  },
  {
   "cell_type": "code",
   "execution_count": 4,
   "id": "d5578792-26e7-4491-a185-9fc820c8effb",
   "metadata": {
    "tags": []
   },
   "outputs": [
    {
     "name": "stderr",
     "output_type": "stream",
     "text": [
      "/Users/tgayanvitharanagamage/anaconda3/envs/rec-sys-py3.11/lib/python3.11/site-packages/implicit/utils.py:138: ParameterWarning: Method expects CSR input, and was passed coo_matrix instead. Converting to CSR took 0.09476304054260254 seconds\n",
      "  warnings.warn(\n",
      "100%|███████████████████████████████████████████████████████████████████████████████████████████████████████████████████████████████████████████████████████████████████| 292385/292385 [00:02<00:00, 111778.26it/s]\n"
     ]
    }
   ],
   "source": [
    "model = BM25Recommender(K=20, K1=1.2, B=0.75, num_threads=0)\n",
    "model.fit(user_plays)"
   ]
  },
  {
   "cell_type": "code",
   "execution_count": 5,
   "id": "f7eaacfe-85cc-47b2-b2fc-483318a41018",
   "metadata": {
    "tags": []
   },
   "outputs": [
    {
     "data": {
      "text/html": [
       "<div>\n",
       "<style scoped>\n",
       "    .dataframe tbody tr th:only-of-type {\n",
       "        vertical-align: middle;\n",
       "    }\n",
       "\n",
       "    .dataframe tbody tr th {\n",
       "        vertical-align: top;\n",
       "    }\n",
       "\n",
       "    .dataframe thead th {\n",
       "        text-align: right;\n",
       "    }\n",
       "</style>\n",
       "<table border=\"1\" class=\"dataframe\">\n",
       "  <thead>\n",
       "    <tr style=\"text-align: right;\">\n",
       "      <th></th>\n",
       "      <th>artist</th>\n",
       "      <th>score</th>\n",
       "      <th>already_liked</th>\n",
       "    </tr>\n",
       "  </thead>\n",
       "  <tbody>\n",
       "    <tr>\n",
       "      <th>0</th>\n",
       "      <td>von thronstahl</td>\n",
       "      <td>8.183808e+07</td>\n",
       "      <td>True</td>\n",
       "    </tr>\n",
       "    <tr>\n",
       "      <th>1</th>\n",
       "      <td>triarii</td>\n",
       "      <td>6.715735e+07</td>\n",
       "      <td>True</td>\n",
       "    </tr>\n",
       "    <tr>\n",
       "      <th>2</th>\n",
       "      <td>rome</td>\n",
       "      <td>5.925941e+07</td>\n",
       "      <td>True</td>\n",
       "    </tr>\n",
       "    <tr>\n",
       "      <th>3</th>\n",
       "      <td>death in june</td>\n",
       "      <td>5.503927e+07</td>\n",
       "      <td>True</td>\n",
       "    </tr>\n",
       "    <tr>\n",
       "      <th>4</th>\n",
       "      <td>der blutharsch</td>\n",
       "      <td>5.243071e+07</td>\n",
       "      <td>False</td>\n",
       "    </tr>\n",
       "    <tr>\n",
       "      <th>5</th>\n",
       "      <td>dernière volonté</td>\n",
       "      <td>4.646192e+07</td>\n",
       "      <td>False</td>\n",
       "    </tr>\n",
       "    <tr>\n",
       "      <th>6</th>\n",
       "      <td>ordo rosarius equilibrio</td>\n",
       "      <td>4.608011e+07</td>\n",
       "      <td>False</td>\n",
       "    </tr>\n",
       "    <tr>\n",
       "      <th>7</th>\n",
       "      <td>arditi</td>\n",
       "      <td>3.672969e+07</td>\n",
       "      <td>True</td>\n",
       "    </tr>\n",
       "    <tr>\n",
       "      <th>8</th>\n",
       "      <td>a challenge of honour</td>\n",
       "      <td>3.627942e+07</td>\n",
       "      <td>True</td>\n",
       "    </tr>\n",
       "    <tr>\n",
       "      <th>9</th>\n",
       "      <td>the coffinshakers</td>\n",
       "      <td>3.618816e+07</td>\n",
       "      <td>True</td>\n",
       "    </tr>\n",
       "  </tbody>\n",
       "</table>\n",
       "</div>"
      ],
      "text/plain": [
       "                     artist         score  already_liked\n",
       "0            von thronstahl  8.183808e+07           True\n",
       "1                   triarii  6.715735e+07           True\n",
       "2                      rome  5.925941e+07           True\n",
       "3             death in june  5.503927e+07           True\n",
       "4            der blutharsch  5.243071e+07          False\n",
       "5          dernière volonté  4.646192e+07          False\n",
       "6  ordo rosarius equilibrio  4.608011e+07          False\n",
       "7                    arditi  3.672969e+07           True\n",
       "8     a challenge of honour  3.627942e+07           True\n",
       "9         the coffinshakers  3.618816e+07           True"
      ]
     },
     "execution_count": 5,
     "metadata": {},
     "output_type": "execute_result"
    }
   ],
   "source": [
    "# Get recommendations for the a single user\n",
    "userid = 12345\n",
    "ids, scores = model.recommend(userid, user_plays[userid], N=10, filter_already_liked_items=False)\n",
    "pd.DataFrame({\"artist\": artists[ids], \"score\": scores, \"already_liked\": np.in1d(ids, user_plays[userid].indices)})"
   ]
  },
  {
   "cell_type": "code",
   "execution_count": 6,
   "id": "928d5d27-0897-45cb-912b-1bcd82881433",
   "metadata": {
    "tags": []
   },
   "outputs": [
    {
     "data": {
      "text/html": [
       "<div>\n",
       "<style scoped>\n",
       "    .dataframe tbody tr th:only-of-type {\n",
       "        vertical-align: middle;\n",
       "    }\n",
       "\n",
       "    .dataframe tbody tr th {\n",
       "        vertical-align: top;\n",
       "    }\n",
       "\n",
       "    .dataframe thead th {\n",
       "        text-align: right;\n",
       "    }\n",
       "</style>\n",
       "<table border=\"1\" class=\"dataframe\">\n",
       "  <thead>\n",
       "    <tr style=\"text-align: right;\">\n",
       "      <th></th>\n",
       "      <th>artist</th>\n",
       "      <th>score</th>\n",
       "    </tr>\n",
       "  </thead>\n",
       "  <tbody>\n",
       "    <tr>\n",
       "      <th>0</th>\n",
       "      <td>the beatles</td>\n",
       "      <td>421510.447159</td>\n",
       "    </tr>\n",
       "    <tr>\n",
       "      <th>1</th>\n",
       "      <td>the rolling stones</td>\n",
       "      <td>173941.303199</td>\n",
       "    </tr>\n",
       "    <tr>\n",
       "      <th>2</th>\n",
       "      <td>john lennon</td>\n",
       "      <td>172970.060309</td>\n",
       "    </tr>\n",
       "    <tr>\n",
       "      <th>3</th>\n",
       "      <td>bob dylan</td>\n",
       "      <td>168919.391739</td>\n",
       "    </tr>\n",
       "    <tr>\n",
       "      <th>4</th>\n",
       "      <td>led zeppelin</td>\n",
       "      <td>157626.645538</td>\n",
       "    </tr>\n",
       "    <tr>\n",
       "      <th>5</th>\n",
       "      <td>the who</td>\n",
       "      <td>153671.149869</td>\n",
       "    </tr>\n",
       "    <tr>\n",
       "      <th>6</th>\n",
       "      <td>pink floyd</td>\n",
       "      <td>144742.286798</td>\n",
       "    </tr>\n",
       "    <tr>\n",
       "      <th>7</th>\n",
       "      <td>the beach boys</td>\n",
       "      <td>140239.720056</td>\n",
       "    </tr>\n",
       "    <tr>\n",
       "      <th>8</th>\n",
       "      <td>david bowie</td>\n",
       "      <td>137654.365234</td>\n",
       "    </tr>\n",
       "    <tr>\n",
       "      <th>9</th>\n",
       "      <td>the doors</td>\n",
       "      <td>133340.501471</td>\n",
       "    </tr>\n",
       "  </tbody>\n",
       "</table>\n",
       "</div>"
      ],
      "text/plain": [
       "               artist          score\n",
       "0         the beatles  421510.447159\n",
       "1  the rolling stones  173941.303199\n",
       "2         john lennon  172970.060309\n",
       "3           bob dylan  168919.391739\n",
       "4        led zeppelin  157626.645538\n",
       "5             the who  153671.149869\n",
       "6          pink floyd  144742.286798\n",
       "7      the beach boys  140239.720056\n",
       "8         david bowie  137654.365234\n",
       "9           the doors  133340.501471"
      ]
     },
     "execution_count": 6,
     "metadata": {},
     "output_type": "execute_result"
    }
   ],
   "source": [
    "# get related items for the beatles (itemid = 25512)\n",
    "ids, scores= model.similar_items(252512)\n",
    "\n",
    "# display the results using pandas for nicer formatting\n",
    "pd.DataFrame({\"artist\": artists[ids], \"score\": scores})"
   ]
  },
  {
   "cell_type": "code",
   "execution_count": null,
   "id": "a96a77fc-00dc-48ee-a1c3-5193d9b6b1ed",
   "metadata": {},
   "outputs": [],
   "source": [
    "# Make recommendations for the first 1000 users in the dataset\n",
    "userids = np.arange(1000)\n",
    "ids, scores = model.recommend(userids, user_plays[userids])\n",
    "ids, ids.shape"
   ]
  },
  {
   "cell_type": "markdown",
   "id": "ecb09eb5-d552-40ee-8b2e-21a2877a6556",
   "metadata": {},
   "source": [
    "## Experiment with amazon beauty dataset"
   ]
  },
  {
   "cell_type": "code",
   "execution_count": 7,
   "id": "16850b40-971f-4636-a657-aab7142c16ff",
   "metadata": {
    "tags": []
   },
   "outputs": [],
   "source": [
    "import numpy as np\n",
    "import pandas as pd\n",
    "from implicit.nearest_neighbours import bm25_weight, BM25Recommender\n",
    "from utils import pandas_df_to_csr"
   ]
  },
  {
   "cell_type": "code",
   "execution_count": 10,
   "id": "dd0c6917-dd69-44a5-a3bb-8608b64485d0",
   "metadata": {
    "tags": []
   },
   "outputs": [],
   "source": [
    "amazon_beauty_df = pd.read_csv(\"ratings_Beauty.csv\")"
   ]
  },
  {
   "cell_type": "code",
   "execution_count": 11,
   "id": "f3e23ab3-3a53-464c-89e8-51b70902aa16",
   "metadata": {
    "tags": []
   },
   "outputs": [],
   "source": [
    "user_map, item_map, amazon_beauty_csr = pandas_df_to_csr(amazon_beauty_df)"
   ]
  },
  {
   "cell_type": "code",
   "execution_count": 12,
   "id": "a7f29825-3bbf-4b42-8c3d-2d7ed5f614cf",
   "metadata": {
    "tags": []
   },
   "outputs": [],
   "source": [
    "amazon_beauty_csr_bm25 = bm25_weight(amazon_beauty_csr, K1=100, B=0.8)"
   ]
  },
  {
   "cell_type": "code",
   "execution_count": 13,
   "id": "a501cd40-add1-481d-8f01-827bbbd73c6f",
   "metadata": {
    "tags": []
   },
   "outputs": [],
   "source": [
    "amazon_beauty_csr_bm25 = amazon_beauty_csr_bm25.tocsr()"
   ]
  },
  {
   "cell_type": "code",
   "execution_count": 14,
   "id": "13a9ba7f-ce24-4513-88e3-9ddc684fd3d4",
   "metadata": {
    "tags": []
   },
   "outputs": [
    {
     "name": "stderr",
     "output_type": "stream",
     "text": [
      "/Users/tgayanvitharanagamage/anaconda3/envs/rec-sys-py3.11/lib/python3.11/site-packages/implicit/utils.py:138: ParameterWarning: Method expects CSR input, and was passed coo_matrix instead. Converting to CSR took 0.013097047805786133 seconds\n",
      "  warnings.warn(\n",
      "100%|███████████████████████████████████████████████████████████████████████████████████████████████████████████████████████████████████████████████████████████████████| 249274/249274 [00:01<00:00, 220947.84it/s]\n"
     ]
    }
   ],
   "source": [
    "model = BM25Recommender(K=20, K1=1.2, B=0.75, num_threads=0)\n",
    "model.fit(amazon_beauty_csr_bm25)"
   ]
  },
  {
   "cell_type": "code",
   "execution_count": 15,
   "id": "f28e64a6-3894-445f-9fb3-b4508237a885",
   "metadata": {
    "tags": []
   },
   "outputs": [],
   "source": [
    "# Get recommendations for the a single user\n",
    "userid = 725046\n",
    "ids, scores = model.recommend(userid, amazon_beauty_csr_bm25[userid], N=10, filter_already_liked_items=False)"
   ]
  },
  {
   "cell_type": "code",
   "execution_count": 16,
   "id": "39c8705d-31d4-46b3-994d-aaad7fc34b77",
   "metadata": {
    "tags": []
   },
   "outputs": [
    {
     "data": {
      "text/html": [
       "<div>\n",
       "<style scoped>\n",
       "    .dataframe tbody tr th:only-of-type {\n",
       "        vertical-align: middle;\n",
       "    }\n",
       "\n",
       "    .dataframe tbody tr th {\n",
       "        vertical-align: top;\n",
       "    }\n",
       "\n",
       "    .dataframe thead th {\n",
       "        text-align: right;\n",
       "    }\n",
       "</style>\n",
       "<table border=\"1\" class=\"dataframe\">\n",
       "  <thead>\n",
       "    <tr style=\"text-align: right;\">\n",
       "      <th></th>\n",
       "      <th>ProductId</th>\n",
       "      <th>score</th>\n",
       "      <th>already_purchased</th>\n",
       "    </tr>\n",
       "    <tr>\n",
       "      <th>ItemIndex</th>\n",
       "      <th></th>\n",
       "      <th></th>\n",
       "      <th></th>\n",
       "    </tr>\n",
       "  </thead>\n",
       "  <tbody>\n",
       "    <tr>\n",
       "      <th>81854</th>\n",
       "      <td>B002OVV7F0</td>\n",
       "      <td>542641.439737</td>\n",
       "      <td>True</td>\n",
       "    </tr>\n",
       "    <tr>\n",
       "      <th>154092</th>\n",
       "      <td>B006GQPZ8E</td>\n",
       "      <td>365188.898138</td>\n",
       "      <td>True</td>\n",
       "    </tr>\n",
       "    <tr>\n",
       "      <th>89013</th>\n",
       "      <td>B0031IH5FQ</td>\n",
       "      <td>60292.014260</td>\n",
       "      <td>True</td>\n",
       "    </tr>\n",
       "    <tr>\n",
       "      <th>0</th>\n",
       "      <td>0205616461</td>\n",
       "      <td>41290.409158</td>\n",
       "      <td>True</td>\n",
       "    </tr>\n",
       "    <tr>\n",
       "      <th>154097</th>\n",
       "      <td>B006GQTZ8A</td>\n",
       "      <td>24972.735576</td>\n",
       "      <td>False</td>\n",
       "    </tr>\n",
       "    <tr>\n",
       "      <th>154084</th>\n",
       "      <td>B006GQG9GQ</td>\n",
       "      <td>16782.260942</td>\n",
       "      <td>False</td>\n",
       "    </tr>\n",
       "    <tr>\n",
       "      <th>156214</th>\n",
       "      <td>B006OZF74O</td>\n",
       "      <td>12100.925288</td>\n",
       "      <td>False</td>\n",
       "    </tr>\n",
       "    <tr>\n",
       "      <th>154076</th>\n",
       "      <td>B006GQB6BE</td>\n",
       "      <td>11318.057718</td>\n",
       "      <td>False</td>\n",
       "    </tr>\n",
       "    <tr>\n",
       "      <th>154078</th>\n",
       "      <td>B006GQDM0M</td>\n",
       "      <td>9403.656638</td>\n",
       "      <td>False</td>\n",
       "    </tr>\n",
       "    <tr>\n",
       "      <th>137641</th>\n",
       "      <td>B0058RZT0Q</td>\n",
       "      <td>9250.818569</td>\n",
       "      <td>False</td>\n",
       "    </tr>\n",
       "  </tbody>\n",
       "</table>\n",
       "</div>"
      ],
      "text/plain": [
       "            ProductId          score  already_purchased\n",
       "ItemIndex                                              \n",
       "81854      B002OVV7F0  542641.439737               True\n",
       "154092     B006GQPZ8E  365188.898138               True\n",
       "89013      B0031IH5FQ   60292.014260               True\n",
       "0          0205616461   41290.409158               True\n",
       "154097     B006GQTZ8A   24972.735576              False\n",
       "154084     B006GQG9GQ   16782.260942              False\n",
       "156214     B006OZF74O   12100.925288              False\n",
       "154076     B006GQB6BE   11318.057718              False\n",
       "154078     B006GQDM0M    9403.656638              False\n",
       "137641     B0058RZT0Q    9250.818569              False"
      ]
     },
     "execution_count": 16,
     "metadata": {},
     "output_type": "execute_result"
    }
   ],
   "source": [
    "pd.DataFrame({\"ProductId\": item_map.loc[ids][\"ProductId\"], \"score\": scores, \"already_purchased\": np.in1d(ids, amazon_beauty_csr_bm25[userid].indices)})"
   ]
  },
  {
   "cell_type": "code",
   "execution_count": 13,
   "id": "acbc23ae-54ac-4ce8-8c51-a07e249d2dc4",
   "metadata": {
    "tags": []
   },
   "outputs": [
    {
     "data": {
      "text/plain": [
       "ItemIndex\n",
       "114276    B0049WJA9C\n",
       "65766     B001MA0QY2\n",
       "181492    B008O4YM4Y\n",
       "10253     B0009PVV40\n",
       "103349    B003S516XO\n",
       "174368    B0085WHBHU\n",
       "75617     B002B9DWBC\n",
       "89252     B00325D0WK\n",
       "73976     B0027A7CLG\n",
       "181069    B008MP481M\n",
       "Name: ProductId, dtype: object"
      ]
     },
     "execution_count": 13,
     "metadata": {},
     "output_type": "execute_result"
    }
   ],
   "source": [
    "item_map.loc[ids][\"ProductId\"]"
   ]
  },
  {
   "cell_type": "markdown",
   "id": "93c9c699-9f14-498f-b217-606fb3503b2f",
   "metadata": {},
   "source": [
    "## End of Experiments"
   ]
  },
  {
   "cell_type": "code",
   "execution_count": 17,
   "id": "e459fced-f323-4b40-bd72-6a2bdeed3b6c",
   "metadata": {
    "tags": []
   },
   "outputs": [],
   "source": [
    "import numpy as np\n",
    "import pandas as pd\n",
    "import gc\n",
    "from implicit.datasets.lastfm import get_lastfm\n",
    "from implicit.nearest_neighbours import bm25_weight, BM25Recommender\n",
    "from implicit import evaluation\n",
    "from utils import pandas_df_to_csr"
   ]
  },
  {
   "cell_type": "markdown",
   "id": "204bdedb-0996-4403-97ae-9fd9b1bcffd2",
   "metadata": {},
   "source": [
    "## Pre-processing"
   ]
  },
  {
   "cell_type": "code",
   "execution_count": 18,
   "id": "36c4b2c5-bc5a-41a0-b448-8a109be31178",
   "metadata": {
    "tags": []
   },
   "outputs": [],
   "source": [
    "amazon_beauty_df = pd.read_csv(\"ratings_Beauty.csv\")"
   ]
  },
  {
   "cell_type": "code",
   "execution_count": 19,
   "id": "313ff97a-239f-4b78-ad39-9afd768387bb",
   "metadata": {
    "tags": []
   },
   "outputs": [],
   "source": [
    "# Convert pandas df to CSR format\n",
    "# user_map and item_map contains index in csr format to original id mappings for users and items repectively\n",
    "user_map, item_map, amazon_beauty_csr = pandas_df_to_csr(amazon_beauty_df)"
   ]
  },
  {
   "cell_type": "code",
   "execution_count": 20,
   "id": "c8e23e1a-b699-4c5f-8986-ab04fb2ccd9d",
   "metadata": {
    "tags": []
   },
   "outputs": [],
   "source": [
    "# weight the matrix, both to reduce impact of users that have puchased the same item thousands of times\n",
    "# and to reduce the weight given to popular items\n",
    "# Output is a COO matrix\n",
    "amazon_beauty_coo_bm25 = bm25_weight(amazon_beauty_csr, K1=100, B=0.8)"
   ]
  },
  {
   "cell_type": "markdown",
   "id": "a19cc430-aa68-47c0-93f5-d7cec011cc7c",
   "metadata": {},
   "source": [
    "### Train-test split"
   ]
  },
  {
   "cell_type": "code",
   "execution_count": 21,
   "id": "ae42009b-70ee-481a-912d-bf97b6800ec7",
   "metadata": {
    "tags": []
   },
   "outputs": [
    {
     "name": "stdout",
     "output_type": "stream",
     "text": [
      "Train size: 1618938 \n",
      " Test size: 404132\n"
     ]
    }
   ],
   "source": [
    "train_coo, test_coo = evaluation.train_test_split(amazon_beauty_coo_bm25, train_percentage=0.8, random_state=55)\n",
    "print(f\"Train size: {train_coo.size} \\n Test size: {test_coo.size}\")"
   ]
  },
  {
   "cell_type": "code",
   "execution_count": 22,
   "id": "50114c98-b228-4c0f-b759-3c8ca2809d33",
   "metadata": {
    "tags": []
   },
   "outputs": [],
   "source": [
    "#Convert coo to csr\n",
    "train_csr = train_coo.tocsr()\n",
    "test_csr = test_coo.tocsr()"
   ]
  },
  {
   "cell_type": "markdown",
   "id": "8d41b06c-f047-4a53-9051-cdfb9ad62da2",
   "metadata": {
    "tags": []
   },
   "source": [
    "## Training"
   ]
  },
  {
   "cell_type": "code",
   "execution_count": 23,
   "id": "1ddf4db1-a172-4706-b72b-b1b93878d155",
   "metadata": {
    "tags": []
   },
   "outputs": [
    {
     "name": "stderr",
     "output_type": "stream",
     "text": [
      "/Users/tgayanvitharanagamage/anaconda3/envs/rec-sys-py3.11/lib/python3.11/site-packages/implicit/utils.py:138: ParameterWarning: Method expects CSR input, and was passed coo_matrix instead. Converting to CSR took 0.010312080383300781 seconds\n",
      "  warnings.warn(\n",
      "100%|███████████████████████████████████████████████████████████████████████████████████████████████████████████████████████████████████████████████████████████████████| 249274/249274 [00:01<00:00, 245746.33it/s]\n"
     ]
    }
   ],
   "source": [
    "model = BM25Recommender(K=20, K1=1.2, B=0.75, num_threads=0)\n",
    "model.fit(train_csr)"
   ]
  },
  {
   "cell_type": "markdown",
   "id": "c79cc638-2178-4108-a4bb-e4fa6c0f5c4a",
   "metadata": {},
   "source": [
    "## Evaluation"
   ]
  },
  {
   "cell_type": "code",
   "execution_count": 24,
   "id": "f00b08fb-16f1-4089-ae8a-86ac0f5ffe5b",
   "metadata": {
    "tags": []
   },
   "outputs": [
    {
     "name": "stderr",
     "output_type": "stream",
     "text": [
      "100%|████████████████████████████████████████████████████████████████████████████████████████████████████████████████████████████████████████████████████████████████████| 330846/330846 [00:09<00:00, 33719.68it/s]\n"
     ]
    },
    {
     "data": {
      "text/plain": [
       "{'precision': 0.031727250761608455,\n",
       " 'map': 0.016171278581340893,\n",
       " 'ndcg': 0.019896584816351613,\n",
       " 'auc': 0.5135849715915827}"
      ]
     },
     "execution_count": 24,
     "metadata": {},
     "output_type": "execute_result"
    }
   ],
   "source": [
    "ranking_metrics_at_10 = evaluation.ranking_metrics_at_k(model, train_csr, test_csr, K=10, show_progress=True, num_threads=0)\n",
    "ranking_metrics_at_10"
   ]
  },
  {
   "cell_type": "markdown",
   "id": "cb64a1a5-2947-47e3-9680-3061adc6b3ed",
   "metadata": {},
   "source": [
    "### Save model"
   ]
  },
  {
   "cell_type": "code",
   "execution_count": 29,
   "id": "edfacbc7-1964-470d-ae9a-9045d8687af2",
   "metadata": {},
   "outputs": [],
   "source": [
    "model.save(\"6_BM25\")"
   ]
  },
  {
   "cell_type": "code",
   "execution_count": 27,
   "id": "4c49c623-7aa9-45ab-bd57-4ec0b157f2fb",
   "metadata": {},
   "outputs": [],
   "source": [
    "#Load model\n",
    "loaded_model = BM25Recommender.load(\"6_BM25\")"
   ]
  },
  {
   "cell_type": "markdown",
   "id": "284081af-cdb5-4adb-9f4b-11af5e550b55",
   "metadata": {},
   "source": [
    "## Hyper-parameter Tuning"
   ]
  },
  {
   "cell_type": "code",
   "execution_count": 30,
   "id": "6f47a6d8-f495-4e65-b6d7-b8226d5d0bb3",
   "metadata": {
    "tags": []
   },
   "outputs": [],
   "source": [
    "# Hyper-parameters lists\n",
    "K = [10, 20, 30]\n",
    "K1 = [0.5, 1.0, 1.5]\n",
    "B = [0.5, 0.75, 1.0]"
   ]
  },
  {
   "cell_type": "code",
   "execution_count": 31,
   "id": "1dc7579a-1958-4c65-ad81-9d7b3795c8dc",
   "metadata": {
    "scrolled": true,
    "tags": []
   },
   "outputs": [
    {
     "name": "stderr",
     "output_type": "stream",
     "text": [
      "/Users/tgayanvitharanagamage/anaconda3/envs/rec-sys-py3.11/lib/python3.11/site-packages/implicit/utils.py:138: ParameterWarning: Method expects CSR input, and was passed coo_matrix instead. Converting to CSR took 0.011523008346557617 seconds\n",
      "  warnings.warn(\n"
     ]
    },
    {
     "name": "stdout",
     "output_type": "stream",
     "text": [
      "Training model with below parameter values --------\n",
      "K: 10, K1: 0.5, B: 0.5\n"
     ]
    },
    {
     "name": "stderr",
     "output_type": "stream",
     "text": [
      "100%|███████████████████████████████████████████████████████████████████████████████████████████████████████████████████████████████████████████████| 249274/249274 [00:00<00:00, 252744.62it/s]\n",
      "100%|████████████████████████████████████████████████████████████████████████████████████████████████████████████████████████████████████████████████| 330846/330846 [00:09<00:00, 33724.12it/s]\n",
      "/Users/tgayanvitharanagamage/anaconda3/envs/rec-sys-py3.11/lib/python3.11/site-packages/implicit/utils.py:138: ParameterWarning: Method expects CSR input, and was passed coo_matrix instead. Converting to CSR took 0.009142875671386719 seconds\n",
      "  warnings.warn(\n"
     ]
    },
    {
     "name": "stdout",
     "output_type": "stream",
     "text": [
      "Evaluation results: \n",
      " {'precision': 0.03656218785262534, 'map': 0.0182191915497098, 'ndcg': 0.022569413271458085, 'auc': 0.5156008956475355}\n",
      "Training model with below parameter values --------\n",
      "K: 10, K1: 0.5, B: 0.75\n"
     ]
    },
    {
     "name": "stderr",
     "output_type": "stream",
     "text": [
      "100%|███████████████████████████████████████████████████████████████████████████████████████████████████████████████████████████████████████████████| 249274/249274 [00:01<00:00, 228521.56it/s]\n",
      "100%|████████████████████████████████████████████████████████████████████████████████████████████████████████████████████████████████████████████████| 330846/330846 [00:09<00:00, 33399.73it/s]\n",
      "/Users/tgayanvitharanagamage/anaconda3/envs/rec-sys-py3.11/lib/python3.11/site-packages/implicit/utils.py:138: ParameterWarning: Method expects CSR input, and was passed coo_matrix instead. Converting to CSR took 0.008931159973144531 seconds\n",
      "  warnings.warn(\n"
     ]
    },
    {
     "name": "stdout",
     "output_type": "stream",
     "text": [
      "Evaluation results: \n",
      " {'precision': 0.03530425728541074, 'map': 0.01777840279882772, 'ndcg': 0.021948538639823184, 'auc': 0.5150606923449522}\n",
      "Training model with below parameter values --------\n",
      "K: 10, K1: 0.5, B: 1.0\n"
     ]
    },
    {
     "name": "stderr",
     "output_type": "stream",
     "text": [
      "100%|███████████████████████████████████████████████████████████████████████████████████████████████████████████████████████████████████████████████| 249274/249274 [00:00<00:00, 257132.21it/s]\n",
      "100%|████████████████████████████████████████████████████████████████████████████████████████████████████████████████████████████████████████████████| 330846/330846 [00:10<00:00, 32418.63it/s]\n",
      "/Users/tgayanvitharanagamage/anaconda3/envs/rec-sys-py3.11/lib/python3.11/site-packages/implicit/utils.py:138: ParameterWarning: Method expects CSR input, and was passed coo_matrix instead. Converting to CSR took 0.009258031845092773 seconds\n",
      "  warnings.warn(\n"
     ]
    },
    {
     "name": "stdout",
     "output_type": "stream",
     "text": [
      "Evaluation results: \n",
      " {'precision': 0.03420574762176394, 'map': 0.017330214754200313, 'ndcg': 0.021350505106435567, 'auc': 0.514599930729886}\n",
      "Training model with below parameter values --------\n",
      "K: 10, K1: 1.0, B: 0.5\n"
     ]
    },
    {
     "name": "stderr",
     "output_type": "stream",
     "text": [
      "100%|███████████████████████████████████████████████████████████████████████████████████████████████████████████████████████████████████████████████| 249274/249274 [00:01<00:00, 203665.07it/s]\n",
      "100%|████████████████████████████████████████████████████████████████████████████████████████████████████████████████████████████████████████████████| 330846/330846 [00:10<00:00, 32270.95it/s]\n",
      "/Users/tgayanvitharanagamage/anaconda3/envs/rec-sys-py3.11/lib/python3.11/site-packages/implicit/utils.py:138: ParameterWarning: Method expects CSR input, and was passed coo_matrix instead. Converting to CSR took 0.009547948837280273 seconds\n",
      "  warnings.warn(\n"
     ]
    },
    {
     "name": "stdout",
     "output_type": "stream",
     "text": [
      "Evaluation results: \n",
      " {'precision': 0.034410005654460174, 'map': 0.01740820585169881, 'ndcg': 0.021448109100963002, 'auc': 0.5146713984264115}\n",
      "Training model with below parameter values --------\n",
      "K: 10, K1: 1.0, B: 0.75\n"
     ]
    },
    {
     "name": "stderr",
     "output_type": "stream",
     "text": [
      "100%|███████████████████████████████████████████████████████████████████████████████████████████████████████████████████████████████████████████████| 249274/249274 [00:00<00:00, 267819.71it/s]\n",
      "100%|████████████████████████████████████████████████████████████████████████████████████████████████████████████████████████████████████████████████| 330846/330846 [00:10<00:00, 32793.16it/s]\n",
      "/Users/tgayanvitharanagamage/anaconda3/envs/rec-sys-py3.11/lib/python3.11/site-packages/implicit/utils.py:138: ParameterWarning: Method expects CSR input, and was passed coo_matrix instead. Converting to CSR took 0.009142160415649414 seconds\n",
      "  warnings.warn(\n"
     ]
    },
    {
     "name": "stdout",
     "output_type": "stream",
     "text": [
      "Evaluation results: \n",
      " {'precision': 0.03236742532749787, 'map': 0.01649706042382064, 'ndcg': 0.020290864444547033, 'auc': 0.5138242030827285}\n",
      "Training model with below parameter values --------\n",
      "K: 10, K1: 1.0, B: 1.0\n"
     ]
    },
    {
     "name": "stderr",
     "output_type": "stream",
     "text": [
      "100%|███████████████████████████████████████████████████████████████████████████████████████████████████████████████████████████████████████████████| 249274/249274 [00:00<00:00, 258959.07it/s]\n",
      "100%|████████████████████████████████████████████████████████████████████████████████████████████████████████████████████████████████████████████████| 330846/330846 [00:10<00:00, 32705.54it/s]\n",
      "/Users/tgayanvitharanagamage/anaconda3/envs/rec-sys-py3.11/lib/python3.11/site-packages/implicit/utils.py:138: ParameterWarning: Method expects CSR input, and was passed coo_matrix instead. Converting to CSR took 0.009324073791503906 seconds\n",
      "  warnings.warn(\n"
     ]
    },
    {
     "name": "stdout",
     "output_type": "stream",
     "text": [
      "Evaluation results: \n",
      " {'precision': 0.0305191392267588, 'map': 0.015710714262525426, 'ndcg': 0.019261757806763057, 'auc': 0.5130506005368874}\n",
      "Training model with below parameter values --------\n",
      "K: 10, K1: 1.5, B: 0.5\n"
     ]
    },
    {
     "name": "stderr",
     "output_type": "stream",
     "text": [
      "100%|███████████████████████████████████████████████████████████████████████████████████████████████████████████████████████████████████████████████| 249274/249274 [00:00<00:00, 251982.59it/s]\n",
      "100%|████████████████████████████████████████████████████████████████████████████████████████████████████████████████████████████████████████████████| 330846/330846 [00:09<00:00, 33177.37it/s]\n",
      "/Users/tgayanvitharanagamage/anaconda3/envs/rec-sys-py3.11/lib/python3.11/site-packages/implicit/utils.py:138: ParameterWarning: Method expects CSR input, and was passed coo_matrix instead. Converting to CSR took 0.009053945541381836 seconds\n",
      "  warnings.warn(\n"
     ]
    },
    {
     "name": "stdout",
     "output_type": "stream",
     "text": [
      "Evaluation results: \n",
      " {'precision': 0.03250691861811968, 'map': 0.01653440109077313, 'ndcg': 0.020344488112388728, 'auc': 0.5138593224089258}\n",
      "Training model with below parameter values --------\n",
      "K: 10, K1: 1.5, B: 0.75\n"
     ]
    },
    {
     "name": "stderr",
     "output_type": "stream",
     "text": [
      "100%|███████████████████████████████████████████████████████████████████████████████████████████████████████████████████████████████████████████████| 249274/249274 [00:00<00:00, 317522.64it/s]\n",
      "100%|████████████████████████████████████████████████████████████████████████████████████████████████████████████████████████████████████████████████| 330846/330846 [00:09<00:00, 33141.63it/s]\n",
      "/Users/tgayanvitharanagamage/anaconda3/envs/rec-sys-py3.11/lib/python3.11/site-packages/implicit/utils.py:138: ParameterWarning: Method expects CSR input, and was passed coo_matrix instead. Converting to CSR took 0.009054183959960938 seconds\n",
      "  warnings.warn(\n"
     ]
    },
    {
     "name": "stdout",
     "output_type": "stream",
     "text": [
      "Evaluation results: \n",
      " {'precision': 0.03008322269356562, 'map': 0.015401652652691557, 'ndcg': 0.018904207036929608, 'auc': 0.5128324840692595}\n",
      "Training model with below parameter values --------\n",
      "K: 10, K1: 1.5, B: 1.0\n"
     ]
    },
    {
     "name": "stderr",
     "output_type": "stream",
     "text": [
      "100%|███████████████████████████████████████████████████████████████████████████████████████████████████████████████████████████████████████████████| 249274/249274 [00:00<00:00, 267714.17it/s]\n",
      "100%|████████████████████████████████████████████████████████████████████████████████████████████████████████████████████████████████████████████████| 330846/330846 [00:10<00:00, 32804.73it/s]\n",
      "/Users/tgayanvitharanagamage/anaconda3/envs/rec-sys-py3.11/lib/python3.11/site-packages/implicit/utils.py:138: ParameterWarning: Method expects CSR input, and was passed coo_matrix instead. Converting to CSR took 0.009448051452636719 seconds\n",
      "  warnings.warn(\n"
     ]
    },
    {
     "name": "stdout",
     "output_type": "stream",
     "text": [
      "Evaluation results: \n",
      " {'precision': 0.027843857188761822, 'map': 0.014449669237785935, 'ndcg': 0.01768477363863121, 'auc': 0.5119576331486485}\n",
      "Training model with below parameter values --------\n",
      "K: 20, K1: 0.5, B: 0.5\n"
     ]
    },
    {
     "name": "stderr",
     "output_type": "stream",
     "text": [
      "100%|███████████████████████████████████████████████████████████████████████████████████████████████████████████████████████████████████████████████| 249274/249274 [00:01<00:00, 212902.19it/s]\n",
      "100%|████████████████████████████████████████████████████████████████████████████████████████████████████████████████████████████████████████████████| 330846/330846 [00:10<00:00, 32801.10it/s]\n",
      "/Users/tgayanvitharanagamage/anaconda3/envs/rec-sys-py3.11/lib/python3.11/site-packages/implicit/utils.py:138: ParameterWarning: Method expects CSR input, and was passed coo_matrix instead. Converting to CSR took 0.008769035339355469 seconds\n",
      "  warnings.warn(\n"
     ]
    },
    {
     "name": "stdout",
     "output_type": "stream",
     "text": [
      "Evaluation results: \n",
      " {'precision': 0.03668175353030118, 'map': 0.01829726405208151, 'ndcg': 0.02268793233143953, 'auc': 0.5157435012168228}\n",
      "Training model with below parameter values --------\n",
      "K: 20, K1: 0.5, B: 0.75\n"
     ]
    },
    {
     "name": "stderr",
     "output_type": "stream",
     "text": [
      "100%|███████████████████████████████████████████████████████████████████████████████████████████████████████████████████████████████████████████████| 249274/249274 [00:01<00:00, 246465.76it/s]\n",
      "100%|████████████████████████████████████████████████████████████████████████████████████████████████████████████████████████████████████████████████| 330846/330846 [00:10<00:00, 32639.40it/s]\n",
      "/Users/tgayanvitharanagamage/anaconda3/envs/rec-sys-py3.11/lib/python3.11/site-packages/implicit/utils.py:138: ParameterWarning: Method expects CSR input, and was passed coo_matrix instead. Converting to CSR took 0.009311199188232422 seconds\n",
      "  warnings.warn(\n"
     ]
    },
    {
     "name": "stdout",
     "output_type": "stream",
     "text": [
      "Evaluation results: \n",
      " {'precision': 0.03554338864076243, 'map': 0.017848520477928044, 'ndcg': 0.022073967159663067, 'auc': 0.5152192445927167}\n",
      "Training model with below parameter values --------\n",
      "K: 20, K1: 0.5, B: 1.0\n"
     ]
    },
    {
     "name": "stderr",
     "output_type": "stream",
     "text": [
      "100%|███████████████████████████████████████████████████████████████████████████████████████████████████████████████████████████████████████████████| 249274/249274 [00:01<00:00, 186465.24it/s]\n",
      "100%|████████████████████████████████████████████████████████████████████████████████████████████████████████████████████████████████████████████████| 330846/330846 [00:10<00:00, 32387.01it/s]\n",
      "/Users/tgayanvitharanagamage/anaconda3/envs/rec-sys-py3.11/lib/python3.11/site-packages/implicit/utils.py:138: ParameterWarning: Method expects CSR input, and was passed coo_matrix instead. Converting to CSR took 0.00892496109008789 seconds\n",
      "  warnings.warn(\n"
     ]
    },
    {
     "name": "stdout",
     "output_type": "stream",
     "text": [
      "Evaluation results: \n",
      " {'precision': 0.03451213467080829, 'map': 0.01743381061626606, 'ndcg': 0.021513058483810018, 'auc': 0.5147801622924929}\n",
      "Training model with below parameter values --------\n",
      "K: 20, K1: 1.0, B: 0.5\n"
     ]
    },
    {
     "name": "stderr",
     "output_type": "stream",
     "text": [
      "100%|███████████████████████████████████████████████████████████████████████████████████████████████████████████████████████████████████████████████| 249274/249274 [00:00<00:00, 256375.59it/s]\n",
      "100%|████████████████████████████████████████████████████████████████████████████████████████████████████████████████████████████████████████████████| 330846/330846 [00:10<00:00, 32967.90it/s]\n",
      "/Users/tgayanvitharanagamage/anaconda3/envs/rec-sys-py3.11/lib/python3.11/site-packages/implicit/utils.py:138: ParameterWarning: Method expects CSR input, and was passed coo_matrix instead. Converting to CSR took 0.008797883987426758 seconds\n",
      "  warnings.warn(\n"
     ]
    },
    {
     "name": "stdout",
     "output_type": "stream",
     "text": [
      "Evaluation results: \n",
      " {'precision': 0.034743793171305236, 'map': 0.017507064661896426, 'ndcg': 0.021614633478794026, 'auc': 0.5148629754864025}\n",
      "Training model with below parameter values --------\n",
      "K: 20, K1: 1.0, B: 0.75\n"
     ]
    },
    {
     "name": "stderr",
     "output_type": "stream",
     "text": [
      "100%|███████████████████████████████████████████████████████████████████████████████████████████████████████████████████████████████████████████████| 249274/249274 [00:01<00:00, 237877.79it/s]\n",
      "100%|████████████████████████████████████████████████████████████████████████████████████████████████████████████████████████████████████████████████| 330846/330846 [00:09<00:00, 33286.75it/s]\n",
      "/Users/tgayanvitharanagamage/anaconda3/envs/rec-sys-py3.11/lib/python3.11/site-packages/implicit/utils.py:138: ParameterWarning: Method expects CSR input, and was passed coo_matrix instead. Converting to CSR took 0.009083986282348633 seconds\n",
      "  warnings.warn(\n"
     ]
    },
    {
     "name": "stdout",
     "output_type": "stream",
     "text": [
      "Evaluation results: \n",
      " {'precision': 0.03269872189272468, 'map': 0.016594433532254295, 'ndcg': 0.020448530097889654, 'auc': 0.5140040775796236}\n",
      "Training model with below parameter values --------\n",
      "K: 20, K1: 1.0, B: 1.0\n"
     ]
    },
    {
     "name": "stderr",
     "output_type": "stream",
     "text": [
      "100%|███████████████████████████████████████████████████████████████████████████████████████████████████████████████████████████████████████████████| 249274/249274 [00:00<00:00, 265659.32it/s]\n",
      "100%|████████████████████████████████████████████████████████████████████████████████████████████████████████████████████████████████████████████████| 330846/330846 [00:09<00:00, 33144.15it/s]\n",
      "/Users/tgayanvitharanagamage/anaconda3/envs/rec-sys-py3.11/lib/python3.11/site-packages/implicit/utils.py:138: ParameterWarning: Method expects CSR input, and was passed coo_matrix instead. Converting to CSR took 0.008717060089111328 seconds\n",
      "  warnings.warn(\n"
     ]
    },
    {
     "name": "stdout",
     "output_type": "stream",
     "text": [
      "Evaluation results: \n",
      " {'precision': 0.030999892889080415, 'map': 0.015841640037822423, 'ndcg': 0.019481592123327604, 'auc': 0.5132890491547126}\n",
      "Training model with below parameter values --------\n",
      "K: 20, K1: 1.5, B: 0.5\n"
     ]
    },
    {
     "name": "stderr",
     "output_type": "stream",
     "text": [
      "100%|███████████████████████████████████████████████████████████████████████████████████████████████████████████████████████████████████████████████| 249274/249274 [00:00<00:00, 252980.19it/s]\n",
      "100%|████████████████████████████████████████████████████████████████████████████████████████████████████████████████████████████████████████████████| 330846/330846 [00:10<00:00, 32810.35it/s]\n",
      "/Users/tgayanvitharanagamage/anaconda3/envs/rec-sys-py3.11/lib/python3.11/site-packages/implicit/utils.py:138: ParameterWarning: Method expects CSR input, and was passed coo_matrix instead. Converting to CSR took 0.008831262588500977 seconds\n",
      "  warnings.warn(\n"
     ]
    },
    {
     "name": "stdout",
     "output_type": "stream",
     "text": [
      "Evaluation results: \n",
      " {'precision': 0.0329079618286574, 'map': 0.016670733916522934, 'ndcg': 0.020545153776485477, 'auc': 0.5140657957565803}\n",
      "Training model with below parameter values --------\n",
      "K: 20, K1: 1.5, B: 0.75\n"
     ]
    },
    {
     "name": "stderr",
     "output_type": "stream",
     "text": [
      "100%|███████████████████████████████████████████████████████████████████████████████████████████████████████████████████████████████████████████████| 249274/249274 [00:01<00:00, 215295.46it/s]\n",
      "100%|████████████████████████████████████████████████████████████████████████████████████████████████████████████████████████████████████████████████| 330846/330846 [00:10<00:00, 32841.90it/s]\n",
      "/Users/tgayanvitharanagamage/anaconda3/envs/rec-sys-py3.11/lib/python3.11/site-packages/implicit/utils.py:138: ParameterWarning: Method expects CSR input, and was passed coo_matrix instead. Converting to CSR took 0.00869297981262207 seconds\n",
      "  warnings.warn(\n"
     ]
    },
    {
     "name": "stdout",
     "output_type": "stream",
     "text": [
      "Evaluation results: \n",
      " {'precision': 0.03057144921074198, 'map': 0.015543002576362408, 'ndcg': 0.01913145320377188, 'auc': 0.5130697895528742}\n",
      "Training model with below parameter values --------\n",
      "K: 20, K1: 1.5, B: 1.0\n"
     ]
    },
    {
     "name": "stderr",
     "output_type": "stream",
     "text": [
      "100%|███████████████████████████████████████████████████████████████████████████████████████████████████████████████████████████████████████████████| 249274/249274 [00:01<00:00, 216306.15it/s]\n",
      "100%|████████████████████████████████████████████████████████████████████████████████████████████████████████████████████████████████████████████████| 330846/330846 [00:09<00:00, 33256.29it/s]\n",
      "/Users/tgayanvitharanagamage/anaconda3/envs/rec-sys-py3.11/lib/python3.11/site-packages/implicit/utils.py:138: ParameterWarning: Method expects CSR input, and was passed coo_matrix instead. Converting to CSR took 0.008932113647460938 seconds\n",
      "  warnings.warn(\n"
     ]
    },
    {
     "name": "stdout",
     "output_type": "stream",
     "text": [
      "Evaluation results: \n",
      " {'precision': 0.028426739867431553, 'map': 0.014596469347468173, 'ndcg': 0.017933828598064666, 'auc': 0.5122343688574928}\n",
      "Training model with below parameter values --------\n",
      "K: 30, K1: 0.5, B: 0.5\n"
     ]
    },
    {
     "name": "stderr",
     "output_type": "stream",
     "text": [
      "100%|███████████████████████████████████████████████████████████████████████████████████████████████████████████████████████████████████████████████| 249274/249274 [00:00<00:00, 255892.68it/s]\n",
      "100%|████████████████████████████████████████████████████████████████████████████████████████████████████████████████████████████████████████████████| 330846/330846 [00:10<00:00, 32881.17it/s]\n",
      "/Users/tgayanvitharanagamage/anaconda3/envs/rec-sys-py3.11/lib/python3.11/site-packages/implicit/utils.py:138: ParameterWarning: Method expects CSR input, and was passed coo_matrix instead. Converting to CSR took 0.00896596908569336 seconds\n",
      "  warnings.warn(\n"
     ]
    },
    {
     "name": "stdout",
     "output_type": "stream",
     "text": [
      "Evaluation results: \n",
      " {'precision': 0.03678139159503105, 'map': 0.018340355768284147, 'ndcg': 0.02274990238164093, 'auc': 0.5158049079009784}\n",
      "Training model with below parameter values --------\n",
      "K: 30, K1: 0.5, B: 0.75\n"
     ]
    },
    {
     "name": "stderr",
     "output_type": "stream",
     "text": [
      "100%|███████████████████████████████████████████████████████████████████████████████████████████████████████████████████████████████████████████████| 249274/249274 [00:01<00:00, 219029.13it/s]\n",
      "100%|████████████████████████████████████████████████████████████████████████████████████████████████████████████████████████████████████████████████| 330846/330846 [00:10<00:00, 32821.47it/s]\n",
      "/Users/tgayanvitharanagamage/anaconda3/envs/rec-sys-py3.11/lib/python3.11/site-packages/implicit/utils.py:138: ParameterWarning: Method expects CSR input, and was passed coo_matrix instead. Converting to CSR took 0.009150028228759766 seconds\n",
      "  warnings.warn(\n"
     ]
    },
    {
     "name": "stdout",
     "output_type": "stream",
     "text": [
      "Evaluation results: \n",
      " {'precision': 0.035707791447566715, 'map': 0.017900685962206363, 'ndcg': 0.02215051864841858, 'auc': 0.515299531567999}\n",
      "Training model with below parameter values --------\n",
      "K: 30, K1: 0.5, B: 1.0\n"
     ]
    },
    {
     "name": "stderr",
     "output_type": "stream",
     "text": [
      "100%|███████████████████████████████████████████████████████████████████████████████████████████████████████████████████████████████████████████████| 249274/249274 [00:01<00:00, 248312.02it/s]\n",
      "100%|████████████████████████████████████████████████████████████████████████████████████████████████████████████████████████████████████████████████| 330846/330846 [00:09<00:00, 33231.34it/s]\n",
      "/Users/tgayanvitharanagamage/anaconda3/envs/rec-sys-py3.11/lib/python3.11/site-packages/implicit/utils.py:138: ParameterWarning: Method expects CSR input, and was passed coo_matrix instead. Converting to CSR took 0.009430885314941406 seconds\n",
      "  warnings.warn(\n"
     ]
    },
    {
     "name": "stdout",
     "output_type": "stream",
     "text": [
      "Evaluation results: \n",
      " {'precision': 0.03461426368715641, 'map': 0.017498557845502572, 'ndcg': 0.02159473863993439, 'auc': 0.514849703492317}\n",
      "Training model with below parameter values --------\n",
      "K: 30, K1: 1.0, B: 0.5\n"
     ]
    },
    {
     "name": "stderr",
     "output_type": "stream",
     "text": [
      "100%|███████████████████████████████████████████████████████████████████████████████████████████████████████████████████████████████████████████████| 249274/249274 [00:00<00:00, 287070.29it/s]\n",
      "100%|████████████████████████████████████████████████████████████████████████████████████████████████████████████████████████████████████████████████| 330846/330846 [00:09<00:00, 33181.14it/s]\n",
      "/Users/tgayanvitharanagamage/anaconda3/envs/rec-sys-py3.11/lib/python3.11/site-packages/implicit/utils.py:138: ParameterWarning: Method expects CSR input, and was passed coo_matrix instead. Converting to CSR took 0.008814811706542969 seconds\n",
      "  warnings.warn(\n"
     ]
    },
    {
     "name": "stdout",
     "output_type": "stream",
     "text": [
      "Evaluation results: \n",
      " {'precision': 0.03488328646192705, 'map': 0.017577589659507932, 'ndcg': 0.02170545229266422, 'auc': 0.5149409844202811}\n",
      "Training model with below parameter values --------\n",
      "K: 30, K1: 1.0, B: 0.75\n"
     ]
    },
    {
     "name": "stderr",
     "output_type": "stream",
     "text": [
      "100%|███████████████████████████████████████████████████████████████████████████████████████████████████████████████████████████████████████████████| 249274/249274 [00:01<00:00, 216658.29it/s]\n",
      "100%|████████████████████████████████████████████████████████████████████████████████████████████████████████████████████████████████████████████████| 330846/330846 [00:10<00:00, 33067.32it/s]\n",
      "/Users/tgayanvitharanagamage/anaconda3/envs/rec-sys-py3.11/lib/python3.11/site-packages/implicit/utils.py:138: ParameterWarning: Method expects CSR input, and was passed coo_matrix instead. Converting to CSR took 0.008933782577514648 seconds\n",
      "  warnings.warn(\n"
     ]
    },
    {
     "name": "stdout",
     "output_type": "stream",
     "text": [
      "Evaluation results: \n",
      " {'precision': 0.03286810660276546, 'map': 0.01667181127312368, 'ndcg': 0.020547238443473764, 'auc': 0.5140826577773961}\n",
      "Training model with below parameter values --------\n",
      "K: 30, K1: 1.0, B: 1.0\n"
     ]
    },
    {
     "name": "stderr",
     "output_type": "stream",
     "text": [
      "100%|███████████████████████████████████████████████████████████████████████████████████████████████████████████████████████████████████████████████| 249274/249274 [00:00<00:00, 254987.46it/s]\n",
      "100%|████████████████████████████████████████████████████████████████████████████████████████████████████████████████████████████████████████████████| 330846/330846 [00:10<00:00, 33031.83it/s]\n",
      "/Users/tgayanvitharanagamage/anaconda3/envs/rec-sys-py3.11/lib/python3.11/site-packages/implicit/utils.py:138: ParameterWarning: Method expects CSR input, and was passed coo_matrix instead. Converting to CSR took 0.008949995040893555 seconds\n",
      "  warnings.warn(\n"
     ]
    },
    {
     "name": "stdout",
     "output_type": "stream",
     "text": [
      "Evaluation results: \n",
      " {'precision': 0.03120664187339489, 'map': 0.015905395074009784, 'ndcg': 0.019572656167810454, 'auc': 0.5133707596371134}\n",
      "Training model with below parameter values --------\n",
      "K: 30, K1: 1.5, B: 0.5\n"
     ]
    },
    {
     "name": "stderr",
     "output_type": "stream",
     "text": [
      "100%|███████████████████████████████████████████████████████████████████████████████████████████████████████████████████████████████████████████████| 249274/249274 [00:00<00:00, 253944.57it/s]\n",
      "100%|████████████████████████████████████████████████████████████████████████████████████████████████████████████████████████████████████████████████| 330846/330846 [00:09<00:00, 33287.31it/s]\n",
      "/Users/tgayanvitharanagamage/anaconda3/envs/rec-sys-py3.11/lib/python3.11/site-packages/implicit/utils.py:138: ParameterWarning: Method expects CSR input, and was passed coo_matrix instead. Converting to CSR took 0.008849143981933594 seconds\n",
      "  warnings.warn(\n"
     ]
    },
    {
     "name": "stdout",
     "output_type": "stream",
     "text": [
      "Evaluation results: \n",
      " {'precision': 0.033117201764590126, 'map': 0.01673763545629646, 'ndcg': 0.020638310949033224, 'auc': 0.5141505048576986}\n",
      "Training model with below parameter values --------\n",
      "K: 30, K1: 1.5, B: 0.75\n"
     ]
    },
    {
     "name": "stderr",
     "output_type": "stream",
     "text": [
      "100%|███████████████████████████████████████████████████████████████████████████████████████████████████████████████████████████████████████████████| 249274/249274 [00:01<00:00, 211581.95it/s]\n",
      "100%|████████████████████████████████████████████████████████████████████████████████████████████████████████████████████████████████████████████████| 330846/330846 [00:10<00:00, 33075.73it/s]\n",
      "/Users/tgayanvitharanagamage/anaconda3/envs/rec-sys-py3.11/lib/python3.11/site-packages/implicit/utils.py:138: ParameterWarning: Method expects CSR input, and was passed coo_matrix instead. Converting to CSR took 0.008889198303222656 seconds\n",
      "  warnings.warn(\n"
     ]
    },
    {
     "name": "stdout",
     "output_type": "stream",
     "text": [
      "Evaluation results: \n",
      " {'precision': 0.03085292674360386, 'map': 0.015646599975312103, 'ndcg': 0.019268941626350174, 'auc': 0.513177063613129}\n",
      "Training model with below parameter values --------\n",
      "K: 30, K1: 1.5, B: 1.0\n"
     ]
    },
    {
     "name": "stderr",
     "output_type": "stream",
     "text": [
      "100%|███████████████████████████████████████████████████████████████████████████████████████████████████████████████████████████████████████████████| 249274/249274 [00:00<00:00, 252598.92it/s]\n",
      "100%|████████████████████████████████████████████████████████████████████████████████████████████████████████████████████████████████████████████████| 330846/330846 [00:10<00:00, 32993.04it/s]"
     ]
    },
    {
     "name": "stdout",
     "output_type": "stream",
     "text": [
      "Evaluation results: \n",
      " {'precision': 0.028758036432658368, 'map': 0.014687924939606887, 'ndcg': 0.018065046823911413, 'auc': 0.5123471914271797}\n"
     ]
    },
    {
     "name": "stderr",
     "output_type": "stream",
     "text": [
      "\n"
     ]
    }
   ],
   "source": [
    "results = []\n",
    "for k in K:\n",
    "    for k1 in K1:\n",
    "        for b in B:\n",
    "            print(\"Training model with below parameter values --------\")\n",
    "            print(f\"K: {k}, K1: {k1}, B: {b}\")\n",
    "            model =  BM25Recommender(K=k, K1=k1, B=b, num_threads=0)\n",
    "            model.fit(train_csr)\n",
    "            ranking_metrics_at_10 = evaluation.ranking_metrics_at_k(model, train_csr, test_csr, K=10, show_progress=True, num_threads=0)\n",
    "            print(\"Evaluation results: \\n\", ranking_metrics_at_10)\n",
    "            results.append(\n",
    "                (k,k1,b,ranking_metrics_at_10['precision'],ranking_metrics_at_10['map'],ranking_metrics_at_10['ndcg'],ranking_metrics_at_10['auc'])\n",
    "            )\n",
    "            # Garbage handling\n",
    "            del model\n",
    "            gc.collect()"
   ]
  },
  {
   "cell_type": "code",
   "execution_count": 32,
   "id": "190239e4-61a0-4cda-a405-50741a02a876",
   "metadata": {
    "scrolled": true,
    "tags": []
   },
   "outputs": [
    {
     "data": {
      "text/html": [
       "<div>\n",
       "<style scoped>\n",
       "    .dataframe tbody tr th:only-of-type {\n",
       "        vertical-align: middle;\n",
       "    }\n",
       "\n",
       "    .dataframe tbody tr th {\n",
       "        vertical-align: top;\n",
       "    }\n",
       "\n",
       "    .dataframe thead th {\n",
       "        text-align: right;\n",
       "    }\n",
       "</style>\n",
       "<table border=\"1\" class=\"dataframe\">\n",
       "  <thead>\n",
       "    <tr style=\"text-align: right;\">\n",
       "      <th></th>\n",
       "      <th>K</th>\n",
       "      <th>K1</th>\n",
       "      <th>B</th>\n",
       "      <th>precision</th>\n",
       "      <th>map</th>\n",
       "      <th>ndcg</th>\n",
       "      <th>auc</th>\n",
       "    </tr>\n",
       "  </thead>\n",
       "  <tbody>\n",
       "    <tr>\n",
       "      <th>0</th>\n",
       "      <td>10</td>\n",
       "      <td>0.5</td>\n",
       "      <td>0.50</td>\n",
       "      <td>0.036562</td>\n",
       "      <td>0.018219</td>\n",
       "      <td>0.022569</td>\n",
       "      <td>0.515601</td>\n",
       "    </tr>\n",
       "    <tr>\n",
       "      <th>1</th>\n",
       "      <td>10</td>\n",
       "      <td>0.5</td>\n",
       "      <td>0.75</td>\n",
       "      <td>0.035304</td>\n",
       "      <td>0.017778</td>\n",
       "      <td>0.021949</td>\n",
       "      <td>0.515061</td>\n",
       "    </tr>\n",
       "    <tr>\n",
       "      <th>2</th>\n",
       "      <td>10</td>\n",
       "      <td>0.5</td>\n",
       "      <td>1.00</td>\n",
       "      <td>0.034206</td>\n",
       "      <td>0.017330</td>\n",
       "      <td>0.021351</td>\n",
       "      <td>0.514600</td>\n",
       "    </tr>\n",
       "    <tr>\n",
       "      <th>3</th>\n",
       "      <td>10</td>\n",
       "      <td>1.0</td>\n",
       "      <td>0.50</td>\n",
       "      <td>0.034410</td>\n",
       "      <td>0.017408</td>\n",
       "      <td>0.021448</td>\n",
       "      <td>0.514671</td>\n",
       "    </tr>\n",
       "    <tr>\n",
       "      <th>4</th>\n",
       "      <td>10</td>\n",
       "      <td>1.0</td>\n",
       "      <td>0.75</td>\n",
       "      <td>0.032367</td>\n",
       "      <td>0.016497</td>\n",
       "      <td>0.020291</td>\n",
       "      <td>0.513824</td>\n",
       "    </tr>\n",
       "    <tr>\n",
       "      <th>5</th>\n",
       "      <td>10</td>\n",
       "      <td>1.0</td>\n",
       "      <td>1.00</td>\n",
       "      <td>0.030519</td>\n",
       "      <td>0.015711</td>\n",
       "      <td>0.019262</td>\n",
       "      <td>0.513051</td>\n",
       "    </tr>\n",
       "    <tr>\n",
       "      <th>6</th>\n",
       "      <td>10</td>\n",
       "      <td>1.5</td>\n",
       "      <td>0.50</td>\n",
       "      <td>0.032507</td>\n",
       "      <td>0.016534</td>\n",
       "      <td>0.020344</td>\n",
       "      <td>0.513859</td>\n",
       "    </tr>\n",
       "    <tr>\n",
       "      <th>7</th>\n",
       "      <td>10</td>\n",
       "      <td>1.5</td>\n",
       "      <td>0.75</td>\n",
       "      <td>0.030083</td>\n",
       "      <td>0.015402</td>\n",
       "      <td>0.018904</td>\n",
       "      <td>0.512832</td>\n",
       "    </tr>\n",
       "    <tr>\n",
       "      <th>8</th>\n",
       "      <td>10</td>\n",
       "      <td>1.5</td>\n",
       "      <td>1.00</td>\n",
       "      <td>0.027844</td>\n",
       "      <td>0.014450</td>\n",
       "      <td>0.017685</td>\n",
       "      <td>0.511958</td>\n",
       "    </tr>\n",
       "    <tr>\n",
       "      <th>9</th>\n",
       "      <td>20</td>\n",
       "      <td>0.5</td>\n",
       "      <td>0.50</td>\n",
       "      <td>0.036682</td>\n",
       "      <td>0.018297</td>\n",
       "      <td>0.022688</td>\n",
       "      <td>0.515744</td>\n",
       "    </tr>\n",
       "    <tr>\n",
       "      <th>10</th>\n",
       "      <td>20</td>\n",
       "      <td>0.5</td>\n",
       "      <td>0.75</td>\n",
       "      <td>0.035543</td>\n",
       "      <td>0.017849</td>\n",
       "      <td>0.022074</td>\n",
       "      <td>0.515219</td>\n",
       "    </tr>\n",
       "    <tr>\n",
       "      <th>11</th>\n",
       "      <td>20</td>\n",
       "      <td>0.5</td>\n",
       "      <td>1.00</td>\n",
       "      <td>0.034512</td>\n",
       "      <td>0.017434</td>\n",
       "      <td>0.021513</td>\n",
       "      <td>0.514780</td>\n",
       "    </tr>\n",
       "    <tr>\n",
       "      <th>12</th>\n",
       "      <td>20</td>\n",
       "      <td>1.0</td>\n",
       "      <td>0.50</td>\n",
       "      <td>0.034744</td>\n",
       "      <td>0.017507</td>\n",
       "      <td>0.021615</td>\n",
       "      <td>0.514863</td>\n",
       "    </tr>\n",
       "    <tr>\n",
       "      <th>13</th>\n",
       "      <td>20</td>\n",
       "      <td>1.0</td>\n",
       "      <td>0.75</td>\n",
       "      <td>0.032699</td>\n",
       "      <td>0.016594</td>\n",
       "      <td>0.020449</td>\n",
       "      <td>0.514004</td>\n",
       "    </tr>\n",
       "    <tr>\n",
       "      <th>14</th>\n",
       "      <td>20</td>\n",
       "      <td>1.0</td>\n",
       "      <td>1.00</td>\n",
       "      <td>0.031000</td>\n",
       "      <td>0.015842</td>\n",
       "      <td>0.019482</td>\n",
       "      <td>0.513289</td>\n",
       "    </tr>\n",
       "    <tr>\n",
       "      <th>15</th>\n",
       "      <td>20</td>\n",
       "      <td>1.5</td>\n",
       "      <td>0.50</td>\n",
       "      <td>0.032908</td>\n",
       "      <td>0.016671</td>\n",
       "      <td>0.020545</td>\n",
       "      <td>0.514066</td>\n",
       "    </tr>\n",
       "    <tr>\n",
       "      <th>16</th>\n",
       "      <td>20</td>\n",
       "      <td>1.5</td>\n",
       "      <td>0.75</td>\n",
       "      <td>0.030571</td>\n",
       "      <td>0.015543</td>\n",
       "      <td>0.019131</td>\n",
       "      <td>0.513070</td>\n",
       "    </tr>\n",
       "    <tr>\n",
       "      <th>17</th>\n",
       "      <td>20</td>\n",
       "      <td>1.5</td>\n",
       "      <td>1.00</td>\n",
       "      <td>0.028427</td>\n",
       "      <td>0.014596</td>\n",
       "      <td>0.017934</td>\n",
       "      <td>0.512234</td>\n",
       "    </tr>\n",
       "    <tr>\n",
       "      <th>18</th>\n",
       "      <td>30</td>\n",
       "      <td>0.5</td>\n",
       "      <td>0.50</td>\n",
       "      <td>0.036781</td>\n",
       "      <td>0.018340</td>\n",
       "      <td>0.022750</td>\n",
       "      <td>0.515805</td>\n",
       "    </tr>\n",
       "    <tr>\n",
       "      <th>19</th>\n",
       "      <td>30</td>\n",
       "      <td>0.5</td>\n",
       "      <td>0.75</td>\n",
       "      <td>0.035708</td>\n",
       "      <td>0.017901</td>\n",
       "      <td>0.022151</td>\n",
       "      <td>0.515300</td>\n",
       "    </tr>\n",
       "    <tr>\n",
       "      <th>20</th>\n",
       "      <td>30</td>\n",
       "      <td>0.5</td>\n",
       "      <td>1.00</td>\n",
       "      <td>0.034614</td>\n",
       "      <td>0.017499</td>\n",
       "      <td>0.021595</td>\n",
       "      <td>0.514850</td>\n",
       "    </tr>\n",
       "    <tr>\n",
       "      <th>21</th>\n",
       "      <td>30</td>\n",
       "      <td>1.0</td>\n",
       "      <td>0.50</td>\n",
       "      <td>0.034883</td>\n",
       "      <td>0.017578</td>\n",
       "      <td>0.021705</td>\n",
       "      <td>0.514941</td>\n",
       "    </tr>\n",
       "    <tr>\n",
       "      <th>22</th>\n",
       "      <td>30</td>\n",
       "      <td>1.0</td>\n",
       "      <td>0.75</td>\n",
       "      <td>0.032868</td>\n",
       "      <td>0.016672</td>\n",
       "      <td>0.020547</td>\n",
       "      <td>0.514083</td>\n",
       "    </tr>\n",
       "    <tr>\n",
       "      <th>23</th>\n",
       "      <td>30</td>\n",
       "      <td>1.0</td>\n",
       "      <td>1.00</td>\n",
       "      <td>0.031207</td>\n",
       "      <td>0.015905</td>\n",
       "      <td>0.019573</td>\n",
       "      <td>0.513371</td>\n",
       "    </tr>\n",
       "    <tr>\n",
       "      <th>24</th>\n",
       "      <td>30</td>\n",
       "      <td>1.5</td>\n",
       "      <td>0.50</td>\n",
       "      <td>0.033117</td>\n",
       "      <td>0.016738</td>\n",
       "      <td>0.020638</td>\n",
       "      <td>0.514151</td>\n",
       "    </tr>\n",
       "    <tr>\n",
       "      <th>25</th>\n",
       "      <td>30</td>\n",
       "      <td>1.5</td>\n",
       "      <td>0.75</td>\n",
       "      <td>0.030853</td>\n",
       "      <td>0.015647</td>\n",
       "      <td>0.019269</td>\n",
       "      <td>0.513177</td>\n",
       "    </tr>\n",
       "    <tr>\n",
       "      <th>26</th>\n",
       "      <td>30</td>\n",
       "      <td>1.5</td>\n",
       "      <td>1.00</td>\n",
       "      <td>0.028758</td>\n",
       "      <td>0.014688</td>\n",
       "      <td>0.018065</td>\n",
       "      <td>0.512347</td>\n",
       "    </tr>\n",
       "  </tbody>\n",
       "</table>\n",
       "</div>"
      ],
      "text/plain": [
       "     K   K1     B  precision       map      ndcg       auc\n",
       "0   10  0.5  0.50   0.036562  0.018219  0.022569  0.515601\n",
       "1   10  0.5  0.75   0.035304  0.017778  0.021949  0.515061\n",
       "2   10  0.5  1.00   0.034206  0.017330  0.021351  0.514600\n",
       "3   10  1.0  0.50   0.034410  0.017408  0.021448  0.514671\n",
       "4   10  1.0  0.75   0.032367  0.016497  0.020291  0.513824\n",
       "5   10  1.0  1.00   0.030519  0.015711  0.019262  0.513051\n",
       "6   10  1.5  0.50   0.032507  0.016534  0.020344  0.513859\n",
       "7   10  1.5  0.75   0.030083  0.015402  0.018904  0.512832\n",
       "8   10  1.5  1.00   0.027844  0.014450  0.017685  0.511958\n",
       "9   20  0.5  0.50   0.036682  0.018297  0.022688  0.515744\n",
       "10  20  0.5  0.75   0.035543  0.017849  0.022074  0.515219\n",
       "11  20  0.5  1.00   0.034512  0.017434  0.021513  0.514780\n",
       "12  20  1.0  0.50   0.034744  0.017507  0.021615  0.514863\n",
       "13  20  1.0  0.75   0.032699  0.016594  0.020449  0.514004\n",
       "14  20  1.0  1.00   0.031000  0.015842  0.019482  0.513289\n",
       "15  20  1.5  0.50   0.032908  0.016671  0.020545  0.514066\n",
       "16  20  1.5  0.75   0.030571  0.015543  0.019131  0.513070\n",
       "17  20  1.5  1.00   0.028427  0.014596  0.017934  0.512234\n",
       "18  30  0.5  0.50   0.036781  0.018340  0.022750  0.515805\n",
       "19  30  0.5  0.75   0.035708  0.017901  0.022151  0.515300\n",
       "20  30  0.5  1.00   0.034614  0.017499  0.021595  0.514850\n",
       "21  30  1.0  0.50   0.034883  0.017578  0.021705  0.514941\n",
       "22  30  1.0  0.75   0.032868  0.016672  0.020547  0.514083\n",
       "23  30  1.0  1.00   0.031207  0.015905  0.019573  0.513371\n",
       "24  30  1.5  0.50   0.033117  0.016738  0.020638  0.514151\n",
       "25  30  1.5  0.75   0.030853  0.015647  0.019269  0.513177\n",
       "26  30  1.5  1.00   0.028758  0.014688  0.018065  0.512347"
      ]
     },
     "execution_count": 32,
     "metadata": {},
     "output_type": "execute_result"
    }
   ],
   "source": [
    "results_df = pd.DataFrame(results, columns=['K', 'K1', 'B', 'precision', 'map', 'ndcg', 'auc'])\n",
    "results_df"
   ]
  },
  {
   "cell_type": "code",
   "execution_count": 17,
   "id": "da75656f-622b-4e58-bfb5-dd2c4535f536",
   "metadata": {},
   "outputs": [],
   "source": [
    "results_df.to_csv('hyper_parameter_training_results_BPR.csv')"
   ]
  },
  {
   "cell_type": "markdown",
   "id": "b434c2c5-4dc6-4b53-a5b3-217112ca75cd",
   "metadata": {},
   "source": [
    "## Temp code to retrieve results from text to list"
   ]
  },
  {
   "cell_type": "code",
   "execution_count": 5,
   "id": "77042a71-c211-4d29-a114-630d82df570f",
   "metadata": {},
   "outputs": [],
   "source": [
    "params = []\n",
    "for f in latent_factors:\n",
    "    for r in regularization:\n",
    "        for l in learning_rate:\n",
    "            params.append([f,r,l])"
   ]
  },
  {
   "cell_type": "code",
   "execution_count": 7,
   "id": "db8cdd62-2599-4f75-afa8-43d9c71d7056",
   "metadata": {
    "scrolled": true
   },
   "outputs": [
    {
     "data": {
      "text/plain": [
       "\"[\\n    {'precision': 0.00510146891416928, 'map': 0.0015033694633245942, 'ndcg': 0.0021315162558968215, 'auc': 0.5016153388481799},\\n    {'precision': 0.005467638802051548, 'map': 0.0022934639351212148, 'ndcg': 0.0029528598907335073, 'auc': 0.5021309568635243},\\n    {'precision': 0.001188183921903685, 'map': 0.00024903875138810374, 'ndcg': 0.00043161308825532207, 'auc': 0.5003978845943127},\\n    {'precision': 0.004481221961225847, 'map': 0.001050715130654907, 'ndcg': 0.0016142223690655615, 'auc': 0.5013023857993317},\\n    {'precision': 0.005216052688608629, 'map': 0.0020690025506611494, 'ndcg': 0.002711173039869431, 'auc': 0.50199076293975},\\n    {'precision': 0.002959250522477102, 'map': 0.0010683458401969641, 'ndcg': 0.0014697439319069454, 'auc': 0.5011472774375025},\\n    {'precision': 0.0015942090356779, 'map': 0.00024641180358203304, 'ndcg': 0.00040603108998945816, 'auc': 0.500253743824585},\\n    {'precision': 0.002172109811111139, 'map': 0.0004536812015142101, 'ndcg': 0.0007014983008247475, 'auc': 0.5004708951330932},\\n    {'precision': 0.0037414093306065714, 'map': 0.0014788190335124224, 'ndcg': 0.001989091644586975, 'auc': 0.5015434409017387},\\n    {'precision': 0.0004732808074668766, 'map': 4.450531293080392e-05, 'ndcg': 9.109108341231744e-05, 'auc': 0.5000354855617553},\\n    {'precision': 0.0011632744057212176, 'map': 0.0002014331546687705, 'ndcg': 0.00033520649639134963, 'auc': 0.5002238425608542},\\n    {'precision': 0.0025905896829765875, 'map': 0.0009643295958684048, 'ndcg': 0.001325739279735986, 'auc': 0.5010350294073845},\\n    {'precision': 0.00492710230089201, 'map': 0.0014378239544798489, 'ndcg': 0.0020319171666949853, 'auc': 0.5015049986508421},\\n    {'precision': 0.0066159674980632854, 'map': 0.00282569504018807, 'ndcg': 0.0036192071355328212, 'auc': 0.5025838474764652},\\n    {'precision': 0.004750244735996493, 'map': 0.002086271399949085, 'ndcg': 0.0026756709218870357, 'auc': 0.5019734936090827},\\n    {'precision': 0.0044787310096076, 'map': 0.0010533220061568792, 'ndcg': 0.0016122632773172994, 'auc': 0.5012943945809354},\\n    {'precision': 0.005950883415991411, 'map': 0.002406691238049319, 'ndcg': 0.0031258014098690854, 'auc': 0.5022646421095971},\\n    {'precision': 0.005502512124707002, 'map': 0.002475086842729442, 'ndcg': 0.003160369965842958, 'auc': 0.5023390557638001},\\n    {'precision': 0.001576772374350173, 'map': 0.00022421653918958248, 'ndcg': 0.00038224890662666493, 'auc': 0.500254889565104},\\n    {'precision': 0.0019155417944317268, 'map': 0.0003661489061802452, 'ndcg': 0.0005755037422209674, 'auc': 0.5004141120747255},\\n    {'precision': 0.0059284648514271905, 'map': 0.0026337018503463654, 'ndcg': 0.0034282608547800976, 'auc': 0.5025905719527494},\\n    {'precision': 0.00046082604937564296, 'map': 6.014601953731887e-05, 'ndcg': 0.00010313889060514568, 'auc': 0.5000376837709032},\\n    {'precision': 0.0012678943736875799, 'map': 0.000199985351444558, 'ndcg': 0.00033859986519710106, 'auc': 0.5002423698988575},\\n    {'precision': 0.0029218862482034012, 'map': 0.0010816821204483924, 'ndcg': 0.0015042312907786542, 'auc': 0.5012069973362697},\\n    {'precision': 0.00493457515574675, 'map': 0.0014357976431964492, 'ndcg': 0.002035257646474673, 'auc': 0.5015085191165501},\\n    {'precision': 0.006924845498725878, 'map': 0.002844527509685439, 'ndcg': 0.0036996966833047853, 'auc': 0.5026596968589291},\\n    {'precision': 0.006187523819724849, 'map': 0.002731083347148823, 'ndcg': 0.0035044229796235647, 'auc': 0.502581033302263},\\n    {'precision': 0.0044015115094419525, 'map': 0.001078309752989047, 'ndcg': 0.0016199258636008162, 'auc': 0.5012570752410592},\\n    {'precision': 0.006267234271508744, 'map': 0.0025742225609569703, 'ndcg': 0.003346364980099793, 'auc': 0.5023934726730573},\\n    {'precision': 0.0070668297409659415, 'map': 0.0031848358331388153, 'ndcg': 0.004086222661043248, 'auc': 0.5030455002362854},\\n    {'precision': 0.0012977857931065406, 'map': 0.00021204171293387033, 'ndcg': 0.00034951840207446606, 'auc': 0.5002183541761672},\\n    {'precision': 0.001868213713685039, 'map': 0.00033730946353435363, 'ndcg': 0.0005512964428087143, 'auc': 0.5004040915683748},\\n    {'precision': 0.0067180965144114, 'map': 0.0027150485699802144, 'ndcg': 0.0036573875811632853, 'auc': 0.5028805257667891},\\n    {'precision': 0.0003711517911187611, 'map': 3.483024388836055e-05, 'ndcg': 7.324943159879043e-05, 'auc': 0.5000335087251278},\\n    {'precision': 0.0012056205832314119, 'map': 0.0001228112288979733, 'ndcg': 0.00025023106498434084, 'auc': 0.5001711082343053},\\n    {'precision': 0.0028571215061289866, 'map': 0.001023162109375198, 'ndcg': 0.0014290328737616219, 'auc': 0.5011397703737782},\\n    {'precision': 0.004952011817074477, 'map': 0.0014051704603957281, 'ndcg': 0.002017338565261821, 'auc': 0.5015145771296602},\\n    {'precision': 0.007089248305530161, 'map': 0.0029807969281441813, 'ndcg': 0.003852949749896595, 'auc': 0.5027702769570433},\\n    {'precision': 0.00684762599856023, 'map': 0.003154231733582996, 'ndcg': 0.00397635727820552, 'auc': 0.5028463173521698},\\n    {'precision': 0.0038833935728466345, 'map': 0.000834356082243676, 'ndcg': 0.0013050758018389415, 'auc': 0.5010293834136466},\\n    {'precision': 0.006175069061633616, 'map': 0.0024764283991528793, 'ndcg': 0.0032283007601867776, 'auc': 0.5023383419814597},\\n    {'precision': 0.007550074354905805, 'map': 0.003405140609530662, 'ndcg': 0.004353982497348026, 'auc': 0.503197469468741},\\n    {'precision': 0.0010437087280453753, 'map': 0.00016065105709964228, 'ndcg': 0.0002707906316741404, 'auc': 0.5001498671906898},\\n    {'precision': 0.0019529060687054275, 'map': 0.0003664184824789186, 'ndcg': 0.0005859659672908122, 'auc': 0.500425695462237},\\n    {'precision': 0.006344453771674393, 'map': 0.002834257207250267, 'ndcg': 0.0036833733232700234, 'auc': 0.5027980839021086},\\n    {'precision': 0.0003611879846457742, 'map': 3.2887819624322404e-05, 'ndcg': 6.666347243447022e-05, 'auc': 0.5000213874473228},\\n    {'precision': 0.0010860549055555695, 'map': 0.00012439657776212735, 'ndcg': 0.00024543475035451707, 'auc': 0.5001835229285885},\\n    {'precision': 0.002969214328950089, 'map': 0.0011324188937991337, 'ndcg': 0.0015375179012410384, 'auc': 0.5011640557198422}\\n]\""
      ]
     },
     "execution_count": 7,
     "metadata": {},
     "output_type": "execute_result"
    }
   ],
   "source": [
    "with open(\"tmp_BPR_results.txt\") as fp:\n",
    "    text = fp.read()\n",
    "text"
   ]
  },
  {
   "cell_type": "code",
   "execution_count": 14,
   "id": "2d965560-d5f1-483c-bc8a-ba270216020e",
   "metadata": {},
   "outputs": [],
   "source": [
    " metrics = eval(text)"
   ]
  },
  {
   "cell_type": "code",
   "execution_count": 15,
   "id": "97e2f479-162e-45f3-8b83-be4f51664e1e",
   "metadata": {
    "collapsed": true,
    "jupyter": {
     "outputs_hidden": true
    }
   },
   "outputs": [
    {
     "data": {
      "text/plain": [
       "[(32,\n",
       "  0.005,\n",
       "  0.05,\n",
       "  0.00510146891416928,\n",
       "  0.0015033694633245942,\n",
       "  0.0021315162558968215,\n",
       "  0.5016153388481799),\n",
       " (32,\n",
       "  0.005,\n",
       "  0.1,\n",
       "  0.005467638802051548,\n",
       "  0.0022934639351212148,\n",
       "  0.0029528598907335073,\n",
       "  0.5021309568635243),\n",
       " (32,\n",
       "  0.005,\n",
       "  0.5,\n",
       "  0.001188183921903685,\n",
       "  0.00024903875138810374,\n",
       "  0.00043161308825532207,\n",
       "  0.5003978845943127),\n",
       " (32,\n",
       "  0.01,\n",
       "  0.05,\n",
       "  0.004481221961225847,\n",
       "  0.001050715130654907,\n",
       "  0.0016142223690655615,\n",
       "  0.5013023857993317),\n",
       " (32,\n",
       "  0.01,\n",
       "  0.1,\n",
       "  0.005216052688608629,\n",
       "  0.0020690025506611494,\n",
       "  0.002711173039869431,\n",
       "  0.50199076293975),\n",
       " (32,\n",
       "  0.01,\n",
       "  0.5,\n",
       "  0.002959250522477102,\n",
       "  0.0010683458401969641,\n",
       "  0.0014697439319069454,\n",
       "  0.5011472774375025),\n",
       " (32,\n",
       "  0.05,\n",
       "  0.05,\n",
       "  0.0015942090356779,\n",
       "  0.00024641180358203304,\n",
       "  0.00040603108998945816,\n",
       "  0.500253743824585),\n",
       " (32,\n",
       "  0.05,\n",
       "  0.1,\n",
       "  0.002172109811111139,\n",
       "  0.0004536812015142101,\n",
       "  0.0007014983008247475,\n",
       "  0.5004708951330932),\n",
       " (32,\n",
       "  0.05,\n",
       "  0.5,\n",
       "  0.0037414093306065714,\n",
       "  0.0014788190335124224,\n",
       "  0.001989091644586975,\n",
       "  0.5015434409017387),\n",
       " (32,\n",
       "  0.1,\n",
       "  0.05,\n",
       "  0.0004732808074668766,\n",
       "  4.450531293080392e-05,\n",
       "  9.109108341231744e-05,\n",
       "  0.5000354855617553),\n",
       " (32,\n",
       "  0.1,\n",
       "  0.1,\n",
       "  0.0011632744057212176,\n",
       "  0.0002014331546687705,\n",
       "  0.00033520649639134963,\n",
       "  0.5002238425608542),\n",
       " (32,\n",
       "  0.1,\n",
       "  0.5,\n",
       "  0.0025905896829765875,\n",
       "  0.0009643295958684048,\n",
       "  0.001325739279735986,\n",
       "  0.5010350294073845),\n",
       " (64,\n",
       "  0.005,\n",
       "  0.05,\n",
       "  0.00492710230089201,\n",
       "  0.0014378239544798489,\n",
       "  0.0020319171666949853,\n",
       "  0.5015049986508421),\n",
       " (64,\n",
       "  0.005,\n",
       "  0.1,\n",
       "  0.0066159674980632854,\n",
       "  0.00282569504018807,\n",
       "  0.0036192071355328212,\n",
       "  0.5025838474764652),\n",
       " (64,\n",
       "  0.005,\n",
       "  0.5,\n",
       "  0.004750244735996493,\n",
       "  0.002086271399949085,\n",
       "  0.0026756709218870357,\n",
       "  0.5019734936090827),\n",
       " (64,\n",
       "  0.01,\n",
       "  0.05,\n",
       "  0.0044787310096076,\n",
       "  0.0010533220061568792,\n",
       "  0.0016122632773172994,\n",
       "  0.5012943945809354),\n",
       " (64,\n",
       "  0.01,\n",
       "  0.1,\n",
       "  0.005950883415991411,\n",
       "  0.002406691238049319,\n",
       "  0.0031258014098690854,\n",
       "  0.5022646421095971),\n",
       " (64,\n",
       "  0.01,\n",
       "  0.5,\n",
       "  0.005502512124707002,\n",
       "  0.002475086842729442,\n",
       "  0.003160369965842958,\n",
       "  0.5023390557638001),\n",
       " (64,\n",
       "  0.05,\n",
       "  0.05,\n",
       "  0.001576772374350173,\n",
       "  0.00022421653918958248,\n",
       "  0.00038224890662666493,\n",
       "  0.500254889565104),\n",
       " (64,\n",
       "  0.05,\n",
       "  0.1,\n",
       "  0.0019155417944317268,\n",
       "  0.0003661489061802452,\n",
       "  0.0005755037422209674,\n",
       "  0.5004141120747255),\n",
       " (64,\n",
       "  0.05,\n",
       "  0.5,\n",
       "  0.0059284648514271905,\n",
       "  0.0026337018503463654,\n",
       "  0.0034282608547800976,\n",
       "  0.5025905719527494),\n",
       " (64,\n",
       "  0.1,\n",
       "  0.05,\n",
       "  0.00046082604937564296,\n",
       "  6.014601953731887e-05,\n",
       "  0.00010313889060514568,\n",
       "  0.5000376837709032),\n",
       " (64,\n",
       "  0.1,\n",
       "  0.1,\n",
       "  0.0012678943736875799,\n",
       "  0.000199985351444558,\n",
       "  0.00033859986519710106,\n",
       "  0.5002423698988575),\n",
       " (64,\n",
       "  0.1,\n",
       "  0.5,\n",
       "  0.0029218862482034012,\n",
       "  0.0010816821204483924,\n",
       "  0.0015042312907786542,\n",
       "  0.5012069973362697),\n",
       " (128,\n",
       "  0.005,\n",
       "  0.05,\n",
       "  0.00493457515574675,\n",
       "  0.0014357976431964492,\n",
       "  0.002035257646474673,\n",
       "  0.5015085191165501),\n",
       " (128,\n",
       "  0.005,\n",
       "  0.1,\n",
       "  0.006924845498725878,\n",
       "  0.002844527509685439,\n",
       "  0.0036996966833047853,\n",
       "  0.5026596968589291),\n",
       " (128,\n",
       "  0.005,\n",
       "  0.5,\n",
       "  0.006187523819724849,\n",
       "  0.002731083347148823,\n",
       "  0.0035044229796235647,\n",
       "  0.502581033302263),\n",
       " (128,\n",
       "  0.01,\n",
       "  0.05,\n",
       "  0.0044015115094419525,\n",
       "  0.001078309752989047,\n",
       "  0.0016199258636008162,\n",
       "  0.5012570752410592),\n",
       " (128,\n",
       "  0.01,\n",
       "  0.1,\n",
       "  0.006267234271508744,\n",
       "  0.0025742225609569703,\n",
       "  0.003346364980099793,\n",
       "  0.5023934726730573),\n",
       " (128,\n",
       "  0.01,\n",
       "  0.5,\n",
       "  0.0070668297409659415,\n",
       "  0.0031848358331388153,\n",
       "  0.004086222661043248,\n",
       "  0.5030455002362854),\n",
       " (128,\n",
       "  0.05,\n",
       "  0.05,\n",
       "  0.0012977857931065406,\n",
       "  0.00021204171293387033,\n",
       "  0.00034951840207446606,\n",
       "  0.5002183541761672),\n",
       " (128,\n",
       "  0.05,\n",
       "  0.1,\n",
       "  0.001868213713685039,\n",
       "  0.00033730946353435363,\n",
       "  0.0005512964428087143,\n",
       "  0.5004040915683748),\n",
       " (128,\n",
       "  0.05,\n",
       "  0.5,\n",
       "  0.0067180965144114,\n",
       "  0.0027150485699802144,\n",
       "  0.0036573875811632853,\n",
       "  0.5028805257667891),\n",
       " (128,\n",
       "  0.1,\n",
       "  0.05,\n",
       "  0.0003711517911187611,\n",
       "  3.483024388836055e-05,\n",
       "  7.324943159879043e-05,\n",
       "  0.5000335087251278),\n",
       " (128,\n",
       "  0.1,\n",
       "  0.1,\n",
       "  0.0012056205832314119,\n",
       "  0.0001228112288979733,\n",
       "  0.00025023106498434084,\n",
       "  0.5001711082343053),\n",
       " (128,\n",
       "  0.1,\n",
       "  0.5,\n",
       "  0.0028571215061289866,\n",
       "  0.001023162109375198,\n",
       "  0.0014290328737616219,\n",
       "  0.5011397703737782),\n",
       " (256,\n",
       "  0.005,\n",
       "  0.05,\n",
       "  0.004952011817074477,\n",
       "  0.0014051704603957281,\n",
       "  0.002017338565261821,\n",
       "  0.5015145771296602),\n",
       " (256,\n",
       "  0.005,\n",
       "  0.1,\n",
       "  0.007089248305530161,\n",
       "  0.0029807969281441813,\n",
       "  0.003852949749896595,\n",
       "  0.5027702769570433),\n",
       " (256,\n",
       "  0.005,\n",
       "  0.5,\n",
       "  0.00684762599856023,\n",
       "  0.003154231733582996,\n",
       "  0.00397635727820552,\n",
       "  0.5028463173521698),\n",
       " (256,\n",
       "  0.01,\n",
       "  0.05,\n",
       "  0.0038833935728466345,\n",
       "  0.000834356082243676,\n",
       "  0.0013050758018389415,\n",
       "  0.5010293834136466),\n",
       " (256,\n",
       "  0.01,\n",
       "  0.1,\n",
       "  0.006175069061633616,\n",
       "  0.0024764283991528793,\n",
       "  0.0032283007601867776,\n",
       "  0.5023383419814597),\n",
       " (256,\n",
       "  0.01,\n",
       "  0.5,\n",
       "  0.007550074354905805,\n",
       "  0.003405140609530662,\n",
       "  0.004353982497348026,\n",
       "  0.503197469468741),\n",
       " (256,\n",
       "  0.05,\n",
       "  0.05,\n",
       "  0.0010437087280453753,\n",
       "  0.00016065105709964228,\n",
       "  0.0002707906316741404,\n",
       "  0.5001498671906898),\n",
       " (256,\n",
       "  0.05,\n",
       "  0.1,\n",
       "  0.0019529060687054275,\n",
       "  0.0003664184824789186,\n",
       "  0.0005859659672908122,\n",
       "  0.500425695462237),\n",
       " (256,\n",
       "  0.05,\n",
       "  0.5,\n",
       "  0.006344453771674393,\n",
       "  0.002834257207250267,\n",
       "  0.0036833733232700234,\n",
       "  0.5027980839021086),\n",
       " (256,\n",
       "  0.1,\n",
       "  0.05,\n",
       "  0.0003611879846457742,\n",
       "  3.2887819624322404e-05,\n",
       "  6.666347243447022e-05,\n",
       "  0.5000213874473228),\n",
       " (256,\n",
       "  0.1,\n",
       "  0.1,\n",
       "  0.0010860549055555695,\n",
       "  0.00012439657776212735,\n",
       "  0.00024543475035451707,\n",
       "  0.5001835229285885),\n",
       " (256,\n",
       "  0.1,\n",
       "  0.5,\n",
       "  0.002969214328950089,\n",
       "  0.0011324188937991337,\n",
       "  0.0015375179012410384,\n",
       "  0.5011640557198422)]"
      ]
     },
     "execution_count": 15,
     "metadata": {},
     "output_type": "execute_result"
    }
   ],
   "source": [
    "results = []\n",
    "for p,r in zip(params, metrics):\n",
    "    results.append(\n",
    "        (p[0], p[1], p[2], r['precision'], r['map'], r['ndcg'], r['auc'])\n",
    "    )\n",
    "results "
   ]
  },
  {
   "cell_type": "code",
   "execution_count": null,
   "id": "04cfc035-a79b-4c17-968f-064b646d14c1",
   "metadata": {},
   "outputs": [],
   "source": []
  }
 ],
 "metadata": {
  "kernelspec": {
   "display_name": "rec-sys-py3.11",
   "language": "python",
   "name": "rec-sys-py3.11"
  },
  "language_info": {
   "codemirror_mode": {
    "name": "ipython",
    "version": 3
   },
   "file_extension": ".py",
   "mimetype": "text/x-python",
   "name": "python",
   "nbconvert_exporter": "python",
   "pygments_lexer": "ipython3",
   "version": "3.11.4"
  }
 },
 "nbformat": 4,
 "nbformat_minor": 5
}
