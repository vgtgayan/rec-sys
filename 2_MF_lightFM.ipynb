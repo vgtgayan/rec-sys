{
 "cells": [
  {
   "cell_type": "code",
   "execution_count": 1,
   "id": "49d44608-2c1a-4f8d-82dc-3c8313cf6988",
   "metadata": {},
   "outputs": [
    {
     "name": "stdout",
     "output_type": "stream",
     "text": [
      "Defaulting to user installation because normal site-packages is not writeable\n",
      "Requirement already satisfied: pandas in /Users/tgayanvitharanagamage/Library/Python/3.9/lib/python/site-packages (from -r requirements.txt (line 1)) (1.5.1)\n",
      "Collecting lightfm\n",
      "  Downloading lightfm-1.17.tar.gz (316 kB)\n",
      "\u001b[K     |████████████████████████████████| 316 kB 1.8 MB/s eta 0:00:01\n",
      "\u001b[?25hRequirement already satisfied: numpy>=1.20.3 in /Users/tgayanvitharanagamage/Library/Python/3.9/lib/python/site-packages (from pandas->-r requirements.txt (line 1)) (1.23.4)\n",
      "Requirement already satisfied: pytz>=2020.1 in /Users/tgayanvitharanagamage/Library/Python/3.9/lib/python/site-packages (from pandas->-r requirements.txt (line 1)) (2022.6)\n",
      "Requirement already satisfied: python-dateutil>=2.8.1 in /Users/tgayanvitharanagamage/Library/Python/3.9/lib/python/site-packages (from pandas->-r requirements.txt (line 1)) (2.8.2)\n",
      "Requirement already satisfied: scipy>=0.17.0 in /Users/tgayanvitharanagamage/Library/Python/3.9/lib/python/site-packages (from lightfm->-r requirements.txt (line 2)) (1.9.3)\n",
      "Requirement already satisfied: requests in /Users/tgayanvitharanagamage/Library/Python/3.9/lib/python/site-packages (from lightfm->-r requirements.txt (line 2)) (2.28.1)\n",
      "Requirement already satisfied: scikit-learn in /Users/tgayanvitharanagamage/Library/Python/3.9/lib/python/site-packages (from lightfm->-r requirements.txt (line 2)) (1.1.3)\n",
      "Requirement already satisfied: six>=1.5 in /Library/Developer/CommandLineTools/Library/Frameworks/Python3.framework/Versions/3.9/lib/python3.9/site-packages (from python-dateutil>=2.8.1->pandas->-r requirements.txt (line 1)) (1.15.0)\n",
      "Requirement already satisfied: charset-normalizer<3,>=2 in /Users/tgayanvitharanagamage/Library/Python/3.9/lib/python/site-packages (from requests->lightfm->-r requirements.txt (line 2)) (2.1.1)\n",
      "Requirement already satisfied: urllib3<1.27,>=1.21.1 in /Users/tgayanvitharanagamage/Library/Python/3.9/lib/python/site-packages (from requests->lightfm->-r requirements.txt (line 2)) (1.26.12)\n",
      "Requirement already satisfied: certifi>=2017.4.17 in /Users/tgayanvitharanagamage/Library/Python/3.9/lib/python/site-packages (from requests->lightfm->-r requirements.txt (line 2)) (2022.9.24)\n",
      "Requirement already satisfied: idna<4,>=2.5 in /Users/tgayanvitharanagamage/Library/Python/3.9/lib/python/site-packages (from requests->lightfm->-r requirements.txt (line 2)) (3.4)\n",
      "Requirement already satisfied: joblib>=1.0.0 in /Users/tgayanvitharanagamage/Library/Python/3.9/lib/python/site-packages (from scikit-learn->lightfm->-r requirements.txt (line 2)) (1.2.0)\n",
      "Requirement already satisfied: threadpoolctl>=2.0.0 in /Users/tgayanvitharanagamage/Library/Python/3.9/lib/python/site-packages (from scikit-learn->lightfm->-r requirements.txt (line 2)) (3.1.0)\n",
      "Building wheels for collected packages: lightfm\n",
      "  Building wheel for lightfm (setup.py) ... \u001b[?25ldone\n",
      "\u001b[?25h  Created wheel for lightfm: filename=lightfm-1.17-cp39-cp39-macosx_10_9_universal2.whl size=536274 sha256=502d5f6500ca9dfa3102fbac4a270e117a97f5323baae3ad6867ccc731052cb4\n",
      "  Stored in directory: /Users/tgayanvitharanagamage/Library/Caches/pip/wheels/d8/65/93/6ac8180274dc2e8f86ff326be62da1dfa55dc158fd45faba7d\n",
      "Successfully built lightfm\n",
      "Installing collected packages: lightfm\n",
      "Successfully installed lightfm-1.17\n",
      "\u001b[33mWARNING: You are using pip version 21.2.4; however, version 23.2 is available.\n",
      "You should consider upgrading via the '/Library/Developer/CommandLineTools/usr/bin/python -m pip install --upgrade pip' command.\u001b[0m\n",
      "Note: you may need to restart the kernel to use updated packages.\n"
     ]
    }
   ],
   "source": [
    "%pip install -r requirements.txt"
   ]
  },
  {
   "cell_type": "code",
   "execution_count": 2,
   "id": "6ad9aece-ff0f-47fc-9d43-59f00e89316c",
   "metadata": {},
   "outputs": [
    {
     "name": "stderr",
     "output_type": "stream",
     "text": [
      "/Users/tgayanvitharanagamage/Library/Python/3.9/lib/python/site-packages/lightfm/_lightfm_fast.py:9: UserWarning: LightFM was compiled without OpenMP support. Only a single thread will be used.\n",
      "  warnings.warn(\n"
     ]
    }
   ],
   "source": [
    "import pandas as pd\n",
    "from lightfm import LightFM\n",
    "from lightfm.datasets import fetch_movielens\n",
    "from lightfm.evaluation import precision_at_k"
   ]
  },
  {
   "cell_type": "code",
   "execution_count": 3,
   "id": "157d1a7d-df50-4407-a183-284ff55c11e4",
   "metadata": {},
   "outputs": [],
   "source": [
    "# Load the MovieLens 100k dataset. Only five\n",
    "# star ratings are treated as positive.\n",
    "data = fetch_movielens(min_rating=5.0)"
   ]
  },
  {
   "cell_type": "code",
   "execution_count": 6,
   "id": "7dc4d7b8-476d-4566-9cbb-61373d7100f6",
   "metadata": {
    "collapsed": true,
    "jupyter": {
     "outputs_hidden": true
    }
   },
   "outputs": [
    {
     "name": "stdout",
     "output_type": "stream",
     "text": [
      "  (0, 0)\t5\n",
      "  (0, 5)\t5\n",
      "  (0, 8)\t5\n",
      "  (0, 11)\t5\n",
      "  (0, 12)\t5\n",
      "  (0, 13)\t5\n",
      "  (0, 14)\t5\n",
      "  (0, 15)\t5\n",
      "  (0, 18)\t5\n",
      "  (0, 31)\t5\n",
      "  (0, 41)\t5\n",
      "  (0, 43)\t5\n",
      "  (0, 44)\t5\n",
      "  (0, 47)\t5\n",
      "  (0, 49)\t5\n",
      "  (0, 54)\t5\n",
      "  (0, 56)\t5\n",
      "  (0, 58)\t5\n",
      "  (0, 59)\t5\n",
      "  (0, 63)\t5\n",
      "  (0, 80)\t5\n",
      "  (0, 81)\t5\n",
      "  (0, 85)\t5\n",
      "  (0, 86)\t5\n",
      "  (0, 88)\t5\n",
      "  :\t:\n",
      "  (942, 78)\t5\n",
      "  (942, 91)\t5\n",
      "  (942, 97)\t5\n",
      "  (942, 99)\t5\n",
      "  (942, 126)\t5\n",
      "  (942, 172)\t5\n",
      "  (942, 181)\t5\n",
      "  (942, 183)\t5\n",
      "  (942, 186)\t5\n",
      "  (942, 193)\t5\n",
      "  (942, 195)\t5\n",
      "  (942, 200)\t5\n",
      "  (942, 204)\t5\n",
      "  (942, 232)\t5\n",
      "  (942, 238)\t5\n",
      "  (942, 281)\t5\n",
      "  (942, 470)\t5\n",
      "  (942, 474)\t5\n",
      "  (942, 484)\t5\n",
      "  (942, 507)\t5\n",
      "  (942, 613)\t5\n",
      "  (942, 671)\t5\n",
      "  (942, 720)\t5\n",
      "  (942, 927)\t5\n",
      "  (942, 942)\t5\n"
     ]
    }
   ],
   "source": [
    "print(data[\"train\"])"
   ]
  },
  {
   "cell_type": "code",
   "execution_count": 7,
   "id": "85763d46-fee9-4654-b574-508afe7bb2a6",
   "metadata": {},
   "outputs": [
    {
     "data": {
      "text/html": [
       "<div>\n",
       "<style scoped>\n",
       "    .dataframe tbody tr th:only-of-type {\n",
       "        vertical-align: middle;\n",
       "    }\n",
       "\n",
       "    .dataframe tbody tr th {\n",
       "        vertical-align: top;\n",
       "    }\n",
       "\n",
       "    .dataframe thead th {\n",
       "        text-align: right;\n",
       "    }\n",
       "</style>\n",
       "<table border=\"1\" class=\"dataframe\">\n",
       "  <thead>\n",
       "    <tr style=\"text-align: right;\">\n",
       "      <th></th>\n",
       "      <th>UserId</th>\n",
       "      <th>ProductId</th>\n",
       "      <th>Rating</th>\n",
       "      <th>Timestamp</th>\n",
       "    </tr>\n",
       "  </thead>\n",
       "  <tbody>\n",
       "    <tr>\n",
       "      <th>0</th>\n",
       "      <td>A39HTATAQ9V7YF</td>\n",
       "      <td>0205616461</td>\n",
       "      <td>5.0</td>\n",
       "      <td>1369699200</td>\n",
       "    </tr>\n",
       "    <tr>\n",
       "      <th>1</th>\n",
       "      <td>A3JM6GV9MNOF9X</td>\n",
       "      <td>0558925278</td>\n",
       "      <td>3.0</td>\n",
       "      <td>1355443200</td>\n",
       "    </tr>\n",
       "    <tr>\n",
       "      <th>2</th>\n",
       "      <td>A1Z513UWSAAO0F</td>\n",
       "      <td>0558925278</td>\n",
       "      <td>5.0</td>\n",
       "      <td>1404691200</td>\n",
       "    </tr>\n",
       "    <tr>\n",
       "      <th>3</th>\n",
       "      <td>A1WMRR494NWEWV</td>\n",
       "      <td>0733001998</td>\n",
       "      <td>4.0</td>\n",
       "      <td>1382572800</td>\n",
       "    </tr>\n",
       "    <tr>\n",
       "      <th>4</th>\n",
       "      <td>A3IAAVS479H7M7</td>\n",
       "      <td>0737104473</td>\n",
       "      <td>1.0</td>\n",
       "      <td>1274227200</td>\n",
       "    </tr>\n",
       "    <tr>\n",
       "      <th>...</th>\n",
       "      <td>...</td>\n",
       "      <td>...</td>\n",
       "      <td>...</td>\n",
       "      <td>...</td>\n",
       "    </tr>\n",
       "    <tr>\n",
       "      <th>2023065</th>\n",
       "      <td>A3DEHKPFANB8VA</td>\n",
       "      <td>B00LORWRJA</td>\n",
       "      <td>5.0</td>\n",
       "      <td>1405296000</td>\n",
       "    </tr>\n",
       "    <tr>\n",
       "      <th>2023066</th>\n",
       "      <td>A3DEHKPFANB8VA</td>\n",
       "      <td>B00LOS7MEE</td>\n",
       "      <td>5.0</td>\n",
       "      <td>1405296000</td>\n",
       "    </tr>\n",
       "    <tr>\n",
       "      <th>2023067</th>\n",
       "      <td>AG9TJLJUN5OM3</td>\n",
       "      <td>B00LP2YB8E</td>\n",
       "      <td>5.0</td>\n",
       "      <td>1405382400</td>\n",
       "    </tr>\n",
       "    <tr>\n",
       "      <th>2023068</th>\n",
       "      <td>AYBIB14QOI9PC</td>\n",
       "      <td>B00LPVG6V0</td>\n",
       "      <td>5.0</td>\n",
       "      <td>1405555200</td>\n",
       "    </tr>\n",
       "    <tr>\n",
       "      <th>2023069</th>\n",
       "      <td>A1PB6OT0OOPKNQ</td>\n",
       "      <td>B00LU0LTOU</td>\n",
       "      <td>5.0</td>\n",
       "      <td>1405641600</td>\n",
       "    </tr>\n",
       "  </tbody>\n",
       "</table>\n",
       "<p>2023070 rows × 4 columns</p>\n",
       "</div>"
      ],
      "text/plain": [
       "                 UserId   ProductId  Rating   Timestamp\n",
       "0        A39HTATAQ9V7YF  0205616461     5.0  1369699200\n",
       "1        A3JM6GV9MNOF9X  0558925278     3.0  1355443200\n",
       "2        A1Z513UWSAAO0F  0558925278     5.0  1404691200\n",
       "3        A1WMRR494NWEWV  0733001998     4.0  1382572800\n",
       "4        A3IAAVS479H7M7  0737104473     1.0  1274227200\n",
       "...                 ...         ...     ...         ...\n",
       "2023065  A3DEHKPFANB8VA  B00LORWRJA     5.0  1405296000\n",
       "2023066  A3DEHKPFANB8VA  B00LOS7MEE     5.0  1405296000\n",
       "2023067   AG9TJLJUN5OM3  B00LP2YB8E     5.0  1405382400\n",
       "2023068   AYBIB14QOI9PC  B00LPVG6V0     5.0  1405555200\n",
       "2023069  A1PB6OT0OOPKNQ  B00LU0LTOU     5.0  1405641600\n",
       "\n",
       "[2023070 rows x 4 columns]"
      ]
     },
     "execution_count": 7,
     "metadata": {},
     "output_type": "execute_result"
    }
   ],
   "source": [
    "df = pd.read_csv(\"ratings_Beauty.csv\")\n",
    "df"
   ]
  },
  {
   "cell_type": "code",
   "execution_count": 6,
   "id": "0449671d-0e20-4da7-909a-423559d707b1",
   "metadata": {},
   "outputs": [],
   "source": [
    "# Drop null values\n",
    "df = df.dropna()"
   ]
  },
  {
   "cell_type": "code",
   "execution_count": null,
   "id": "7ef0bb11-c147-4c6c-bd3d-a8eb613a1a57",
   "metadata": {},
   "outputs": [],
   "source": []
  }
 ],
 "metadata": {
  "kernelspec": {
   "display_name": "Python 3 (ipykernel)",
   "language": "python",
   "name": "python3"
  },
  "language_info": {
   "codemirror_mode": {
    "name": "ipython",
    "version": 3
   },
   "file_extension": ".py",
   "mimetype": "text/x-python",
   "name": "python",
   "nbconvert_exporter": "python",
   "pygments_lexer": "ipython3",
   "version": "3.11.3"
  }
 },
 "nbformat": 4,
 "nbformat_minor": 5
}
