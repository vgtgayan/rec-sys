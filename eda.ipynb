{
 "cells": [
  {
   "cell_type": "code",
   "execution_count": 5,
   "id": "3950badc-d132-40c0-9262-42b6c6c1713d",
   "metadata": {},
   "outputs": [],
   "source": [
    "import pandas as pd\n",
    "import matplotlib.pyplot as plt\n",
    "from matplotlib.ticker import StrMethodFormatter"
   ]
  },
  {
   "cell_type": "code",
   "execution_count": 2,
   "id": "9df9ed4a-c003-4200-bb04-0aaf90c4b01d",
   "metadata": {},
   "outputs": [
    {
     "data": {
      "text/html": [
       "<div>\n",
       "<style scoped>\n",
       "    .dataframe tbody tr th:only-of-type {\n",
       "        vertical-align: middle;\n",
       "    }\n",
       "\n",
       "    .dataframe tbody tr th {\n",
       "        vertical-align: top;\n",
       "    }\n",
       "\n",
       "    .dataframe thead th {\n",
       "        text-align: right;\n",
       "    }\n",
       "</style>\n",
       "<table border=\"1\" class=\"dataframe\">\n",
       "  <thead>\n",
       "    <tr style=\"text-align: right;\">\n",
       "      <th></th>\n",
       "      <th>UserId</th>\n",
       "      <th>ProductId</th>\n",
       "      <th>Rating</th>\n",
       "      <th>Timestamp</th>\n",
       "    </tr>\n",
       "  </thead>\n",
       "  <tbody>\n",
       "    <tr>\n",
       "      <th>0</th>\n",
       "      <td>A39HTATAQ9V7YF</td>\n",
       "      <td>0205616461</td>\n",
       "      <td>5.0</td>\n",
       "      <td>1369699200</td>\n",
       "    </tr>\n",
       "    <tr>\n",
       "      <th>1</th>\n",
       "      <td>A3JM6GV9MNOF9X</td>\n",
       "      <td>0558925278</td>\n",
       "      <td>3.0</td>\n",
       "      <td>1355443200</td>\n",
       "    </tr>\n",
       "    <tr>\n",
       "      <th>2</th>\n",
       "      <td>A1Z513UWSAAO0F</td>\n",
       "      <td>0558925278</td>\n",
       "      <td>5.0</td>\n",
       "      <td>1404691200</td>\n",
       "    </tr>\n",
       "    <tr>\n",
       "      <th>3</th>\n",
       "      <td>A1WMRR494NWEWV</td>\n",
       "      <td>0733001998</td>\n",
       "      <td>4.0</td>\n",
       "      <td>1382572800</td>\n",
       "    </tr>\n",
       "    <tr>\n",
       "      <th>4</th>\n",
       "      <td>A3IAAVS479H7M7</td>\n",
       "      <td>0737104473</td>\n",
       "      <td>1.0</td>\n",
       "      <td>1274227200</td>\n",
       "    </tr>\n",
       "    <tr>\n",
       "      <th>...</th>\n",
       "      <td>...</td>\n",
       "      <td>...</td>\n",
       "      <td>...</td>\n",
       "      <td>...</td>\n",
       "    </tr>\n",
       "    <tr>\n",
       "      <th>2023065</th>\n",
       "      <td>A3DEHKPFANB8VA</td>\n",
       "      <td>B00LORWRJA</td>\n",
       "      <td>5.0</td>\n",
       "      <td>1405296000</td>\n",
       "    </tr>\n",
       "    <tr>\n",
       "      <th>2023066</th>\n",
       "      <td>A3DEHKPFANB8VA</td>\n",
       "      <td>B00LOS7MEE</td>\n",
       "      <td>5.0</td>\n",
       "      <td>1405296000</td>\n",
       "    </tr>\n",
       "    <tr>\n",
       "      <th>2023067</th>\n",
       "      <td>AG9TJLJUN5OM3</td>\n",
       "      <td>B00LP2YB8E</td>\n",
       "      <td>5.0</td>\n",
       "      <td>1405382400</td>\n",
       "    </tr>\n",
       "    <tr>\n",
       "      <th>2023068</th>\n",
       "      <td>AYBIB14QOI9PC</td>\n",
       "      <td>B00LPVG6V0</td>\n",
       "      <td>5.0</td>\n",
       "      <td>1405555200</td>\n",
       "    </tr>\n",
       "    <tr>\n",
       "      <th>2023069</th>\n",
       "      <td>A1PB6OT0OOPKNQ</td>\n",
       "      <td>B00LU0LTOU</td>\n",
       "      <td>5.0</td>\n",
       "      <td>1405641600</td>\n",
       "    </tr>\n",
       "  </tbody>\n",
       "</table>\n",
       "<p>2023070 rows × 4 columns</p>\n",
       "</div>"
      ],
      "text/plain": [
       "                 UserId   ProductId  Rating   Timestamp\n",
       "0        A39HTATAQ9V7YF  0205616461     5.0  1369699200\n",
       "1        A3JM6GV9MNOF9X  0558925278     3.0  1355443200\n",
       "2        A1Z513UWSAAO0F  0558925278     5.0  1404691200\n",
       "3        A1WMRR494NWEWV  0733001998     4.0  1382572800\n",
       "4        A3IAAVS479H7M7  0737104473     1.0  1274227200\n",
       "...                 ...         ...     ...         ...\n",
       "2023065  A3DEHKPFANB8VA  B00LORWRJA     5.0  1405296000\n",
       "2023066  A3DEHKPFANB8VA  B00LOS7MEE     5.0  1405296000\n",
       "2023067   AG9TJLJUN5OM3  B00LP2YB8E     5.0  1405382400\n",
       "2023068   AYBIB14QOI9PC  B00LPVG6V0     5.0  1405555200\n",
       "2023069  A1PB6OT0OOPKNQ  B00LU0LTOU     5.0  1405641600\n",
       "\n",
       "[2023070 rows x 4 columns]"
      ]
     },
     "execution_count": 2,
     "metadata": {},
     "output_type": "execute_result"
    }
   ],
   "source": [
    "df = pd.read_csv(\"ratings_Beauty.csv\")\n",
    "df"
   ]
  },
  {
   "cell_type": "code",
   "execution_count": 3,
   "id": "6f96e9fa-50b8-4c0f-888c-1c3a139ab92c",
   "metadata": {},
   "outputs": [
    {
     "name": "stdout",
     "output_type": "stream",
     "text": [
      "<class 'pandas.core.frame.DataFrame'>\n",
      "RangeIndex: 2023070 entries, 0 to 2023069\n",
      "Data columns (total 4 columns):\n",
      " #   Column     Dtype  \n",
      "---  ------     -----  \n",
      " 0   UserId     object \n",
      " 1   ProductId  object \n",
      " 2   Rating     float64\n",
      " 3   Timestamp  int64  \n",
      "dtypes: float64(1), int64(1), object(2)\n",
      "memory usage: 61.7+ MB\n"
     ]
    }
   ],
   "source": [
    "df.info()"
   ]
  },
  {
   "cell_type": "code",
   "execution_count": 5,
   "id": "afad5762-1519-48e0-8700-882b57056a26",
   "metadata": {},
   "outputs": [
    {
     "data": {
      "text/html": [
       "<div>\n",
       "<style scoped>\n",
       "    .dataframe tbody tr th:only-of-type {\n",
       "        vertical-align: middle;\n",
       "    }\n",
       "\n",
       "    .dataframe tbody tr th {\n",
       "        vertical-align: top;\n",
       "    }\n",
       "\n",
       "    .dataframe thead th {\n",
       "        text-align: right;\n",
       "    }\n",
       "</style>\n",
       "<table border=\"1\" class=\"dataframe\">\n",
       "  <thead>\n",
       "    <tr style=\"text-align: right;\">\n",
       "      <th></th>\n",
       "      <th>Rating</th>\n",
       "      <th>Timestamp</th>\n",
       "    </tr>\n",
       "  </thead>\n",
       "  <tbody>\n",
       "    <tr>\n",
       "      <th>count</th>\n",
       "      <td>2.023070e+06</td>\n",
       "      <td>2.023070e+06</td>\n",
       "    </tr>\n",
       "    <tr>\n",
       "      <th>mean</th>\n",
       "      <td>4.149036e+00</td>\n",
       "      <td>1.360389e+09</td>\n",
       "    </tr>\n",
       "    <tr>\n",
       "      <th>std</th>\n",
       "      <td>1.311505e+00</td>\n",
       "      <td>4.611860e+07</td>\n",
       "    </tr>\n",
       "    <tr>\n",
       "      <th>min</th>\n",
       "      <td>1.000000e+00</td>\n",
       "      <td>9.087552e+08</td>\n",
       "    </tr>\n",
       "    <tr>\n",
       "      <th>25%</th>\n",
       "      <td>4.000000e+00</td>\n",
       "      <td>1.350259e+09</td>\n",
       "    </tr>\n",
       "    <tr>\n",
       "      <th>50%</th>\n",
       "      <td>5.000000e+00</td>\n",
       "      <td>1.372810e+09</td>\n",
       "    </tr>\n",
       "    <tr>\n",
       "      <th>75%</th>\n",
       "      <td>5.000000e+00</td>\n",
       "      <td>1.391472e+09</td>\n",
       "    </tr>\n",
       "    <tr>\n",
       "      <th>max</th>\n",
       "      <td>5.000000e+00</td>\n",
       "      <td>1.406074e+09</td>\n",
       "    </tr>\n",
       "  </tbody>\n",
       "</table>\n",
       "</div>"
      ],
      "text/plain": [
       "             Rating     Timestamp\n",
       "count  2.023070e+06  2.023070e+06\n",
       "mean   4.149036e+00  1.360389e+09\n",
       "std    1.311505e+00  4.611860e+07\n",
       "min    1.000000e+00  9.087552e+08\n",
       "25%    4.000000e+00  1.350259e+09\n",
       "50%    5.000000e+00  1.372810e+09\n",
       "75%    5.000000e+00  1.391472e+09\n",
       "max    5.000000e+00  1.406074e+09"
      ]
     },
     "execution_count": 5,
     "metadata": {},
     "output_type": "execute_result"
    }
   ],
   "source": [
    "df.describe()"
   ]
  },
  {
   "cell_type": "code",
   "execution_count": 3,
   "id": "bd206928-0561-4130-a15a-15be7c61420d",
   "metadata": {},
   "outputs": [
    {
     "data": {
      "text/plain": [
       "<Axes: >"
      ]
     },
     "execution_count": 3,
     "metadata": {},
     "output_type": "execute_result"
    },
    {
     "data": {
      "image/png": "[encoded data removed]",
      "text/plain": [
       "<Figure size 640x480 with 1 Axes>"
      ]
     },
     "metadata": {},
     "output_type": "display_data"
    }
   ],
   "source": [
    "df.Rating.hist()"
   ]
  },
  {
   "cell_type": "code",
   "execution_count": 11,
   "id": "79957067-5ce6-4c19-b36d-2e05ba126089",
   "metadata": {
    "tags": []
   },
   "outputs": [
    {
     "data": {
      "image/png": "[encoded data removed]",
      "text/plain": [
       "<Figure size 640x480 with 1 Axes>"
      ]
     },
     "metadata": {},
     "output_type": "display_data"
    }
   ],
   "source": [
    "ax = df.hist(column='Rating', grid=False, color='#86bf91')\n",
    "\n",
    "for x in ax[0]:\n",
    "    # Despine\n",
    "    x.spines['right'].set_visible(False)\n",
    "    x.spines['top'].set_visible(False)\n",
    "    x.spines['left'].set_visible(False)\n",
    "\n",
    "    # Switch off ticks\n",
    "    x.tick_params(axis=\"both\", which=\"both\", bottom=\"off\", top=\"off\", labelbottom=\"on\", left=\"off\", right=\"off\", labelleft=\"on\")\n",
    "\n",
    "    # Draw horizontal axis lines\n",
    "    vals = x.get_yticks()\n",
    "    for tick in vals:\n",
    "        x.axhline(y=tick, linestyle='dashed', alpha=0.4, color='#eeeeee', zorder=1)\n",
    "\n",
    "    # Remove title\n",
    "    x.set_title(\"\")\n",
    "\n",
    "    # Set x-axis label\n",
    "    x.set_xlabel(\"Rating\", labelpad=20, weight='bold', size=12)\n",
    "\n",
    "    # Set y-axis label\n",
    "    x.set_ylabel(\"Frequency\", labelpad=20, weight='bold', size=12)\n",
    "\n",
    "    # Format y-axis label\n",
    "    x.yaxis.set_major_formatter(StrMethodFormatter('{x:,g}'))"
   ]
  },
  {
   "cell_type": "code",
   "execution_count": 9,
   "id": "f10055e0-67a9-426d-a1c4-8f2a41d84c39",
   "metadata": {},
   "outputs": [
    {
     "data": {
      "text/plain": [
       "0"
      ]
     },
     "execution_count": 9,
     "metadata": {},
     "output_type": "execute_result"
    }
   ],
   "source": [
    "# Check for duplicates\n",
    "df.duplicated(subset=['UserId', 'ProductId']).sum()"
   ]
  },
  {
   "cell_type": "markdown",
   "id": "648acda6-c869-46f5-bf5e-cd4c2049bdab",
   "metadata": {},
   "source": [
    "Get unique no: of users and products"
   ]
  },
  {
   "cell_type": "code",
   "execution_count": 10,
   "id": "c8b5dae7-331a-4c58-8c67-5161f90a13e2",
   "metadata": {},
   "outputs": [
    {
     "data": {
      "text/plain": [
       "1210271"
      ]
     },
     "execution_count": 10,
     "metadata": {},
     "output_type": "execute_result"
    }
   ],
   "source": [
    "# Unique users\n",
    "df.UserId.nunique()"
   ]
  },
  {
   "cell_type": "code",
   "execution_count": 11,
   "id": "01d23312-08be-45f8-bb1c-f67e99dfde8b",
   "metadata": {},
   "outputs": [
    {
     "data": {
      "text/plain": [
       "249274"
      ]
     },
     "execution_count": 11,
     "metadata": {},
     "output_type": "execute_result"
    }
   ],
   "source": [
    "# Unique products\n",
    "df.ProductId.nunique()"
   ]
  },
  {
   "cell_type": "code",
   "execution_count": 17,
   "id": "a8d2e1ce-9f55-4f25-a87a-21c2e9d4a7cf",
   "metadata": {},
   "outputs": [
    {
     "data": {
      "text/html": [
       "<div>\n",
       "<style scoped>\n",
       "    .dataframe tbody tr th:only-of-type {\n",
       "        vertical-align: middle;\n",
       "    }\n",
       "\n",
       "    .dataframe tbody tr th {\n",
       "        vertical-align: top;\n",
       "    }\n",
       "\n",
       "    .dataframe thead th {\n",
       "        text-align: right;\n",
       "    }\n",
       "</style>\n",
       "<table border=\"1\" class=\"dataframe\">\n",
       "  <thead>\n",
       "    <tr style=\"text-align: right;\">\n",
       "      <th></th>\n",
       "      <th>Rating</th>\n",
       "      <th>sales</th>\n",
       "    </tr>\n",
       "    <tr>\n",
       "      <th>ProductId</th>\n",
       "      <th></th>\n",
       "      <th></th>\n",
       "    </tr>\n",
       "  </thead>\n",
       "  <tbody>\n",
       "    <tr>\n",
       "      <th>0205616461</th>\n",
       "      <td>1</td>\n",
       "      <td>1</td>\n",
       "    </tr>\n",
       "    <tr>\n",
       "      <th>0558925278</th>\n",
       "      <td>2</td>\n",
       "      <td>2</td>\n",
       "    </tr>\n",
       "    <tr>\n",
       "      <th>0733001998</th>\n",
       "      <td>1</td>\n",
       "      <td>1</td>\n",
       "    </tr>\n",
       "    <tr>\n",
       "      <th>0737104473</th>\n",
       "      <td>1</td>\n",
       "      <td>1</td>\n",
       "    </tr>\n",
       "    <tr>\n",
       "      <th>0762451459</th>\n",
       "      <td>1</td>\n",
       "      <td>1</td>\n",
       "    </tr>\n",
       "    <tr>\n",
       "      <th>...</th>\n",
       "      <td>...</td>\n",
       "      <td>...</td>\n",
       "    </tr>\n",
       "    <tr>\n",
       "      <th>B00LORWRJA</th>\n",
       "      <td>1</td>\n",
       "      <td>1</td>\n",
       "    </tr>\n",
       "    <tr>\n",
       "      <th>B00LOS7MEE</th>\n",
       "      <td>1</td>\n",
       "      <td>1</td>\n",
       "    </tr>\n",
       "    <tr>\n",
       "      <th>B00LP2YB8E</th>\n",
       "      <td>1</td>\n",
       "      <td>1</td>\n",
       "    </tr>\n",
       "    <tr>\n",
       "      <th>B00LPVG6V0</th>\n",
       "      <td>1</td>\n",
       "      <td>1</td>\n",
       "    </tr>\n",
       "    <tr>\n",
       "      <th>B00LU0LTOU</th>\n",
       "      <td>1</td>\n",
       "      <td>1</td>\n",
       "    </tr>\n",
       "  </tbody>\n",
       "</table>\n",
       "<p>249274 rows × 2 columns</p>\n",
       "</div>"
      ],
      "text/plain": [
       "            Rating  sales\n",
       "ProductId                \n",
       "0205616461       1      1\n",
       "0558925278       2      2\n",
       "0733001998       1      1\n",
       "0737104473       1      1\n",
       "0762451459       1      1\n",
       "...            ...    ...\n",
       "B00LORWRJA       1      1\n",
       "B00LOS7MEE       1      1\n",
       "B00LP2YB8E       1      1\n",
       "B00LPVG6V0       1      1\n",
       "B00LU0LTOU       1      1\n",
       "\n",
       "[249274 rows x 2 columns]"
      ]
     },
     "execution_count": 17,
     "metadata": {},
     "output_type": "execute_result"
    }
   ],
   "source": [
    "agg_df['sales'] = pd.DataFrame(df.groupby('ProductId')['Rating'].count())\n",
    "agg_df"
   ]
  },
  {
   "cell_type": "code",
   "execution_count": 20,
   "id": "effb4a65-458c-49ce-ae6e-5b96a91ebf98",
   "metadata": {
    "tags": []
   },
   "outputs": [],
   "source": [
    "agg_df = agg_df.drop('Rating', axis=1)"
   ]
  },
  {
   "cell_type": "code",
   "execution_count": 23,
   "id": "2bd23e4c-eb90-4512-ba89-7a7f633fe214",
   "metadata": {
    "tags": []
   },
   "outputs": [
    {
     "data": {
      "text/html": [
       "<div>\n",
       "<style scoped>\n",
       "    .dataframe tbody tr th:only-of-type {\n",
       "        vertical-align: middle;\n",
       "    }\n",
       "\n",
       "    .dataframe tbody tr th {\n",
       "        vertical-align: top;\n",
       "    }\n",
       "\n",
       "    .dataframe thead th {\n",
       "        text-align: right;\n",
       "    }\n",
       "</style>\n",
       "<table border=\"1\" class=\"dataframe\">\n",
       "  <thead>\n",
       "    <tr style=\"text-align: right;\">\n",
       "      <th></th>\n",
       "      <th>sales</th>\n",
       "    </tr>\n",
       "    <tr>\n",
       "      <th>ProductId</th>\n",
       "      <th></th>\n",
       "    </tr>\n",
       "  </thead>\n",
       "  <tbody>\n",
       "    <tr>\n",
       "      <th>B001MA0QY2</th>\n",
       "      <td>7533</td>\n",
       "    </tr>\n",
       "    <tr>\n",
       "      <th>B0009V1YR8</th>\n",
       "      <td>2869</td>\n",
       "    </tr>\n",
       "    <tr>\n",
       "      <th>B0043OYFKU</th>\n",
       "      <td>2477</td>\n",
       "    </tr>\n",
       "    <tr>\n",
       "      <th>B0000YUXI0</th>\n",
       "      <td>2143</td>\n",
       "    </tr>\n",
       "    <tr>\n",
       "      <th>B003V265QW</th>\n",
       "      <td>2088</td>\n",
       "    </tr>\n",
       "    <tr>\n",
       "      <th>B000ZMBSPE</th>\n",
       "      <td>2041</td>\n",
       "    </tr>\n",
       "    <tr>\n",
       "      <th>B003BQ6QXK</th>\n",
       "      <td>1918</td>\n",
       "    </tr>\n",
       "    <tr>\n",
       "      <th>B004OHQR1Q</th>\n",
       "      <td>1885</td>\n",
       "    </tr>\n",
       "    <tr>\n",
       "      <th>B00121UVU0</th>\n",
       "      <td>1838</td>\n",
       "    </tr>\n",
       "    <tr>\n",
       "      <th>B000FS05VG</th>\n",
       "      <td>1589</td>\n",
       "    </tr>\n",
       "  </tbody>\n",
       "</table>\n",
       "</div>"
      ],
      "text/plain": [
       "            sales\n",
       "ProductId        \n",
       "B001MA0QY2   7533\n",
       "B0009V1YR8   2869\n",
       "B0043OYFKU   2477\n",
       "B0000YUXI0   2143\n",
       "B003V265QW   2088\n",
       "B000ZMBSPE   2041\n",
       "B003BQ6QXK   1918\n",
       "B004OHQR1Q   1885\n",
       "B00121UVU0   1838\n",
       "B000FS05VG   1589"
      ]
     },
     "execution_count": 23,
     "metadata": {},
     "output_type": "execute_result"
    }
   ],
   "source": [
    "best_seller_df = agg_df.sort_values('sales', ascending=False).head(10)\n",
    "best_seller_df"
   ]
  },
  {
   "cell_type": "code",
   "execution_count": 26,
   "id": "7e43bbc0-3d4f-4696-bd89-1634f86b783b",
   "metadata": {
    "tags": []
   },
   "outputs": [
    {
     "data": {
      "text/plain": [
       "<Axes: xlabel='ProductId'>"
      ]
     },
     "execution_count": 26,
     "metadata": {},
     "output_type": "execute_result"
    },
    {
     "data": {
      "image/png": "[encoded data removed]",
      "text/plain": [
       "<Figure size 640x480 with 1 Axes>"
      ]
     },
     "metadata": {},
     "output_type": "display_data"
    }
   ],
   "source": [
    "best_seller_df.plot(y='sales', kind=\"bar\", color='#86bf91')"
   ]
  },
  {
   "cell_type": "code",
   "execution_count": 28,
   "id": "aa72dac7-ace7-4ad4-ae2f-16c9c8afede9",
   "metadata": {
    "tags": []
   },
   "outputs": [
    {
     "data": {
      "text/html": [
       "<div>\n",
       "<style scoped>\n",
       "    .dataframe tbody tr th:only-of-type {\n",
       "        vertical-align: middle;\n",
       "    }\n",
       "\n",
       "    .dataframe tbody tr th {\n",
       "        vertical-align: top;\n",
       "    }\n",
       "\n",
       "    .dataframe thead th {\n",
       "        text-align: right;\n",
       "    }\n",
       "</style>\n",
       "<table border=\"1\" class=\"dataframe\">\n",
       "  <thead>\n",
       "    <tr style=\"text-align: right;\">\n",
       "      <th></th>\n",
       "      <th>Rating</th>\n",
       "      <th>Transactions</th>\n",
       "    </tr>\n",
       "    <tr>\n",
       "      <th>UserId</th>\n",
       "      <th></th>\n",
       "      <th></th>\n",
       "    </tr>\n",
       "  </thead>\n",
       "  <tbody>\n",
       "    <tr>\n",
       "      <th>A00008821J0F472NDY6A2</th>\n",
       "      <td>1</td>\n",
       "      <td>1</td>\n",
       "    </tr>\n",
       "    <tr>\n",
       "      <th>A000186437REL8X2RW8UW</th>\n",
       "      <td>1</td>\n",
       "      <td>1</td>\n",
       "    </tr>\n",
       "    <tr>\n",
       "      <th>A0002574WYJMBWKNCPY8</th>\n",
       "      <td>1</td>\n",
       "      <td>1</td>\n",
       "    </tr>\n",
       "    <tr>\n",
       "      <th>A00029263J863WSR0TDRS</th>\n",
       "      <td>1</td>\n",
       "      <td>1</td>\n",
       "    </tr>\n",
       "    <tr>\n",
       "      <th>A00031961JI1CBNV98TW</th>\n",
       "      <td>1</td>\n",
       "      <td>1</td>\n",
       "    </tr>\n",
       "    <tr>\n",
       "      <th>...</th>\n",
       "      <td>...</td>\n",
       "      <td>...</td>\n",
       "    </tr>\n",
       "    <tr>\n",
       "      <th>AZZZLZXCEE4WK</th>\n",
       "      <td>2</td>\n",
       "      <td>2</td>\n",
       "    </tr>\n",
       "    <tr>\n",
       "      <th>AZZZMSZI9LKE6</th>\n",
       "      <td>4</td>\n",
       "      <td>4</td>\n",
       "    </tr>\n",
       "    <tr>\n",
       "      <th>AZZZO4QCZROW8</th>\n",
       "      <td>1</td>\n",
       "      <td>1</td>\n",
       "    </tr>\n",
       "    <tr>\n",
       "      <th>AZZZRS1YZ8HVP</th>\n",
       "      <td>1</td>\n",
       "      <td>1</td>\n",
       "    </tr>\n",
       "    <tr>\n",
       "      <th>AZZZU2TD7Q3ET</th>\n",
       "      <td>1</td>\n",
       "      <td>1</td>\n",
       "    </tr>\n",
       "  </tbody>\n",
       "</table>\n",
       "<p>1210271 rows × 2 columns</p>\n",
       "</div>"
      ],
      "text/plain": [
       "                       Rating  Transactions\n",
       "UserId                                     \n",
       "A00008821J0F472NDY6A2       1             1\n",
       "A000186437REL8X2RW8UW       1             1\n",
       "A0002574WYJMBWKNCPY8        1             1\n",
       "A00029263J863WSR0TDRS       1             1\n",
       "A00031961JI1CBNV98TW        1             1\n",
       "...                       ...           ...\n",
       "AZZZLZXCEE4WK               2             2\n",
       "AZZZMSZI9LKE6               4             4\n",
       "AZZZO4QCZROW8               1             1\n",
       "AZZZRS1YZ8HVP               1             1\n",
       "AZZZU2TD7Q3ET               1             1\n",
       "\n",
       "[1210271 rows x 2 columns]"
      ]
     },
     "execution_count": 28,
     "metadata": {},
     "output_type": "execute_result"
    }
   ],
   "source": [
    "user_agg_df['Transactions'] = pd.DataFrame(df.groupby('UserId')['Rating'].count())\n",
    "user_agg_df"
   ]
  },
  {
   "cell_type": "code",
   "execution_count": 29,
   "id": "3d081c50-1db5-4c99-845f-c7055d0e9502",
   "metadata": {
    "tags": []
   },
   "outputs": [],
   "source": [
    "user_agg_df = user_agg_df.drop('Rating', axis=1)"
   ]
  },
  {
   "cell_type": "code",
   "execution_count": 30,
   "id": "0fd400c2-c6d7-495d-9126-826b8013abb1",
   "metadata": {
    "tags": []
   },
   "outputs": [
    {
     "data": {
      "text/html": [
       "<div>\n",
       "<style scoped>\n",
       "    .dataframe tbody tr th:only-of-type {\n",
       "        vertical-align: middle;\n",
       "    }\n",
       "\n",
       "    .dataframe tbody tr th {\n",
       "        vertical-align: top;\n",
       "    }\n",
       "\n",
       "    .dataframe thead th {\n",
       "        text-align: right;\n",
       "    }\n",
       "</style>\n",
       "<table border=\"1\" class=\"dataframe\">\n",
       "  <thead>\n",
       "    <tr style=\"text-align: right;\">\n",
       "      <th></th>\n",
       "      <th>Transactions</th>\n",
       "    </tr>\n",
       "    <tr>\n",
       "      <th>UserId</th>\n",
       "      <th></th>\n",
       "    </tr>\n",
       "  </thead>\n",
       "  <tbody>\n",
       "    <tr>\n",
       "      <th>A3KEZLJ59C1JVH</th>\n",
       "      <td>389</td>\n",
       "    </tr>\n",
       "    <tr>\n",
       "      <th>A281NPSIMI1C2R</th>\n",
       "      <td>336</td>\n",
       "    </tr>\n",
       "    <tr>\n",
       "      <th>A3M174IC0VXOS2</th>\n",
       "      <td>326</td>\n",
       "    </tr>\n",
       "    <tr>\n",
       "      <th>A2V5R832QCSOMX</th>\n",
       "      <td>278</td>\n",
       "    </tr>\n",
       "    <tr>\n",
       "      <th>A3LJLRIZL38GG3</th>\n",
       "      <td>276</td>\n",
       "    </tr>\n",
       "    <tr>\n",
       "      <th>ALQGOMOY1F5X9</th>\n",
       "      <td>275</td>\n",
       "    </tr>\n",
       "    <tr>\n",
       "      <th>AKMEY1BSHSDG7</th>\n",
       "      <td>269</td>\n",
       "    </tr>\n",
       "    <tr>\n",
       "      <th>A3R9H6OKZHHRJD</th>\n",
       "      <td>259</td>\n",
       "    </tr>\n",
       "    <tr>\n",
       "      <th>A1M04H40ZVGWVG</th>\n",
       "      <td>249</td>\n",
       "    </tr>\n",
       "    <tr>\n",
       "      <th>A1RRMZKOMZ2M7J</th>\n",
       "      <td>225</td>\n",
       "    </tr>\n",
       "  </tbody>\n",
       "</table>\n",
       "</div>"
      ],
      "text/plain": [
       "                Transactions\n",
       "UserId                      \n",
       "A3KEZLJ59C1JVH           389\n",
       "A281NPSIMI1C2R           336\n",
       "A3M174IC0VXOS2           326\n",
       "A2V5R832QCSOMX           278\n",
       "A3LJLRIZL38GG3           276\n",
       "ALQGOMOY1F5X9            275\n",
       "AKMEY1BSHSDG7            269\n",
       "A3R9H6OKZHHRJD           259\n",
       "A1M04H40ZVGWVG           249\n",
       "A1RRMZKOMZ2M7J           225"
      ]
     },
     "execution_count": 30,
     "metadata": {},
     "output_type": "execute_result"
    }
   ],
   "source": [
    "most_active_users_df = user_agg_df.sort_values('Transactions', ascending=False).head(10)\n",
    "most_active_users_df"
   ]
  },
  {
   "cell_type": "code",
   "execution_count": 31,
   "id": "d19d83e7-7160-4ff4-827e-c5975000b830",
   "metadata": {
    "tags": []
   },
   "outputs": [
    {
     "data": {
      "text/plain": [
       "<Axes: xlabel='UserId'>"
      ]
     },
     "execution_count": 31,
     "metadata": {},
     "output_type": "execute_result"
    },
    {
     "data": {
      "image/png": "[encoded data removed]",
      "text/plain": [
       "<Figure size 640x480 with 1 Axes>"
      ]
     },
     "metadata": {},
     "output_type": "display_data"
    }
   ],
   "source": [
    "most_active_users_df.plot(y='Transactions', kind=\"bar\", color='#86bf91')"
   ]
  },
  {
   "cell_type": "code",
   "execution_count": null,
   "id": "4075e6b3-7811-4a9b-852a-4870a95e0f24",
   "metadata": {},
   "outputs": [],
   "source": []
  }
 ],
 "metadata": {
  "kernelspec": {
   "display_name": "Python 3 (ipykernel)",
   "language": "python",
   "name": "python3"
  },
  "language_info": {
   "codemirror_mode": {
    "name": "ipython",
    "version": 3
   },
   "file_extension": ".py",
   "mimetype": "text/x-python",
   "name": "python",
   "nbconvert_exporter": "python",
   "pygments_lexer": "ipython3",
   "version": "3.11.3"
  }
 },
 "nbformat": 4,
 "nbformat_minor": 5
}
